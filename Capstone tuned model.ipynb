{
 "cells": [
  {
   "cell_type": "markdown",
   "metadata": {},
   "source": [
    "# Problem Statement"
   ]
  },
  {
   "cell_type": "markdown",
   "metadata": {},
   "source": [
    "An Insurance Company should be able to identify prospective vehicle Insurance holders from within its existing pool of health Insurance holders. Successful cross selling efforts could also strengthen the brand’s image and position in the Insurance market. "
   ]
  },
  {
   "cell_type": "markdown",
   "metadata": {},
   "source": [
    "# Data Description"
   ]
  },
  {
   "cell_type": "markdown",
   "metadata": {},
   "source": [
    "This dataset contains information about customers who all are buying Health Insurance.Our aim is to find that which customer is ready to take Vehicle Insurance also.\n",
    "\n",
    "**Id:**Unique ID for customers\n",
    "\n",
    "**Gender:** Gender of the customer\n",
    "\n",
    "**Age:**Age of the customer\n",
    "\n",
    "**Driving_License:**0: Customer does not have DL. 1: Customer already has DL\n",
    "\n",
    "**Region_Code:**Unique code for region of the customer\n",
    "\n",
    "**Previously_Insured:**0: Customer does not have Vehicle Insurance. 1:Customer already has Vehicle       Insurance\n",
    "\n",
    "**Vehicle_Age**: Age of the Vehicle\n",
    "\n",
    "**Vehicle_Damage**: 0: Customer didn’t get his/her damaged vehicle in the past. 1: Customer got his/her vehicle damaged in the past\n",
    "\n",
    "**Annual_Premium**: The amount needs to pay as premium in the year\n",
    "\n",
    "**PolicySalesChannel**: Anonymized Code for the channel of outreaching to the customer, i.e. Different Agents, Over Mail, Over Phone, In person, etc.\n",
    "\n",
    "**Vintage**: Number of Days customer has been associated with the company\n",
    "\n",
    "**Response**: 0:Customer is not interested. 1: Customer is interested\n",
    "\n"
   ]
  },
  {
   "cell_type": "code",
   "execution_count": 18,
   "metadata": {
    "execution": {
     "iopub.execute_input": "2021-09-17T01:56:43.388543Z",
     "iopub.status.busy": "2021-09-17T01:56:43.388158Z",
     "iopub.status.idle": "2021-09-17T01:56:43.394620Z",
     "shell.execute_reply": "2021-09-17T01:56:43.393821Z",
     "shell.execute_reply.started": "2021-09-17T01:56:43.388507Z"
    }
   },
   "outputs": [],
   "source": [
    "import pandas as pd\n",
    "import numpy as np\n",
    "import seaborn as sns\n",
    "import matplotlib.pyplot as plt\n",
    "import scipy.stats as stats\n",
    "import warnings\n",
    "warnings.filterwarnings('ignore')"
   ]
  },
  {
   "cell_type": "code",
   "execution_count": 19,
   "metadata": {
    "execution": {
     "iopub.execute_input": "2021-09-17T01:56:43.401090Z",
     "iopub.status.busy": "2021-09-17T01:56:43.400354Z",
     "iopub.status.idle": "2021-09-17T01:56:44.022059Z",
     "shell.execute_reply": "2021-09-17T01:56:44.021310Z",
     "shell.execute_reply.started": "2021-09-17T01:56:43.401053Z"
    }
   },
   "outputs": [],
   "source": [
    "df = pd.read_csv('D:\\\\Great learning\\\\Course\\\\Capstone\\\\Health Insurance Cross Sell Prediction\\\\train.csv')"
   ]
  },
  {
   "cell_type": "markdown",
   "metadata": {},
   "source": [
    "# Dataset Description"
   ]
  },
  {
   "cell_type": "code",
   "execution_count": 20,
   "metadata": {
    "execution": {
     "iopub.execute_input": "2021-09-17T01:56:44.024451Z",
     "iopub.status.busy": "2021-09-17T01:56:44.023579Z",
     "iopub.status.idle": "2021-09-17T01:56:44.055653Z",
     "shell.execute_reply": "2021-09-17T01:56:44.054526Z",
     "shell.execute_reply.started": "2021-09-17T01:56:44.024407Z"
    }
   },
   "outputs": [
    {
     "data": {
      "text/html": [
       "<div>\n",
       "<style scoped>\n",
       "    .dataframe tbody tr th:only-of-type {\n",
       "        vertical-align: middle;\n",
       "    }\n",
       "\n",
       "    .dataframe tbody tr th {\n",
       "        vertical-align: top;\n",
       "    }\n",
       "\n",
       "    .dataframe thead th {\n",
       "        text-align: right;\n",
       "    }\n",
       "</style>\n",
       "<table border=\"1\" class=\"dataframe\">\n",
       "  <thead>\n",
       "    <tr style=\"text-align: right;\">\n",
       "      <th></th>\n",
       "      <th>id</th>\n",
       "      <th>Gender</th>\n",
       "      <th>Age</th>\n",
       "      <th>Driving_License</th>\n",
       "      <th>Region_Code</th>\n",
       "      <th>Previously_Insured</th>\n",
       "      <th>Vehicle_Age</th>\n",
       "      <th>Vehicle_Damage</th>\n",
       "      <th>Annual_Premium</th>\n",
       "      <th>Policy_Sales_Channel</th>\n",
       "      <th>Vintage</th>\n",
       "      <th>Response</th>\n",
       "    </tr>\n",
       "  </thead>\n",
       "  <tbody>\n",
       "    <tr>\n",
       "      <th>0</th>\n",
       "      <td>1</td>\n",
       "      <td>Male</td>\n",
       "      <td>44</td>\n",
       "      <td>1</td>\n",
       "      <td>28.0</td>\n",
       "      <td>0</td>\n",
       "      <td>&gt; 2 Years</td>\n",
       "      <td>Yes</td>\n",
       "      <td>40454.0</td>\n",
       "      <td>26.0</td>\n",
       "      <td>217</td>\n",
       "      <td>1</td>\n",
       "    </tr>\n",
       "    <tr>\n",
       "      <th>1</th>\n",
       "      <td>2</td>\n",
       "      <td>Male</td>\n",
       "      <td>76</td>\n",
       "      <td>1</td>\n",
       "      <td>3.0</td>\n",
       "      <td>0</td>\n",
       "      <td>1-2 Year</td>\n",
       "      <td>No</td>\n",
       "      <td>33536.0</td>\n",
       "      <td>26.0</td>\n",
       "      <td>183</td>\n",
       "      <td>0</td>\n",
       "    </tr>\n",
       "    <tr>\n",
       "      <th>2</th>\n",
       "      <td>3</td>\n",
       "      <td>Male</td>\n",
       "      <td>47</td>\n",
       "      <td>1</td>\n",
       "      <td>28.0</td>\n",
       "      <td>0</td>\n",
       "      <td>&gt; 2 Years</td>\n",
       "      <td>Yes</td>\n",
       "      <td>38294.0</td>\n",
       "      <td>26.0</td>\n",
       "      <td>27</td>\n",
       "      <td>1</td>\n",
       "    </tr>\n",
       "    <tr>\n",
       "      <th>3</th>\n",
       "      <td>4</td>\n",
       "      <td>Male</td>\n",
       "      <td>21</td>\n",
       "      <td>1</td>\n",
       "      <td>11.0</td>\n",
       "      <td>1</td>\n",
       "      <td>&lt; 1 Year</td>\n",
       "      <td>No</td>\n",
       "      <td>28619.0</td>\n",
       "      <td>152.0</td>\n",
       "      <td>203</td>\n",
       "      <td>0</td>\n",
       "    </tr>\n",
       "    <tr>\n",
       "      <th>4</th>\n",
       "      <td>5</td>\n",
       "      <td>Female</td>\n",
       "      <td>29</td>\n",
       "      <td>1</td>\n",
       "      <td>41.0</td>\n",
       "      <td>1</td>\n",
       "      <td>&lt; 1 Year</td>\n",
       "      <td>No</td>\n",
       "      <td>27496.0</td>\n",
       "      <td>152.0</td>\n",
       "      <td>39</td>\n",
       "      <td>0</td>\n",
       "    </tr>\n",
       "  </tbody>\n",
       "</table>\n",
       "</div>"
      ],
      "text/plain": [
       "   id  Gender  Age  Driving_License  Region_Code  Previously_Insured  \\\n",
       "0   1    Male   44                1         28.0                   0   \n",
       "1   2    Male   76                1          3.0                   0   \n",
       "2   3    Male   47                1         28.0                   0   \n",
       "3   4    Male   21                1         11.0                   1   \n",
       "4   5  Female   29                1         41.0                   1   \n",
       "\n",
       "  Vehicle_Age Vehicle_Damage  Annual_Premium  Policy_Sales_Channel  Vintage  \\\n",
       "0   > 2 Years            Yes         40454.0                  26.0      217   \n",
       "1    1-2 Year             No         33536.0                  26.0      183   \n",
       "2   > 2 Years            Yes         38294.0                  26.0       27   \n",
       "3    < 1 Year             No         28619.0                 152.0      203   \n",
       "4    < 1 Year             No         27496.0                 152.0       39   \n",
       "\n",
       "   Response  \n",
       "0         1  \n",
       "1         0  \n",
       "2         1  \n",
       "3         0  \n",
       "4         0  "
      ]
     },
     "execution_count": 20,
     "metadata": {},
     "output_type": "execute_result"
    }
   ],
   "source": [
    "df.head()"
   ]
  },
  {
   "cell_type": "code",
   "execution_count": 21,
   "metadata": {
    "execution": {
     "iopub.execute_input": "2021-09-17T01:56:44.057269Z",
     "iopub.status.busy": "2021-09-17T01:56:44.057030Z",
     "iopub.status.idle": "2021-09-17T01:56:44.063908Z",
     "shell.execute_reply": "2021-09-17T01:56:44.062964Z",
     "shell.execute_reply.started": "2021-09-17T01:56:44.057240Z"
    }
   },
   "outputs": [
    {
     "data": {
      "text/plain": [
       "4573308"
      ]
     },
     "execution_count": 21,
     "metadata": {},
     "output_type": "execute_result"
    }
   ],
   "source": [
    "df.size"
   ]
  },
  {
   "cell_type": "code",
   "execution_count": 22,
   "metadata": {
    "execution": {
     "iopub.execute_input": "2021-09-17T01:56:44.066338Z",
     "iopub.status.busy": "2021-09-17T01:56:44.066057Z",
     "iopub.status.idle": "2021-09-17T01:56:44.079638Z",
     "shell.execute_reply": "2021-09-17T01:56:44.078380Z",
     "shell.execute_reply.started": "2021-09-17T01:56:44.066308Z"
    }
   },
   "outputs": [
    {
     "data": {
      "text/plain": [
       "(381109, 12)"
      ]
     },
     "execution_count": 22,
     "metadata": {},
     "output_type": "execute_result"
    }
   ],
   "source": [
    "df.shape"
   ]
  },
  {
   "cell_type": "code",
   "execution_count": 23,
   "metadata": {
    "execution": {
     "iopub.execute_input": "2021-09-17T01:56:44.081390Z",
     "iopub.status.busy": "2021-09-17T01:56:44.081128Z",
     "iopub.status.idle": "2021-09-17T01:56:44.244656Z",
     "shell.execute_reply": "2021-09-17T01:56:44.243599Z",
     "shell.execute_reply.started": "2021-09-17T01:56:44.081359Z"
    }
   },
   "outputs": [
    {
     "name": "stdout",
     "output_type": "stream",
     "text": [
      "<class 'pandas.core.frame.DataFrame'>\n",
      "RangeIndex: 381109 entries, 0 to 381108\n",
      "Data columns (total 12 columns):\n",
      " #   Column                Non-Null Count   Dtype  \n",
      "---  ------                --------------   -----  \n",
      " 0   id                    381109 non-null  int64  \n",
      " 1   Gender                381109 non-null  object \n",
      " 2   Age                   381109 non-null  int64  \n",
      " 3   Driving_License       381109 non-null  int64  \n",
      " 4   Region_Code           381109 non-null  float64\n",
      " 5   Previously_Insured    381109 non-null  int64  \n",
      " 6   Vehicle_Age           381109 non-null  object \n",
      " 7   Vehicle_Damage        381109 non-null  object \n",
      " 8   Annual_Premium        381109 non-null  float64\n",
      " 9   Policy_Sales_Channel  381109 non-null  float64\n",
      " 10  Vintage               381109 non-null  int64  \n",
      " 11  Response              381109 non-null  int64  \n",
      "dtypes: float64(3), int64(6), object(3)\n",
      "memory usage: 34.9+ MB\n"
     ]
    }
   ],
   "source": [
    "df.info()"
   ]
  },
  {
   "cell_type": "code",
   "execution_count": 24,
   "metadata": {
    "execution": {
     "iopub.execute_input": "2021-09-17T01:56:44.246478Z",
     "iopub.status.busy": "2021-09-17T01:56:44.246243Z",
     "iopub.status.idle": "2021-09-17T01:56:44.379968Z",
     "shell.execute_reply": "2021-09-17T01:56:44.379028Z",
     "shell.execute_reply.started": "2021-09-17T01:56:44.246450Z"
    }
   },
   "outputs": [
    {
     "data": {
      "text/html": [
       "<div>\n",
       "<style scoped>\n",
       "    .dataframe tbody tr th:only-of-type {\n",
       "        vertical-align: middle;\n",
       "    }\n",
       "\n",
       "    .dataframe tbody tr th {\n",
       "        vertical-align: top;\n",
       "    }\n",
       "\n",
       "    .dataframe thead th {\n",
       "        text-align: right;\n",
       "    }\n",
       "</style>\n",
       "<table border=\"1\" class=\"dataframe\">\n",
       "  <thead>\n",
       "    <tr style=\"text-align: right;\">\n",
       "      <th></th>\n",
       "      <th>id</th>\n",
       "      <th>Age</th>\n",
       "      <th>Driving_License</th>\n",
       "      <th>Region_Code</th>\n",
       "      <th>Previously_Insured</th>\n",
       "      <th>Annual_Premium</th>\n",
       "      <th>Policy_Sales_Channel</th>\n",
       "      <th>Vintage</th>\n",
       "      <th>Response</th>\n",
       "    </tr>\n",
       "  </thead>\n",
       "  <tbody>\n",
       "    <tr>\n",
       "      <th>count</th>\n",
       "      <td>381109.000000</td>\n",
       "      <td>381109.000000</td>\n",
       "      <td>381109.000000</td>\n",
       "      <td>381109.000000</td>\n",
       "      <td>381109.000000</td>\n",
       "      <td>381109.000000</td>\n",
       "      <td>381109.000000</td>\n",
       "      <td>381109.000000</td>\n",
       "      <td>381109.000000</td>\n",
       "    </tr>\n",
       "    <tr>\n",
       "      <th>mean</th>\n",
       "      <td>190555.000000</td>\n",
       "      <td>38.822584</td>\n",
       "      <td>0.997869</td>\n",
       "      <td>26.388807</td>\n",
       "      <td>0.458210</td>\n",
       "      <td>30564.389581</td>\n",
       "      <td>112.034295</td>\n",
       "      <td>154.347397</td>\n",
       "      <td>0.122563</td>\n",
       "    </tr>\n",
       "    <tr>\n",
       "      <th>std</th>\n",
       "      <td>110016.836208</td>\n",
       "      <td>15.511611</td>\n",
       "      <td>0.046110</td>\n",
       "      <td>13.229888</td>\n",
       "      <td>0.498251</td>\n",
       "      <td>17213.155057</td>\n",
       "      <td>54.203995</td>\n",
       "      <td>83.671304</td>\n",
       "      <td>0.327936</td>\n",
       "    </tr>\n",
       "    <tr>\n",
       "      <th>min</th>\n",
       "      <td>1.000000</td>\n",
       "      <td>20.000000</td>\n",
       "      <td>0.000000</td>\n",
       "      <td>0.000000</td>\n",
       "      <td>0.000000</td>\n",
       "      <td>2630.000000</td>\n",
       "      <td>1.000000</td>\n",
       "      <td>10.000000</td>\n",
       "      <td>0.000000</td>\n",
       "    </tr>\n",
       "    <tr>\n",
       "      <th>25%</th>\n",
       "      <td>95278.000000</td>\n",
       "      <td>25.000000</td>\n",
       "      <td>1.000000</td>\n",
       "      <td>15.000000</td>\n",
       "      <td>0.000000</td>\n",
       "      <td>24405.000000</td>\n",
       "      <td>29.000000</td>\n",
       "      <td>82.000000</td>\n",
       "      <td>0.000000</td>\n",
       "    </tr>\n",
       "    <tr>\n",
       "      <th>50%</th>\n",
       "      <td>190555.000000</td>\n",
       "      <td>36.000000</td>\n",
       "      <td>1.000000</td>\n",
       "      <td>28.000000</td>\n",
       "      <td>0.000000</td>\n",
       "      <td>31669.000000</td>\n",
       "      <td>133.000000</td>\n",
       "      <td>154.000000</td>\n",
       "      <td>0.000000</td>\n",
       "    </tr>\n",
       "    <tr>\n",
       "      <th>75%</th>\n",
       "      <td>285832.000000</td>\n",
       "      <td>49.000000</td>\n",
       "      <td>1.000000</td>\n",
       "      <td>35.000000</td>\n",
       "      <td>1.000000</td>\n",
       "      <td>39400.000000</td>\n",
       "      <td>152.000000</td>\n",
       "      <td>227.000000</td>\n",
       "      <td>0.000000</td>\n",
       "    </tr>\n",
       "    <tr>\n",
       "      <th>max</th>\n",
       "      <td>381109.000000</td>\n",
       "      <td>85.000000</td>\n",
       "      <td>1.000000</td>\n",
       "      <td>52.000000</td>\n",
       "      <td>1.000000</td>\n",
       "      <td>540165.000000</td>\n",
       "      <td>163.000000</td>\n",
       "      <td>299.000000</td>\n",
       "      <td>1.000000</td>\n",
       "    </tr>\n",
       "  </tbody>\n",
       "</table>\n",
       "</div>"
      ],
      "text/plain": [
       "                  id            Age  Driving_License    Region_Code  \\\n",
       "count  381109.000000  381109.000000    381109.000000  381109.000000   \n",
       "mean   190555.000000      38.822584         0.997869      26.388807   \n",
       "std    110016.836208      15.511611         0.046110      13.229888   \n",
       "min         1.000000      20.000000         0.000000       0.000000   \n",
       "25%     95278.000000      25.000000         1.000000      15.000000   \n",
       "50%    190555.000000      36.000000         1.000000      28.000000   \n",
       "75%    285832.000000      49.000000         1.000000      35.000000   \n",
       "max    381109.000000      85.000000         1.000000      52.000000   \n",
       "\n",
       "       Previously_Insured  Annual_Premium  Policy_Sales_Channel  \\\n",
       "count       381109.000000   381109.000000         381109.000000   \n",
       "mean             0.458210    30564.389581            112.034295   \n",
       "std              0.498251    17213.155057             54.203995   \n",
       "min              0.000000     2630.000000              1.000000   \n",
       "25%              0.000000    24405.000000             29.000000   \n",
       "50%              0.000000    31669.000000            133.000000   \n",
       "75%              1.000000    39400.000000            152.000000   \n",
       "max              1.000000   540165.000000            163.000000   \n",
       "\n",
       "             Vintage       Response  \n",
       "count  381109.000000  381109.000000  \n",
       "mean      154.347397       0.122563  \n",
       "std        83.671304       0.327936  \n",
       "min        10.000000       0.000000  \n",
       "25%        82.000000       0.000000  \n",
       "50%       154.000000       0.000000  \n",
       "75%       227.000000       0.000000  \n",
       "max       299.000000       1.000000  "
      ]
     },
     "execution_count": 24,
     "metadata": {},
     "output_type": "execute_result"
    }
   ],
   "source": [
    "df.describe()"
   ]
  },
  {
   "cell_type": "code",
   "execution_count": 25,
   "metadata": {
    "execution": {
     "iopub.execute_input": "2021-09-17T01:56:44.382131Z",
     "iopub.status.busy": "2021-09-17T01:56:44.381835Z",
     "iopub.status.idle": "2021-09-17T01:56:44.404015Z",
     "shell.execute_reply": "2021-09-17T01:56:44.402881Z",
     "shell.execute_reply.started": "2021-09-17T01:56:44.382099Z"
    }
   },
   "outputs": [
    {
     "data": {
      "text/html": [
       "<div>\n",
       "<style scoped>\n",
       "    .dataframe tbody tr th:only-of-type {\n",
       "        vertical-align: middle;\n",
       "    }\n",
       "\n",
       "    .dataframe tbody tr th {\n",
       "        vertical-align: top;\n",
       "    }\n",
       "\n",
       "    .dataframe thead th {\n",
       "        text-align: right;\n",
       "    }\n",
       "</style>\n",
       "<table border=\"1\" class=\"dataframe\">\n",
       "  <thead>\n",
       "    <tr style=\"text-align: right;\">\n",
       "      <th></th>\n",
       "      <th>Gender</th>\n",
       "      <th>Vehicle_Age</th>\n",
       "      <th>Vehicle_Damage</th>\n",
       "    </tr>\n",
       "  </thead>\n",
       "  <tbody>\n",
       "    <tr>\n",
       "      <th>0</th>\n",
       "      <td>Male</td>\n",
       "      <td>&gt; 2 Years</td>\n",
       "      <td>Yes</td>\n",
       "    </tr>\n",
       "    <tr>\n",
       "      <th>1</th>\n",
       "      <td>Male</td>\n",
       "      <td>1-2 Year</td>\n",
       "      <td>No</td>\n",
       "    </tr>\n",
       "    <tr>\n",
       "      <th>2</th>\n",
       "      <td>Male</td>\n",
       "      <td>&gt; 2 Years</td>\n",
       "      <td>Yes</td>\n",
       "    </tr>\n",
       "    <tr>\n",
       "      <th>3</th>\n",
       "      <td>Male</td>\n",
       "      <td>&lt; 1 Year</td>\n",
       "      <td>No</td>\n",
       "    </tr>\n",
       "    <tr>\n",
       "      <th>4</th>\n",
       "      <td>Female</td>\n",
       "      <td>&lt; 1 Year</td>\n",
       "      <td>No</td>\n",
       "    </tr>\n",
       "  </tbody>\n",
       "</table>\n",
       "</div>"
      ],
      "text/plain": [
       "   Gender Vehicle_Age Vehicle_Damage\n",
       "0    Male   > 2 Years            Yes\n",
       "1    Male    1-2 Year             No\n",
       "2    Male   > 2 Years            Yes\n",
       "3    Male    < 1 Year             No\n",
       "4  Female    < 1 Year             No"
      ]
     },
     "execution_count": 25,
     "metadata": {},
     "output_type": "execute_result"
    }
   ],
   "source": [
    "df.select_dtypes(include=np.object).head()"
   ]
  },
  {
   "cell_type": "code",
   "execution_count": 26,
   "metadata": {
    "execution": {
     "iopub.execute_input": "2021-09-17T01:56:44.406232Z",
     "iopub.status.busy": "2021-09-17T01:56:44.405879Z",
     "iopub.status.idle": "2021-09-17T01:56:44.527393Z",
     "shell.execute_reply": "2021-09-17T01:56:44.526735Z",
     "shell.execute_reply.started": "2021-09-17T01:56:44.406185Z"
    }
   },
   "outputs": [
    {
     "data": {
      "text/plain": [
       "Gender            2\n",
       "Vehicle_Age       3\n",
       "Vehicle_Damage    2\n",
       "dtype: int64"
      ]
     },
     "execution_count": 26,
     "metadata": {},
     "output_type": "execute_result"
    }
   ],
   "source": [
    "df.select_dtypes(include=np.object).nunique()"
   ]
  },
  {
   "cell_type": "code",
   "execution_count": 27,
   "metadata": {
    "execution": {
     "iopub.execute_input": "2021-09-17T01:56:44.528631Z",
     "iopub.status.busy": "2021-09-17T01:56:44.528371Z",
     "iopub.status.idle": "2021-09-17T01:56:44.668533Z",
     "shell.execute_reply": "2021-09-17T01:56:44.667596Z",
     "shell.execute_reply.started": "2021-09-17T01:56:44.528600Z"
    }
   },
   "outputs": [
    {
     "data": {
      "text/plain": [
       "id                      0\n",
       "Gender                  0\n",
       "Age                     0\n",
       "Driving_License         0\n",
       "Region_Code             0\n",
       "Previously_Insured      0\n",
       "Vehicle_Age             0\n",
       "Vehicle_Damage          0\n",
       "Annual_Premium          0\n",
       "Policy_Sales_Channel    0\n",
       "Vintage                 0\n",
       "Response                0\n",
       "dtype: int64"
      ]
     },
     "execution_count": 27,
     "metadata": {},
     "output_type": "execute_result"
    }
   ],
   "source": [
    "df.isnull().sum()"
   ]
  },
  {
   "cell_type": "markdown",
   "metadata": {},
   "source": [
    "#### Inferences - \n",
    "- The training dataset contains close to 380K or 3.8 lakh records.\n",
    "- The training dataset has 11 independent features and 1 dependent / target variable.\n",
    "- Within the independent features, 3 are categorical features\n",
    "- Remaining 8 are numerical in nature.\n",
    "- The dataset contains no missing values.\n",
    "- The no. of unique categories within the categorical features are between 2-3."
   ]
  },
  {
   "cell_type": "markdown",
   "metadata": {},
   "source": [
    "# Data Cleaning"
   ]
  },
  {
   "cell_type": "code",
   "execution_count": 28,
   "metadata": {
    "execution": {
     "iopub.execute_input": "2021-09-17T01:56:44.672168Z",
     "iopub.status.busy": "2021-09-17T01:56:44.671908Z",
     "iopub.status.idle": "2021-09-17T01:56:44.785656Z",
     "shell.execute_reply": "2021-09-17T01:56:44.784643Z",
     "shell.execute_reply.started": "2021-09-17T01:56:44.672139Z"
    }
   },
   "outputs": [
    {
     "name": "stdout",
     "output_type": "stream",
     "text": [
      "Gender\n",
      "['Male' 'Female']\n",
      "\n",
      "Vehicle_Age\n",
      "['> 2 Years' '1-2 Year' '< 1 Year']\n",
      "\n",
      "Vehicle_Damage\n",
      "['Yes' 'No']\n",
      "\n"
     ]
    }
   ],
   "source": [
    "for i in df.select_dtypes(include=np.object).columns:\n",
    "    print(i)\n",
    "    print(df[i].unique())\n",
    "    print()"
   ]
  },
  {
   "cell_type": "code",
   "execution_count": 29,
   "metadata": {
    "execution": {
     "iopub.execute_input": "2021-09-17T01:56:44.787231Z",
     "iopub.status.busy": "2021-09-17T01:56:44.786890Z",
     "iopub.status.idle": "2021-09-17T01:56:44.918317Z",
     "shell.execute_reply": "2021-09-17T01:56:44.917490Z",
     "shell.execute_reply.started": "2021-09-17T01:56:44.787198Z"
    }
   },
   "outputs": [
    {
     "data": {
      "text/html": [
       "<div>\n",
       "<style scoped>\n",
       "    .dataframe tbody tr th:only-of-type {\n",
       "        vertical-align: middle;\n",
       "    }\n",
       "\n",
       "    .dataframe tbody tr th {\n",
       "        vertical-align: top;\n",
       "    }\n",
       "\n",
       "    .dataframe thead th {\n",
       "        text-align: right;\n",
       "    }\n",
       "</style>\n",
       "<table border=\"1\" class=\"dataframe\">\n",
       "  <thead>\n",
       "    <tr style=\"text-align: right;\">\n",
       "      <th></th>\n",
       "      <th>id</th>\n",
       "      <th>Age</th>\n",
       "      <th>Driving_License</th>\n",
       "      <th>Region_Code</th>\n",
       "      <th>Previously_Insured</th>\n",
       "      <th>Annual_Premium</th>\n",
       "      <th>Policy_Sales_Channel</th>\n",
       "      <th>Vintage</th>\n",
       "    </tr>\n",
       "  </thead>\n",
       "  <tbody>\n",
       "    <tr>\n",
       "      <th>count</th>\n",
       "      <td>381109.000000</td>\n",
       "      <td>381109.000000</td>\n",
       "      <td>381109.000000</td>\n",
       "      <td>381109.000000</td>\n",
       "      <td>381109.000000</td>\n",
       "      <td>381109.000000</td>\n",
       "      <td>381109.000000</td>\n",
       "      <td>381109.000000</td>\n",
       "    </tr>\n",
       "    <tr>\n",
       "      <th>mean</th>\n",
       "      <td>190555.000000</td>\n",
       "      <td>38.822584</td>\n",
       "      <td>0.997869</td>\n",
       "      <td>26.388807</td>\n",
       "      <td>0.458210</td>\n",
       "      <td>30564.389581</td>\n",
       "      <td>112.034295</td>\n",
       "      <td>154.347397</td>\n",
       "    </tr>\n",
       "    <tr>\n",
       "      <th>std</th>\n",
       "      <td>110016.836208</td>\n",
       "      <td>15.511611</td>\n",
       "      <td>0.046110</td>\n",
       "      <td>13.229888</td>\n",
       "      <td>0.498251</td>\n",
       "      <td>17213.155057</td>\n",
       "      <td>54.203995</td>\n",
       "      <td>83.671304</td>\n",
       "    </tr>\n",
       "    <tr>\n",
       "      <th>min</th>\n",
       "      <td>1.000000</td>\n",
       "      <td>20.000000</td>\n",
       "      <td>0.000000</td>\n",
       "      <td>0.000000</td>\n",
       "      <td>0.000000</td>\n",
       "      <td>2630.000000</td>\n",
       "      <td>1.000000</td>\n",
       "      <td>10.000000</td>\n",
       "    </tr>\n",
       "    <tr>\n",
       "      <th>25%</th>\n",
       "      <td>95278.000000</td>\n",
       "      <td>25.000000</td>\n",
       "      <td>1.000000</td>\n",
       "      <td>15.000000</td>\n",
       "      <td>0.000000</td>\n",
       "      <td>24405.000000</td>\n",
       "      <td>29.000000</td>\n",
       "      <td>82.000000</td>\n",
       "    </tr>\n",
       "    <tr>\n",
       "      <th>50%</th>\n",
       "      <td>190555.000000</td>\n",
       "      <td>36.000000</td>\n",
       "      <td>1.000000</td>\n",
       "      <td>28.000000</td>\n",
       "      <td>0.000000</td>\n",
       "      <td>31669.000000</td>\n",
       "      <td>133.000000</td>\n",
       "      <td>154.000000</td>\n",
       "    </tr>\n",
       "    <tr>\n",
       "      <th>75%</th>\n",
       "      <td>285832.000000</td>\n",
       "      <td>49.000000</td>\n",
       "      <td>1.000000</td>\n",
       "      <td>35.000000</td>\n",
       "      <td>1.000000</td>\n",
       "      <td>39400.000000</td>\n",
       "      <td>152.000000</td>\n",
       "      <td>227.000000</td>\n",
       "    </tr>\n",
       "    <tr>\n",
       "      <th>max</th>\n",
       "      <td>381109.000000</td>\n",
       "      <td>85.000000</td>\n",
       "      <td>1.000000</td>\n",
       "      <td>52.000000</td>\n",
       "      <td>1.000000</td>\n",
       "      <td>540165.000000</td>\n",
       "      <td>163.000000</td>\n",
       "      <td>299.000000</td>\n",
       "    </tr>\n",
       "  </tbody>\n",
       "</table>\n",
       "</div>"
      ],
      "text/plain": [
       "                  id            Age  Driving_License    Region_Code  \\\n",
       "count  381109.000000  381109.000000    381109.000000  381109.000000   \n",
       "mean   190555.000000      38.822584         0.997869      26.388807   \n",
       "std    110016.836208      15.511611         0.046110      13.229888   \n",
       "min         1.000000      20.000000         0.000000       0.000000   \n",
       "25%     95278.000000      25.000000         1.000000      15.000000   \n",
       "50%    190555.000000      36.000000         1.000000      28.000000   \n",
       "75%    285832.000000      49.000000         1.000000      35.000000   \n",
       "max    381109.000000      85.000000         1.000000      52.000000   \n",
       "\n",
       "       Previously_Insured  Annual_Premium  Policy_Sales_Channel        Vintage  \n",
       "count       381109.000000   381109.000000         381109.000000  381109.000000  \n",
       "mean             0.458210    30564.389581            112.034295     154.347397  \n",
       "std              0.498251    17213.155057             54.203995      83.671304  \n",
       "min              0.000000     2630.000000              1.000000      10.000000  \n",
       "25%              0.000000    24405.000000             29.000000      82.000000  \n",
       "50%              0.000000    31669.000000            133.000000     154.000000  \n",
       "75%              1.000000    39400.000000            152.000000     227.000000  \n",
       "max              1.000000   540165.000000            163.000000     299.000000  "
      ]
     },
     "execution_count": 29,
     "metadata": {},
     "output_type": "execute_result"
    }
   ],
   "source": [
    "df.describe().iloc[:,:-1]"
   ]
  },
  {
   "cell_type": "code",
   "execution_count": 30,
   "metadata": {
    "execution": {
     "iopub.execute_input": "2021-09-17T01:56:44.920255Z",
     "iopub.status.busy": "2021-09-17T01:56:44.919646Z",
     "iopub.status.idle": "2021-09-17T01:56:44.979491Z",
     "shell.execute_reply": "2021-09-17T01:56:44.978521Z",
     "shell.execute_reply.started": "2021-09-17T01:56:44.920207Z"
    }
   },
   "outputs": [
    {
     "name": "stdout",
     "output_type": "stream",
     "text": [
      "id\n",
      "381109\n",
      "\n",
      "Age\n",
      "66\n",
      "\n",
      "Driving_License\n",
      "2\n",
      "\n",
      "Region_Code\n",
      "53\n",
      "\n",
      "Previously_Insured\n",
      "2\n",
      "\n",
      "Annual_Premium\n",
      "48838\n",
      "\n",
      "Policy_Sales_Channel\n",
      "155\n",
      "\n",
      "Vintage\n",
      "290\n",
      "\n"
     ]
    }
   ],
   "source": [
    "for i in df.select_dtypes(include=np.number).columns[:-1]:\n",
    "    print(i)\n",
    "    print(df[i].nunique())\n",
    "    print()"
   ]
  },
  {
   "cell_type": "code",
   "execution_count": 31,
   "metadata": {
    "execution": {
     "iopub.execute_input": "2021-09-17T01:56:44.981138Z",
     "iopub.status.busy": "2021-09-17T01:56:44.980900Z",
     "iopub.status.idle": "2021-09-17T01:56:45.004879Z",
     "shell.execute_reply": "2021-09-17T01:56:45.003779Z",
     "shell.execute_reply.started": "2021-09-17T01:56:44.981109Z"
    }
   },
   "outputs": [
    {
     "data": {
      "text/html": [
       "<div>\n",
       "<style scoped>\n",
       "    .dataframe tbody tr th:only-of-type {\n",
       "        vertical-align: middle;\n",
       "    }\n",
       "\n",
       "    .dataframe tbody tr th {\n",
       "        vertical-align: top;\n",
       "    }\n",
       "\n",
       "    .dataframe thead th {\n",
       "        text-align: right;\n",
       "    }\n",
       "</style>\n",
       "<table border=\"1\" class=\"dataframe\">\n",
       "  <thead>\n",
       "    <tr style=\"text-align: right;\">\n",
       "      <th></th>\n",
       "      <th>id</th>\n",
       "      <th>Age</th>\n",
       "      <th>Driving_License</th>\n",
       "      <th>Region_Code</th>\n",
       "      <th>Previously_Insured</th>\n",
       "      <th>Annual_Premium</th>\n",
       "      <th>Policy_Sales_Channel</th>\n",
       "      <th>Vintage</th>\n",
       "    </tr>\n",
       "  </thead>\n",
       "  <tbody>\n",
       "    <tr>\n",
       "      <th>0</th>\n",
       "      <td>1</td>\n",
       "      <td>44</td>\n",
       "      <td>1</td>\n",
       "      <td>28.0</td>\n",
       "      <td>0</td>\n",
       "      <td>40454.0</td>\n",
       "      <td>26.0</td>\n",
       "      <td>217</td>\n",
       "    </tr>\n",
       "    <tr>\n",
       "      <th>1</th>\n",
       "      <td>2</td>\n",
       "      <td>76</td>\n",
       "      <td>1</td>\n",
       "      <td>3.0</td>\n",
       "      <td>0</td>\n",
       "      <td>33536.0</td>\n",
       "      <td>26.0</td>\n",
       "      <td>183</td>\n",
       "    </tr>\n",
       "    <tr>\n",
       "      <th>2</th>\n",
       "      <td>3</td>\n",
       "      <td>47</td>\n",
       "      <td>1</td>\n",
       "      <td>28.0</td>\n",
       "      <td>0</td>\n",
       "      <td>38294.0</td>\n",
       "      <td>26.0</td>\n",
       "      <td>27</td>\n",
       "    </tr>\n",
       "    <tr>\n",
       "      <th>3</th>\n",
       "      <td>4</td>\n",
       "      <td>21</td>\n",
       "      <td>1</td>\n",
       "      <td>11.0</td>\n",
       "      <td>1</td>\n",
       "      <td>28619.0</td>\n",
       "      <td>152.0</td>\n",
       "      <td>203</td>\n",
       "    </tr>\n",
       "    <tr>\n",
       "      <th>4</th>\n",
       "      <td>5</td>\n",
       "      <td>29</td>\n",
       "      <td>1</td>\n",
       "      <td>41.0</td>\n",
       "      <td>1</td>\n",
       "      <td>27496.0</td>\n",
       "      <td>152.0</td>\n",
       "      <td>39</td>\n",
       "    </tr>\n",
       "  </tbody>\n",
       "</table>\n",
       "</div>"
      ],
      "text/plain": [
       "   id  Age  Driving_License  Region_Code  Previously_Insured  Annual_Premium  \\\n",
       "0   1   44                1         28.0                   0         40454.0   \n",
       "1   2   76                1          3.0                   0         33536.0   \n",
       "2   3   47                1         28.0                   0         38294.0   \n",
       "3   4   21                1         11.0                   1         28619.0   \n",
       "4   5   29                1         41.0                   1         27496.0   \n",
       "\n",
       "   Policy_Sales_Channel  Vintage  \n",
       "0                  26.0      217  \n",
       "1                  26.0      183  \n",
       "2                  26.0       27  \n",
       "3                 152.0      203  \n",
       "4                 152.0       39  "
      ]
     },
     "execution_count": 31,
     "metadata": {},
     "output_type": "execute_result"
    }
   ],
   "source": [
    "df.select_dtypes(include=np.number).head().iloc[:,:-1]"
   ]
  },
  {
   "cell_type": "markdown",
   "metadata": {},
   "source": [
    "#### Observations - \n",
    "From the observations made on the structure and values present in the features and on comparing them with the description of the variables, we can conclude -\n",
    "- ID will be of no use to us as it will be unique to each record. Hence it can be removed.\n",
    "- Region_Code should be a categorical feature as it contains a code for the location the customer resides in.\n",
    "- Policy Sales Channel should be categorical as it contains codes for various type of sales channels.\n",
    "- Driving Licence should be a categorical feature as it contains only 2 values i.e 0 and 1 with each number depicting whether a customer has a driving licence or not.\n",
    "- Previously ensured should be a categorical feature as it contains only 2 values i.e 0 and 1 with each number depicting whether a customer had previously taken an insurance or not.\n",
    "- Response (target feature) should also be a categorical feature as it contains only 2 values i.e 0 and 1 with each number depicting whether a health insurance customer will take a vehicle insurance or not.\n",
    "- Also, so better clarity on categories for the purpose of model building and feature selection, we will give proper labels to the categories of driving license and previously ensured"
   ]
  },
  {
   "cell_type": "code",
   "execution_count": 32,
   "metadata": {
    "execution": {
     "iopub.execute_input": "2021-09-17T01:56:45.007174Z",
     "iopub.status.busy": "2021-09-17T01:56:45.006755Z",
     "iopub.status.idle": "2021-09-17T01:56:45.029404Z",
     "shell.execute_reply": "2021-09-17T01:56:45.028487Z",
     "shell.execute_reply.started": "2021-09-17T01:56:45.007134Z"
    }
   },
   "outputs": [],
   "source": [
    "df.drop('id',axis=1,inplace=True)"
   ]
  },
  {
   "cell_type": "code",
   "execution_count": 33,
   "metadata": {
    "execution": {
     "iopub.execute_input": "2021-09-17T01:56:45.031333Z",
     "iopub.status.busy": "2021-09-17T01:56:45.031022Z",
     "iopub.status.idle": "2021-09-17T01:56:45.064347Z",
     "shell.execute_reply": "2021-09-17T01:56:45.063393Z",
     "shell.execute_reply.started": "2021-09-17T01:56:45.031291Z"
    }
   },
   "outputs": [],
   "source": [
    "df[[\"Region_Code\",\"Policy_Sales_Channel\"]] = df[[\"Region_Code\",\"Policy_Sales_Channel\"]].astype('int').astype(\"object\")"
   ]
  },
  {
   "cell_type": "code",
   "execution_count": 34,
   "metadata": {
    "execution": {
     "iopub.execute_input": "2021-09-17T01:56:45.066579Z",
     "iopub.status.busy": "2021-09-17T01:56:45.066226Z",
     "iopub.status.idle": "2021-09-17T01:56:45.129090Z",
     "shell.execute_reply": "2021-09-17T01:56:45.128180Z",
     "shell.execute_reply.started": "2021-09-17T01:56:45.066528Z"
    }
   },
   "outputs": [],
   "source": [
    "df[[\"Driving_License\",\"Previously_Insured\",\"Response\"]] = df[[\"Driving_License\",\"Previously_Insured\",\"Response\"]].astype('object') \n"
   ]
  },
  {
   "cell_type": "code",
   "execution_count": 35,
   "metadata": {
    "execution": {
     "iopub.execute_input": "2021-09-17T01:56:45.131166Z",
     "iopub.status.busy": "2021-09-17T01:56:45.130864Z",
     "iopub.status.idle": "2021-09-17T01:56:45.541747Z",
     "shell.execute_reply": "2021-09-17T01:56:45.540274Z",
     "shell.execute_reply.started": "2021-09-17T01:56:45.131128Z"
    }
   },
   "outputs": [],
   "source": [
    "df.Driving_License.replace({1:\"Has_License\",0:\"No_License\"},inplace=True)\n",
    "df.Previously_Insured.replace({1:\"Vehicle_Insured\",0:\"Vehicle_Not_Insured\"},inplace=True)\n",
    "df.Vehicle_Damage.replace({\"Yes\":\"Vehicle_Damaged\",\"No\":\"Vehicle_Not_Damaged\"},inplace=True)\n",
    "df.Vehicle_Age.replace({\"> 2 Years\":\"MoreThan2Years\",\"1-2 Year\":\"Years1-2\",\"< 1 Year\":\"LessThan1Year\"},inplace=True)"
   ]
  },
  {
   "cell_type": "code",
   "execution_count": 36,
   "metadata": {
    "execution": {
     "iopub.execute_input": "2021-09-17T01:56:45.545781Z",
     "iopub.status.busy": "2021-09-17T01:56:45.544927Z",
     "iopub.status.idle": "2021-09-17T01:56:45.650634Z",
     "shell.execute_reply": "2021-09-17T01:56:45.649776Z",
     "shell.execute_reply.started": "2021-09-17T01:56:45.545730Z"
    }
   },
   "outputs": [
    {
     "data": {
      "text/html": [
       "<div>\n",
       "<style scoped>\n",
       "    .dataframe tbody tr th:only-of-type {\n",
       "        vertical-align: middle;\n",
       "    }\n",
       "\n",
       "    .dataframe tbody tr th {\n",
       "        vertical-align: top;\n",
       "    }\n",
       "\n",
       "    .dataframe thead th {\n",
       "        text-align: right;\n",
       "    }\n",
       "</style>\n",
       "<table border=\"1\" class=\"dataframe\">\n",
       "  <thead>\n",
       "    <tr style=\"text-align: right;\">\n",
       "      <th></th>\n",
       "      <th>Gender</th>\n",
       "      <th>Driving_License</th>\n",
       "      <th>Region_Code</th>\n",
       "      <th>Previously_Insured</th>\n",
       "      <th>Vehicle_Age</th>\n",
       "      <th>Vehicle_Damage</th>\n",
       "      <th>Policy_Sales_Channel</th>\n",
       "      <th>Response</th>\n",
       "    </tr>\n",
       "  </thead>\n",
       "  <tbody>\n",
       "    <tr>\n",
       "      <th>0</th>\n",
       "      <td>Male</td>\n",
       "      <td>Has_License</td>\n",
       "      <td>28</td>\n",
       "      <td>Vehicle_Not_Insured</td>\n",
       "      <td>MoreThan2Years</td>\n",
       "      <td>Vehicle_Damaged</td>\n",
       "      <td>26</td>\n",
       "      <td>1</td>\n",
       "    </tr>\n",
       "    <tr>\n",
       "      <th>1</th>\n",
       "      <td>Male</td>\n",
       "      <td>Has_License</td>\n",
       "      <td>3</td>\n",
       "      <td>Vehicle_Not_Insured</td>\n",
       "      <td>Years1-2</td>\n",
       "      <td>Vehicle_Not_Damaged</td>\n",
       "      <td>26</td>\n",
       "      <td>0</td>\n",
       "    </tr>\n",
       "    <tr>\n",
       "      <th>2</th>\n",
       "      <td>Male</td>\n",
       "      <td>Has_License</td>\n",
       "      <td>28</td>\n",
       "      <td>Vehicle_Not_Insured</td>\n",
       "      <td>MoreThan2Years</td>\n",
       "      <td>Vehicle_Damaged</td>\n",
       "      <td>26</td>\n",
       "      <td>1</td>\n",
       "    </tr>\n",
       "    <tr>\n",
       "      <th>3</th>\n",
       "      <td>Male</td>\n",
       "      <td>Has_License</td>\n",
       "      <td>11</td>\n",
       "      <td>Vehicle_Insured</td>\n",
       "      <td>LessThan1Year</td>\n",
       "      <td>Vehicle_Not_Damaged</td>\n",
       "      <td>152</td>\n",
       "      <td>0</td>\n",
       "    </tr>\n",
       "    <tr>\n",
       "      <th>4</th>\n",
       "      <td>Female</td>\n",
       "      <td>Has_License</td>\n",
       "      <td>41</td>\n",
       "      <td>Vehicle_Insured</td>\n",
       "      <td>LessThan1Year</td>\n",
       "      <td>Vehicle_Not_Damaged</td>\n",
       "      <td>152</td>\n",
       "      <td>0</td>\n",
       "    </tr>\n",
       "  </tbody>\n",
       "</table>\n",
       "</div>"
      ],
      "text/plain": [
       "   Gender Driving_License Region_Code   Previously_Insured     Vehicle_Age  \\\n",
       "0    Male     Has_License          28  Vehicle_Not_Insured  MoreThan2Years   \n",
       "1    Male     Has_License           3  Vehicle_Not_Insured        Years1-2   \n",
       "2    Male     Has_License          28  Vehicle_Not_Insured  MoreThan2Years   \n",
       "3    Male     Has_License          11      Vehicle_Insured   LessThan1Year   \n",
       "4  Female     Has_License          41      Vehicle_Insured   LessThan1Year   \n",
       "\n",
       "        Vehicle_Damage Policy_Sales_Channel Response  \n",
       "0      Vehicle_Damaged                   26        1  \n",
       "1  Vehicle_Not_Damaged                   26        0  \n",
       "2      Vehicle_Damaged                   26        1  \n",
       "3  Vehicle_Not_Damaged                  152        0  \n",
       "4  Vehicle_Not_Damaged                  152        0  "
      ]
     },
     "execution_count": 36,
     "metadata": {},
     "output_type": "execute_result"
    }
   ],
   "source": [
    "df.select_dtypes(include=np.object).head()"
   ]
  },
  {
   "cell_type": "code",
   "execution_count": 37,
   "metadata": {
    "execution": {
     "iopub.execute_input": "2021-09-17T01:56:45.652228Z",
     "iopub.status.busy": "2021-09-17T01:56:45.652000Z",
     "iopub.status.idle": "2021-09-17T01:56:45.669237Z",
     "shell.execute_reply": "2021-09-17T01:56:45.668097Z",
     "shell.execute_reply.started": "2021-09-17T01:56:45.652200Z"
    }
   },
   "outputs": [
    {
     "data": {
      "text/html": [
       "<div>\n",
       "<style scoped>\n",
       "    .dataframe tbody tr th:only-of-type {\n",
       "        vertical-align: middle;\n",
       "    }\n",
       "\n",
       "    .dataframe tbody tr th {\n",
       "        vertical-align: top;\n",
       "    }\n",
       "\n",
       "    .dataframe thead th {\n",
       "        text-align: right;\n",
       "    }\n",
       "</style>\n",
       "<table border=\"1\" class=\"dataframe\">\n",
       "  <thead>\n",
       "    <tr style=\"text-align: right;\">\n",
       "      <th></th>\n",
       "      <th>Age</th>\n",
       "      <th>Annual_Premium</th>\n",
       "      <th>Vintage</th>\n",
       "    </tr>\n",
       "  </thead>\n",
       "  <tbody>\n",
       "    <tr>\n",
       "      <th>0</th>\n",
       "      <td>44</td>\n",
       "      <td>40454.0</td>\n",
       "      <td>217</td>\n",
       "    </tr>\n",
       "    <tr>\n",
       "      <th>1</th>\n",
       "      <td>76</td>\n",
       "      <td>33536.0</td>\n",
       "      <td>183</td>\n",
       "    </tr>\n",
       "    <tr>\n",
       "      <th>2</th>\n",
       "      <td>47</td>\n",
       "      <td>38294.0</td>\n",
       "      <td>27</td>\n",
       "    </tr>\n",
       "    <tr>\n",
       "      <th>3</th>\n",
       "      <td>21</td>\n",
       "      <td>28619.0</td>\n",
       "      <td>203</td>\n",
       "    </tr>\n",
       "    <tr>\n",
       "      <th>4</th>\n",
       "      <td>29</td>\n",
       "      <td>27496.0</td>\n",
       "      <td>39</td>\n",
       "    </tr>\n",
       "  </tbody>\n",
       "</table>\n",
       "</div>"
      ],
      "text/plain": [
       "   Age  Annual_Premium  Vintage\n",
       "0   44         40454.0      217\n",
       "1   76         33536.0      183\n",
       "2   47         38294.0       27\n",
       "3   21         28619.0      203\n",
       "4   29         27496.0       39"
      ]
     },
     "execution_count": 37,
     "metadata": {},
     "output_type": "execute_result"
    }
   ],
   "source": [
    "df.select_dtypes(include=np.number).head()"
   ]
  },
  {
   "cell_type": "markdown",
   "metadata": {},
   "source": [
    "# Exploratory Data Analysis"
   ]
  },
  {
   "cell_type": "markdown",
   "metadata": {},
   "source": [
    "## Univariate Analysis"
   ]
  },
  {
   "cell_type": "code",
   "execution_count": 38,
   "metadata": {
    "execution": {
     "iopub.execute_input": "2021-09-17T01:56:45.670773Z",
     "iopub.status.busy": "2021-09-17T01:56:45.670523Z",
     "iopub.status.idle": "2021-09-17T01:56:45.733332Z",
     "shell.execute_reply": "2021-09-17T01:56:45.732167Z",
     "shell.execute_reply.started": "2021-09-17T01:56:45.670737Z"
    }
   },
   "outputs": [],
   "source": [
    "num_data = df.select_dtypes(include=np.number)\n",
    "cat_data = df.select_dtypes(include=np.object)"
   ]
  },
  {
   "cell_type": "code",
   "execution_count": 39,
   "metadata": {
    "execution": {
     "iopub.execute_input": "2021-09-17T01:56:45.734854Z",
     "iopub.status.busy": "2021-09-17T01:56:45.734582Z",
     "iopub.status.idle": "2021-09-17T01:56:45.971860Z",
     "shell.execute_reply": "2021-09-17T01:56:45.970681Z",
     "shell.execute_reply.started": "2021-09-17T01:56:45.734827Z"
    }
   },
   "outputs": [
    {
     "data": {
      "image/png": "[encoded data removed]",
      "text/plain": [
       "<Figure size 432x288 with 1 Axes>"
      ]
     },
     "metadata": {
      "needs_background": "light"
     },
     "output_type": "display_data"
    }
   ],
   "source": [
    "sns.countplot(df['Response']);\n",
    "pct_0=str(round(df['Response'].value_counts(1)[0]*100,2)) + str('%')\n",
    "pct_1=str(round(df['Response'].value_counts(1)[1]*100,2)) + str('%')\n",
    "plt.text(x=-0.05,y=df['Response'].value_counts()[0]/2,s=pct_0)\n",
    "plt.text(x=0.95,y=df['Response'].value_counts()[1]/2,s=pct_1)\n",
    "plt.show()"
   ]
  },
  {
   "cell_type": "code",
   "execution_count": 40,
   "metadata": {
    "execution": {
     "iopub.execute_input": "2021-09-17T01:56:45.973906Z",
     "iopub.status.busy": "2021-09-17T01:56:45.973614Z",
     "iopub.status.idle": "2021-09-17T01:56:46.003138Z",
     "shell.execute_reply": "2021-09-17T01:56:46.002163Z",
     "shell.execute_reply.started": "2021-09-17T01:56:45.973872Z"
    }
   },
   "outputs": [
    {
     "data": {
      "text/plain": [
       "Age               0.672539\n",
       "Annual_Premium    1.766087\n",
       "Vintage           0.003030\n",
       "dtype: float64"
      ]
     },
     "execution_count": 40,
     "metadata": {},
     "output_type": "execute_result"
    }
   ],
   "source": [
    "num_data.skew()"
   ]
  },
  {
   "cell_type": "code",
   "execution_count": 41,
   "metadata": {
    "execution": {
     "iopub.execute_input": "2021-09-17T01:56:46.004616Z",
     "iopub.status.busy": "2021-09-17T01:56:46.004365Z",
     "iopub.status.idle": "2021-09-17T01:56:46.065067Z",
     "shell.execute_reply": "2021-09-17T01:56:46.063657Z",
     "shell.execute_reply.started": "2021-09-17T01:56:46.004587Z"
    }
   },
   "outputs": [
    {
     "data": {
      "text/html": [
       "<div>\n",
       "<style scoped>\n",
       "    .dataframe tbody tr th:only-of-type {\n",
       "        vertical-align: middle;\n",
       "    }\n",
       "\n",
       "    .dataframe tbody tr th {\n",
       "        vertical-align: top;\n",
       "    }\n",
       "\n",
       "    .dataframe thead th {\n",
       "        text-align: right;\n",
       "    }\n",
       "</style>\n",
       "<table border=\"1\" class=\"dataframe\">\n",
       "  <thead>\n",
       "    <tr style=\"text-align: right;\">\n",
       "      <th></th>\n",
       "      <th>Age</th>\n",
       "      <th>Annual_Premium</th>\n",
       "      <th>Vintage</th>\n",
       "    </tr>\n",
       "  </thead>\n",
       "  <tbody>\n",
       "    <tr>\n",
       "      <th>count</th>\n",
       "      <td>381109.000000</td>\n",
       "      <td>381109.000000</td>\n",
       "      <td>381109.000000</td>\n",
       "    </tr>\n",
       "    <tr>\n",
       "      <th>mean</th>\n",
       "      <td>38.822584</td>\n",
       "      <td>30564.389581</td>\n",
       "      <td>154.347397</td>\n",
       "    </tr>\n",
       "    <tr>\n",
       "      <th>std</th>\n",
       "      <td>15.511611</td>\n",
       "      <td>17213.155057</td>\n",
       "      <td>83.671304</td>\n",
       "    </tr>\n",
       "    <tr>\n",
       "      <th>min</th>\n",
       "      <td>20.000000</td>\n",
       "      <td>2630.000000</td>\n",
       "      <td>10.000000</td>\n",
       "    </tr>\n",
       "    <tr>\n",
       "      <th>25%</th>\n",
       "      <td>25.000000</td>\n",
       "      <td>24405.000000</td>\n",
       "      <td>82.000000</td>\n",
       "    </tr>\n",
       "    <tr>\n",
       "      <th>50%</th>\n",
       "      <td>36.000000</td>\n",
       "      <td>31669.000000</td>\n",
       "      <td>154.000000</td>\n",
       "    </tr>\n",
       "    <tr>\n",
       "      <th>75%</th>\n",
       "      <td>49.000000</td>\n",
       "      <td>39400.000000</td>\n",
       "      <td>227.000000</td>\n",
       "    </tr>\n",
       "    <tr>\n",
       "      <th>max</th>\n",
       "      <td>85.000000</td>\n",
       "      <td>540165.000000</td>\n",
       "      <td>299.000000</td>\n",
       "    </tr>\n",
       "  </tbody>\n",
       "</table>\n",
       "</div>"
      ],
      "text/plain": [
       "                 Age  Annual_Premium        Vintage\n",
       "count  381109.000000   381109.000000  381109.000000\n",
       "mean       38.822584    30564.389581     154.347397\n",
       "std        15.511611    17213.155057      83.671304\n",
       "min        20.000000     2630.000000      10.000000\n",
       "25%        25.000000    24405.000000      82.000000\n",
       "50%        36.000000    31669.000000     154.000000\n",
       "75%        49.000000    39400.000000     227.000000\n",
       "max        85.000000   540165.000000     299.000000"
      ]
     },
     "execution_count": 41,
     "metadata": {},
     "output_type": "execute_result"
    }
   ],
   "source": [
    "num_data.describe()"
   ]
  },
  {
   "cell_type": "markdown",
   "metadata": {},
   "source": [
    "# Age Dist."
   ]
  },
  {
   "cell_type": "code",
   "execution_count": 42,
   "metadata": {
    "execution": {
     "iopub.execute_input": "2021-09-17T01:56:46.067081Z",
     "iopub.status.busy": "2021-09-17T01:56:46.066770Z",
     "iopub.status.idle": "2021-09-17T01:56:50.640338Z",
     "shell.execute_reply": "2021-09-17T01:56:50.639649Z",
     "shell.execute_reply.started": "2021-09-17T01:56:46.067049Z"
    }
   },
   "outputs": [
    {
     "data": {
      "image/png": "[encoded data removed]",
      "text/plain": [
       "<Figure size 432x288 with 1 Axes>"
      ]
     },
     "metadata": {
      "needs_background": "light"
     },
     "output_type": "display_data"
    }
   ],
   "source": [
    "sns.distplot(df.Age);\n",
    "plt.show()"
   ]
  },
  {
   "cell_type": "code",
   "execution_count": 44,
   "metadata": {
    "execution": {
     "iopub.execute_input": "2021-09-17T01:56:50.641969Z",
     "iopub.status.busy": "2021-09-17T01:56:50.641560Z",
     "iopub.status.idle": "2021-09-17T01:56:51.202516Z",
     "shell.execute_reply": "2021-09-17T01:56:51.201913Z",
     "shell.execute_reply.started": "2021-09-17T01:56:50.641915Z"
    }
   },
   "outputs": [
    {
     "data": {
      "image/png": "[encoded data removed]",
      "text/plain": [
       "<Figure size 432x288 with 1 Axes>"
      ]
     },
     "metadata": {
      "needs_background": "light"
     },
     "output_type": "display_data"
    },
    {
     "data": {
      "image/png": "[encoded data removed]",
      "text/plain": [
       "<Figure size 432x288 with 1 Axes>"
      ]
     },
     "metadata": {
      "needs_background": "light"
     },
     "output_type": "display_data"
    },
    {
     "data": {
      "image/png": "[encoded data removed]",
      "text/plain": [
       "<Figure size 432x288 with 1 Axes>"
      ]
     },
     "metadata": {
      "needs_background": "light"
     },
     "output_type": "display_data"
    }
   ],
   "source": [
    "for i in num_data.columns:\n",
    "    sns.boxplot(num_data[i])\n",
    "    plt.title(f\"Spread of data and Outlier Detection in {i}\")\n",
    "    plt.show()"
   ]
  },
  {
   "cell_type": "code",
   "execution_count": 45,
   "metadata": {},
   "outputs": [
    {
     "data": {
      "image/png": "[encoded data removed]",
      "text/plain": [
       "<Figure size 432x288 with 1 Axes>"
      ]
     },
     "metadata": {
      "needs_background": "light"
     },
     "output_type": "display_data"
    }
   ],
   "source": [
    "sns.countplot(cat_data.Gender)\n",
    "plt.title(\"Frequency Analysis of Gender\")\n",
    "pct_0=str(round(cat_data.Gender.value_counts(1)[0]*100,2)) + str('%')\n",
    "pct_1=str(round(cat_data.Gender.value_counts(1)[1]*100,2)) + str('%')\n",
    "plt.text(x=-0.05,y=cat_data.Gender.value_counts()[0]/2,s=pct_0)\n",
    "plt.text(x=0.95,y=cat_data.Gender.value_counts()[1]/2,s=pct_1)\n",
    "plt.show()"
   ]
  },
  {
   "cell_type": "code",
   "execution_count": 46,
   "metadata": {},
   "outputs": [
    {
     "data": {
      "image/png": "[encoded data removed]",
      "text/plain": [
       "<Figure size 432x288 with 1 Axes>"
      ]
     },
     "metadata": {
      "needs_background": "light"
     },
     "output_type": "display_data"
    }
   ],
   "source": [
    "sns.countplot(cat_data.Driving_License)\n",
    "plt.title(\"Frequency Analysis of Driving_License\")\n",
    "pct_0=str(round(cat_data.Driving_License.value_counts(1)[0]*100,2)) + str('%')\n",
    "pct_1=str(round(cat_data.Driving_License.value_counts(1)[1]*100,2)) + str('%')\n",
    "plt.text(x=-0.05,y=cat_data.Driving_License.value_counts()[0]/2,s=pct_0)\n",
    "plt.text(x=0.95,y=cat_data.Driving_License.value_counts()[1]/2,s=pct_1)\n",
    "plt.show()"
   ]
  },
  {
   "cell_type": "code",
   "execution_count": 47,
   "metadata": {},
   "outputs": [
    {
     "data": {
      "image/png": "[encoded data removed]",
      "text/plain": [
       "<Figure size 432x288 with 1 Axes>"
      ]
     },
     "metadata": {
      "needs_background": "light"
     },
     "output_type": "display_data"
    }
   ],
   "source": [
    "sns.countplot(cat_data.Previously_Insured)\n",
    "plt.title(\"Frequency Analysis of Previously_Insured\")\n",
    "pct_0=str(round(cat_data.Previously_Insured.value_counts(1)[0]*100,2)) + str('%')\n",
    "pct_1=str(round(cat_data.Previously_Insured.value_counts(1)[1]*100,2)) + str('%')\n",
    "plt.text(x=-0.05,y=cat_data.Previously_Insured.value_counts()[0]/2,s=pct_0)\n",
    "plt.text(x=0.95,y=cat_data.Previously_Insured.value_counts()[1]/2,s=pct_1)\n",
    "plt.show()"
   ]
  },
  {
   "cell_type": "code",
   "execution_count": 48,
   "metadata": {
    "execution": {
     "iopub.execute_input": "2021-09-17T01:56:53.284526Z",
     "iopub.status.busy": "2021-09-17T01:56:53.284282Z",
     "iopub.status.idle": "2021-09-17T01:56:53.939407Z",
     "shell.execute_reply": "2021-09-17T01:56:53.938240Z",
     "shell.execute_reply.started": "2021-09-17T01:56:53.284496Z"
    }
   },
   "outputs": [
    {
     "data": {
      "image/png": "[encoded data removed]",
      "text/plain": [
       "<Figure size 432x288 with 1 Axes>"
      ]
     },
     "metadata": {
      "needs_background": "light"
     },
     "output_type": "display_data"
    }
   ],
   "source": [
    "sns.countplot(cat_data.Vehicle_Age)\n",
    "plt.title(\"Frequency Analysis of Vehicle_Age\")\n",
    "plt.show()"
   ]
  },
  {
   "cell_type": "code",
   "execution_count": 49,
   "metadata": {
    "execution": {
     "iopub.execute_input": "2021-09-17T01:56:53.942228Z",
     "iopub.status.busy": "2021-09-17T01:56:53.941779Z",
     "iopub.status.idle": "2021-09-17T01:56:53.995960Z",
     "shell.execute_reply": "2021-09-17T01:56:53.994695Z",
     "shell.execute_reply.started": "2021-09-17T01:56:53.942182Z"
    }
   },
   "outputs": [
    {
     "data": {
      "text/plain": [
       "Years1-2          52.561341\n",
       "LessThan1Year     43.238549\n",
       "MoreThan2Years     4.200111\n",
       "Name: Vehicle_Age, dtype: float64"
      ]
     },
     "execution_count": 49,
     "metadata": {},
     "output_type": "execute_result"
    }
   ],
   "source": [
    "cat_data.Vehicle_Age.value_counts(1)*100"
   ]
  },
  {
   "cell_type": "code",
   "execution_count": 50,
   "metadata": {
    "execution": {
     "iopub.execute_input": "2021-09-17T01:56:53.997895Z",
     "iopub.status.busy": "2021-09-17T01:56:53.997386Z",
     "iopub.status.idle": "2021-09-17T01:56:54.638776Z",
     "shell.execute_reply": "2021-09-17T01:56:54.637872Z",
     "shell.execute_reply.started": "2021-09-17T01:56:53.997863Z"
    }
   },
   "outputs": [
    {
     "data": {
      "image/png": "[encoded data removed]",
      "text/plain": [
       "<Figure size 432x288 with 1 Axes>"
      ]
     },
     "metadata": {
      "needs_background": "light"
     },
     "output_type": "display_data"
    }
   ],
   "source": [
    "sns.countplot(cat_data.Vehicle_Damage)\n",
    "plt.title(\"Frequency Analysis of Vehicle_Damage\")\n",
    "pct_0=str(round(cat_data.Previously_Insured.value_counts(1)[0]*100,2)) + str('%')\n",
    "pct_1=str(round(cat_data.Previously_Insured.value_counts(1)[1]*100,2)) + str('%')\n",
    "plt.text(x=-0.05,y=cat_data.Previously_Insured.value_counts()[0]/2,s=pct_0)\n",
    "plt.text(x=0.95,y=cat_data.Previously_Insured.value_counts()[1]/2,s=pct_1)\n",
    "plt.show()"
   ]
  },
  {
   "cell_type": "code",
   "execution_count": 51,
   "metadata": {
    "execution": {
     "iopub.execute_input": "2021-09-17T01:56:54.640563Z",
     "iopub.status.busy": "2021-09-17T01:56:54.640280Z",
     "iopub.status.idle": "2021-09-17T01:56:54.699289Z",
     "shell.execute_reply": "2021-09-17T01:56:54.698011Z",
     "shell.execute_reply.started": "2021-09-17T01:56:54.640528Z"
    }
   },
   "outputs": [
    {
     "data": {
      "text/plain": [
       "Vehicle_Damaged        50.487656\n",
       "Vehicle_Not_Damaged    49.512344\n",
       "Name: Vehicle_Damage, dtype: float64"
      ]
     },
     "execution_count": 51,
     "metadata": {},
     "output_type": "execute_result"
    }
   ],
   "source": [
    "cat_data.Vehicle_Damage.value_counts(1)*100"
   ]
  },
  {
   "cell_type": "code",
   "execution_count": 53,
   "metadata": {
    "execution": {
     "iopub.execute_input": "2021-09-17T01:56:54.701255Z",
     "iopub.status.busy": "2021-09-17T01:56:54.700770Z",
     "iopub.status.idle": "2021-09-17T01:56:55.404877Z",
     "shell.execute_reply": "2021-09-17T01:56:55.403658Z",
     "shell.execute_reply.started": "2021-09-17T01:56:54.701215Z"
    }
   },
   "outputs": [
    {
     "data": {
      "image/png": "[encoded data removed]",
      "text/plain": [
       "<Figure size 1080x2160 with 1 Axes>"
      ]
     },
     "metadata": {
      "needs_background": "light"
     },
     "output_type": "display_data"
    }
   ],
   "source": [
    "plt.figure(figsize=(15,30))\n",
    "labels = df.Policy_Sales_Channel.value_counts().index\n",
    "values = df.Policy_Sales_Channel.value_counts()\n",
    "plt.barh(y=labels,width=values)\n",
    "plt.ylabel(\"Sales Channel No.\")\n",
    "plt.xlabel(\"Frequency\")\n",
    "plt.title(\"Frequency Analysis of Policy_Sales_Channel\",size=15)\n",
    "plt.show()"
   ]
  },
  {
   "cell_type": "code",
   "execution_count": 54,
   "metadata": {
    "execution": {
     "iopub.execute_input": "2021-09-17T01:56:55.406952Z",
     "iopub.status.busy": "2021-09-17T01:56:55.406670Z",
     "iopub.status.idle": "2021-09-17T01:56:55.462014Z",
     "shell.execute_reply": "2021-09-17T01:56:55.460905Z",
     "shell.execute_reply.started": "2021-09-17T01:56:55.406921Z"
    }
   },
   "outputs": [
    {
     "data": {
      "text/plain": [
       "152    35.366260\n",
       "26     20.912652\n",
       "124    19.415705\n",
       "160     5.714638\n",
       "156     2.797362\n",
       "         ...    \n",
       "149     0.000262\n",
       "43      0.000262\n",
       "144     0.000262\n",
       "143     0.000262\n",
       "41      0.000262\n",
       "Name: Policy_Sales_Channel, Length: 155, dtype: float64"
      ]
     },
     "execution_count": 54,
     "metadata": {},
     "output_type": "execute_result"
    }
   ],
   "source": [
    "cat_data.Policy_Sales_Channel.value_counts(1)*100"
   ]
  },
  {
   "cell_type": "code",
   "execution_count": 55,
   "metadata": {
    "execution": {
     "iopub.execute_input": "2021-09-17T01:56:55.464176Z",
     "iopub.status.busy": "2021-09-17T01:56:55.463884Z",
     "iopub.status.idle": "2021-09-17T01:56:55.889011Z",
     "shell.execute_reply": "2021-09-17T01:56:55.887828Z",
     "shell.execute_reply.started": "2021-09-17T01:56:55.464147Z"
    }
   },
   "outputs": [
    {
     "data": {
      "image/png": "[encoded data removed]",
      "text/plain": [
       "<Figure size 1800x720 with 1 Axes>"
      ]
     },
     "metadata": {
      "needs_background": "light"
     },
     "output_type": "display_data"
    }
   ],
   "source": [
    "plt.figure(figsize=(25,10))\n",
    "labels = df.Region_Code.value_counts().index\n",
    "values = df.Region_Code.value_counts()\n",
    "plt.bar(x=labels,height=values)\n",
    "plt.xlabel(\"Region Code\",size=15)\n",
    "plt.ylabel(\"Frequency\",size=15)\n",
    "plt.title(\"Frequency Analysis of Region Code\",size=20)\n",
    "plt.show()"
   ]
  },
  {
   "cell_type": "code",
   "execution_count": 56,
   "metadata": {
    "execution": {
     "iopub.execute_input": "2021-09-17T01:56:55.891340Z",
     "iopub.status.busy": "2021-09-17T01:56:55.890631Z",
     "iopub.status.idle": "2021-09-17T01:56:55.944331Z",
     "shell.execute_reply": "2021-09-17T01:56:55.943418Z",
     "shell.execute_reply.started": "2021-09-17T01:56:55.891292Z"
    }
   },
   "outputs": [
    {
     "data": {
      "text/plain": [
       "28    27.922458\n",
       "8      8.889058\n",
       "46     5.181982\n",
       "41     4.792067\n",
       "15     3.491914\n",
       "30     3.198822\n",
       "29     2.903369\n",
       "50     2.687683\n",
       "3      2.427390\n",
       "11     2.422404\n",
       "36     2.308264\n",
       "33     2.008349\n",
       "47     1.951148\n",
       "35     1.821526\n",
       "6      1.647823\n",
       "45     1.470708\n",
       "37     1.443419\n",
       "18     1.352107\n",
       "48     1.228258\n",
       "14     1.227470\n",
       "39     1.218549\n",
       "10     1.147703\n",
       "21     1.119365\n",
       "2      1.059539\n",
       "13     1.059015\n",
       "7      0.860384\n",
       "12     0.839130\n",
       "9      0.813678\n",
       "27     0.740733\n",
       "32     0.731287\n",
       "43     0.692453\n",
       "17     0.686680\n",
       "26     0.678808\n",
       "25     0.656767\n",
       "24     0.633677\n",
       "38     0.531606\n",
       "0      0.530294\n",
       "16     0.526621\n",
       "31     0.514289\n",
       "23     0.514289\n",
       "20     0.507729\n",
       "49     0.480702\n",
       "4      0.472568\n",
       "34     0.436620\n",
       "19     0.402772\n",
       "22     0.343471\n",
       "40     0.339798\n",
       "5      0.335600\n",
       "1      0.264491\n",
       "44     0.212013\n",
       "42     0.155074\n",
       "52     0.070059\n",
       "51     0.048018\n",
       "Name: Region_Code, dtype: float64"
      ]
     },
     "execution_count": 56,
     "metadata": {},
     "output_type": "execute_result"
    }
   ],
   "source": [
    "cat_data.Region_Code.value_counts(1)*100"
   ]
  },
  {
   "cell_type": "markdown",
   "metadata": {},
   "source": [
    "#### Inferences - \n",
    "For Numerical Features - \n",
    "- Age and Annual Premium are postively skewed, with annual premium having a large skewness values of 1.76\n",
    "- Vintage or duration of tenure of customers is uniformly distributed.\n",
    "- Due to very high skewness, Annual Premium has large frequency and large value outliers.\n",
    "\n",
    "\n",
    "- Age of most of the insurance holders is around 20-30 years, with a significant number of holders also found to be in the range of 40-50 years. However, due to a slightly bi-model appearance, we can say the median age of insurance holders in this dataset is 36 years.\n",
    "- Median Premium most health insurance holders pay per annum is around 31000.\n",
    "- In respect to vintage, the no. of insurance holders who have held the insurance for a specific period are more or less uniform or identical. No clear majority.\n",
    "\n",
    "\n",
    "For Categorcal Features - \n",
    "- Except Sales Channel and Region, all other categorical features have around 2-3 unique categories only.\n",
    "- However, within dirving license, % of those without licence is less than 1%. Such a feature will not be of any use.\n",
    "- Sales Channel and Region have more than 20 unique categories, which would make it difficult to encode later.\n",
    "- However, we have also observed that both sales channel and region have only a few dominating categories, with others very svehiclecely represented. We can considering grouping such categories.\n",
    "\n",
    "\n",
    "- We can observe that the target feature i.e whether a health insuance holder would be a vehicle insurance, is highly imbalanced, with 87% of health insurance holders not having purchased a vehicle insurance.\n",
    "- We have more males than females in the dataset, but only by a margin of around 25k.\n",
    "- Almost all the health insurance holders have a driving license\n",
    "- More than 50% of the vehicle owners have vehicles which are around 1-2 years old.\n",
    "- Amongst all vehicle owners, the proportion of those who suffered vehicle damage to those who didnt are nearly same.\n",
    "- In terms of sales policy channels frequently adopted, we observed specific channels in the range 0-30, 120-125 and 150-160. However, the most adopted sales policy channels are 152, 26 and 124.\n",
    "- In terms of region, we can see majority of the insurance holders coming from region number 28, followed by 8."
   ]
  },
  {
   "cell_type": "markdown",
   "metadata": {},
   "source": [
    "### Bi-variate Analysis"
   ]
  },
  {
   "cell_type": "code",
   "execution_count": 57,
   "metadata": {
    "execution": {
     "iopub.execute_input": "2021-09-17T01:56:55.946782Z",
     "iopub.status.busy": "2021-09-17T01:56:55.946357Z",
     "iopub.status.idle": "2021-09-17T01:56:56.119031Z",
     "shell.execute_reply": "2021-09-17T01:56:56.117824Z",
     "shell.execute_reply.started": "2021-09-17T01:56:55.946731Z"
    }
   },
   "outputs": [
    {
     "data": {
      "text/html": [
       "<div>\n",
       "<style scoped>\n",
       "    .dataframe tbody tr th:only-of-type {\n",
       "        vertical-align: middle;\n",
       "    }\n",
       "\n",
       "    .dataframe tbody tr th {\n",
       "        vertical-align: top;\n",
       "    }\n",
       "\n",
       "    .dataframe thead th {\n",
       "        text-align: right;\n",
       "    }\n",
       "</style>\n",
       "<table border=\"1\" class=\"dataframe\">\n",
       "  <thead>\n",
       "    <tr style=\"text-align: right;\">\n",
       "      <th></th>\n",
       "      <th>Age</th>\n",
       "      <th>Annual_Premium</th>\n",
       "      <th>Vintage</th>\n",
       "    </tr>\n",
       "  </thead>\n",
       "  <tbody>\n",
       "    <tr>\n",
       "      <th>count</th>\n",
       "      <td>334399.000000</td>\n",
       "      <td>334399.000000</td>\n",
       "      <td>334399.000000</td>\n",
       "    </tr>\n",
       "    <tr>\n",
       "      <th>mean</th>\n",
       "      <td>38.178227</td>\n",
       "      <td>30419.160276</td>\n",
       "      <td>154.380243</td>\n",
       "    </tr>\n",
       "    <tr>\n",
       "      <th>std</th>\n",
       "      <td>15.816052</td>\n",
       "      <td>16998.293197</td>\n",
       "      <td>83.661975</td>\n",
       "    </tr>\n",
       "    <tr>\n",
       "      <th>min</th>\n",
       "      <td>20.000000</td>\n",
       "      <td>2630.000000</td>\n",
       "      <td>10.000000</td>\n",
       "    </tr>\n",
       "    <tr>\n",
       "      <th>25%</th>\n",
       "      <td>24.000000</td>\n",
       "      <td>24351.000000</td>\n",
       "      <td>82.000000</td>\n",
       "    </tr>\n",
       "    <tr>\n",
       "      <th>50%</th>\n",
       "      <td>34.000000</td>\n",
       "      <td>31504.000000</td>\n",
       "      <td>154.000000</td>\n",
       "    </tr>\n",
       "    <tr>\n",
       "      <th>75%</th>\n",
       "      <td>49.000000</td>\n",
       "      <td>39120.000000</td>\n",
       "      <td>227.000000</td>\n",
       "    </tr>\n",
       "    <tr>\n",
       "      <th>max</th>\n",
       "      <td>85.000000</td>\n",
       "      <td>540165.000000</td>\n",
       "      <td>299.000000</td>\n",
       "    </tr>\n",
       "  </tbody>\n",
       "</table>\n",
       "</div>"
      ],
      "text/plain": [
       "                 Age  Annual_Premium        Vintage\n",
       "count  334399.000000   334399.000000  334399.000000\n",
       "mean       38.178227    30419.160276     154.380243\n",
       "std        15.816052    16998.293197      83.661975\n",
       "min        20.000000     2630.000000      10.000000\n",
       "25%        24.000000    24351.000000      82.000000\n",
       "50%        34.000000    31504.000000     154.000000\n",
       "75%        49.000000    39120.000000     227.000000\n",
       "max        85.000000   540165.000000     299.000000"
      ]
     },
     "execution_count": 57,
     "metadata": {},
     "output_type": "execute_result"
    }
   ],
   "source": [
    "df[df.Response==0].describe()"
   ]
  },
  {
   "cell_type": "code",
   "execution_count": 58,
   "metadata": {
    "execution": {
     "iopub.execute_input": "2021-09-17T01:56:56.120840Z",
     "iopub.status.busy": "2021-09-17T01:56:56.120553Z",
     "iopub.status.idle": "2021-09-17T01:56:56.215388Z",
     "shell.execute_reply": "2021-09-17T01:56:56.214213Z",
     "shell.execute_reply.started": "2021-09-17T01:56:56.120810Z"
    }
   },
   "outputs": [
    {
     "data": {
      "text/html": [
       "<div>\n",
       "<style scoped>\n",
       "    .dataframe tbody tr th:only-of-type {\n",
       "        vertical-align: middle;\n",
       "    }\n",
       "\n",
       "    .dataframe tbody tr th {\n",
       "        vertical-align: top;\n",
       "    }\n",
       "\n",
       "    .dataframe thead th {\n",
       "        text-align: right;\n",
       "    }\n",
       "</style>\n",
       "<table border=\"1\" class=\"dataframe\">\n",
       "  <thead>\n",
       "    <tr style=\"text-align: right;\">\n",
       "      <th></th>\n",
       "      <th>Age</th>\n",
       "      <th>Annual_Premium</th>\n",
       "      <th>Vintage</th>\n",
       "    </tr>\n",
       "  </thead>\n",
       "  <tbody>\n",
       "    <tr>\n",
       "      <th>count</th>\n",
       "      <td>46710.000000</td>\n",
       "      <td>46710.000000</td>\n",
       "      <td>46710.000000</td>\n",
       "    </tr>\n",
       "    <tr>\n",
       "      <th>mean</th>\n",
       "      <td>43.435560</td>\n",
       "      <td>31604.092742</td>\n",
       "      <td>154.112246</td>\n",
       "    </tr>\n",
       "    <tr>\n",
       "      <th>std</th>\n",
       "      <td>12.168924</td>\n",
       "      <td>18646.508040</td>\n",
       "      <td>83.738574</td>\n",
       "    </tr>\n",
       "    <tr>\n",
       "      <th>min</th>\n",
       "      <td>20.000000</td>\n",
       "      <td>2630.000000</td>\n",
       "      <td>10.000000</td>\n",
       "    </tr>\n",
       "    <tr>\n",
       "      <th>25%</th>\n",
       "      <td>35.000000</td>\n",
       "      <td>24868.000000</td>\n",
       "      <td>82.000000</td>\n",
       "    </tr>\n",
       "    <tr>\n",
       "      <th>50%</th>\n",
       "      <td>43.000000</td>\n",
       "      <td>33002.000000</td>\n",
       "      <td>154.000000</td>\n",
       "    </tr>\n",
       "    <tr>\n",
       "      <th>75%</th>\n",
       "      <td>51.000000</td>\n",
       "      <td>41297.000000</td>\n",
       "      <td>226.000000</td>\n",
       "    </tr>\n",
       "    <tr>\n",
       "      <th>max</th>\n",
       "      <td>83.000000</td>\n",
       "      <td>540165.000000</td>\n",
       "      <td>299.000000</td>\n",
       "    </tr>\n",
       "  </tbody>\n",
       "</table>\n",
       "</div>"
      ],
      "text/plain": [
       "                Age  Annual_Premium       Vintage\n",
       "count  46710.000000    46710.000000  46710.000000\n",
       "mean      43.435560    31604.092742    154.112246\n",
       "std       12.168924    18646.508040     83.738574\n",
       "min       20.000000     2630.000000     10.000000\n",
       "25%       35.000000    24868.000000     82.000000\n",
       "50%       43.000000    33002.000000    154.000000\n",
       "75%       51.000000    41297.000000    226.000000\n",
       "max       83.000000   540165.000000    299.000000"
      ]
     },
     "execution_count": 58,
     "metadata": {},
     "output_type": "execute_result"
    }
   ],
   "source": [
    "df[df.Response==1].describe()"
   ]
  },
  {
   "cell_type": "markdown",
   "metadata": {},
   "source": [
    "## Gender & Response"
   ]
  },
  {
   "cell_type": "code",
   "execution_count": 59,
   "metadata": {},
   "outputs": [
    {
     "data": {
      "image/png": "[encoded data removed]",
      "text/plain": [
       "<Figure size 432x288 with 1 Axes>"
      ]
     },
     "metadata": {
      "needs_background": "light"
     },
     "output_type": "display_data"
    }
   ],
   "source": [
    "sns.countplot(df.Gender,hue=df.Response)\n",
    "plt.show()"
   ]
  },
  {
   "cell_type": "markdown",
   "metadata": {},
   "source": [
    "Inference: The number of Males, who have not insured their vehicle till now is more than females and same pattern is observed when\n",
    "we comapre the males and females who have already insured."
   ]
  },
  {
   "cell_type": "markdown",
   "metadata": {},
   "source": [
    "## Driving License By Gender"
   ]
  },
  {
   "cell_type": "code",
   "execution_count": 60,
   "metadata": {},
   "outputs": [
    {
     "data": {
      "text/html": [
       "<div>\n",
       "<style scoped>\n",
       "    .dataframe tbody tr th:only-of-type {\n",
       "        vertical-align: middle;\n",
       "    }\n",
       "\n",
       "    .dataframe tbody tr th {\n",
       "        vertical-align: top;\n",
       "    }\n",
       "\n",
       "    .dataframe thead th {\n",
       "        text-align: right;\n",
       "    }\n",
       "</style>\n",
       "<table border=\"1\" class=\"dataframe\">\n",
       "  <thead>\n",
       "    <tr style=\"text-align: right;\">\n",
       "      <th></th>\n",
       "      <th>Gender</th>\n",
       "      <th>Driving_License</th>\n",
       "    </tr>\n",
       "  </thead>\n",
       "  <tbody>\n",
       "    <tr>\n",
       "      <th>0</th>\n",
       "      <td>Female</td>\n",
       "      <td>175020</td>\n",
       "    </tr>\n",
       "    <tr>\n",
       "      <th>1</th>\n",
       "      <td>Male</td>\n",
       "      <td>206089</td>\n",
       "    </tr>\n",
       "  </tbody>\n",
       "</table>\n",
       "</div>"
      ],
      "text/plain": [
       "   Gender  Driving_License\n",
       "0  Female           175020\n",
       "1    Male           206089"
      ]
     },
     "execution_count": 60,
     "metadata": {},
     "output_type": "execute_result"
    }
   ],
   "source": [
    "b=df.groupby(['Gender'])['Driving_License'].count().to_frame().reset_index()\n",
    "b"
   ]
  },
  {
   "cell_type": "code",
   "execution_count": 61,
   "metadata": {},
   "outputs": [
    {
     "data": {
      "image/png": "[encoded data removed]",
      "text/plain": [
       "<Figure size 360x360 with 1 Axes>"
      ]
     },
     "metadata": {
      "needs_background": "light"
     },
     "output_type": "display_data"
    }
   ],
   "source": [
    "sns.catplot(x=\"Gender\", y=\"Driving_License\", data=b, kind=\"bar\");"
   ]
  },
  {
   "cell_type": "markdown",
   "metadata": {},
   "source": [
    "Inference: Number of Males having driving Licences is more as compared to those of Females."
   ]
  },
  {
   "cell_type": "markdown",
   "metadata": {},
   "source": [
    "## Customers Having Vehicle Insurance already vs Gender"
   ]
  },
  {
   "cell_type": "code",
   "execution_count": 62,
   "metadata": {},
   "outputs": [
    {
     "data": {
      "text/html": [
       "<div>\n",
       "<style scoped>\n",
       "    .dataframe tbody tr th:only-of-type {\n",
       "        vertical-align: middle;\n",
       "    }\n",
       "\n",
       "    .dataframe tbody tr th {\n",
       "        vertical-align: top;\n",
       "    }\n",
       "\n",
       "    .dataframe thead th {\n",
       "        text-align: right;\n",
       "    }\n",
       "</style>\n",
       "<table border=\"1\" class=\"dataframe\">\n",
       "  <thead>\n",
       "    <tr style=\"text-align: right;\">\n",
       "      <th>Gender</th>\n",
       "      <th>Female</th>\n",
       "      <th>Male</th>\n",
       "    </tr>\n",
       "    <tr>\n",
       "      <th>Previously_Insured</th>\n",
       "      <th></th>\n",
       "      <th></th>\n",
       "    </tr>\n",
       "  </thead>\n",
       "  <tbody>\n",
       "    <tr>\n",
       "      <th>Vehicle_Insured</th>\n",
       "      <td>87949</td>\n",
       "      <td>86679</td>\n",
       "    </tr>\n",
       "    <tr>\n",
       "      <th>Vehicle_Not_Insured</th>\n",
       "      <td>87071</td>\n",
       "      <td>119410</td>\n",
       "    </tr>\n",
       "  </tbody>\n",
       "</table>\n",
       "</div>"
      ],
      "text/plain": [
       "Gender               Female    Male\n",
       "Previously_Insured                 \n",
       "Vehicle_Insured       87949   86679\n",
       "Vehicle_Not_Insured   87071  119410"
      ]
     },
     "execution_count": 62,
     "metadata": {},
     "output_type": "execute_result"
    }
   ],
   "source": [
    "df_plot = df.groupby(['Previously_Insured', 'Gender']).size().reset_index().pivot(columns='Gender', index='Previously_Insured', values=0)\n",
    "df_plot"
   ]
  },
  {
   "cell_type": "code",
   "execution_count": 63,
   "metadata": {},
   "outputs": [
    {
     "data": {
      "image/png": "[encoded data removed]",
      "text/plain": [
       "<Figure size 432x288 with 1 Axes>"
      ]
     },
     "metadata": {
      "needs_background": "light"
     },
     "output_type": "display_data"
    }
   ],
   "source": [
    "df_plot.plot(kind='bar',stacked=True)\n",
    "plt.show()"
   ]
  },
  {
   "cell_type": "markdown",
   "metadata": {},
   "source": [
    "Inference: The number of females who have previously taken and not taken insurance is almost same and the number of males who have previously not taken insurance is significantly more, which becomes the potential customer base for cross-selling\n",
    "vehicle insurance."
   ]
  },
  {
   "cell_type": "markdown",
   "metadata": {},
   "source": [
    "## Customers Having Vehicle Insurance already vs Response"
   ]
  },
  {
   "cell_type": "code",
   "execution_count": 64,
   "metadata": {},
   "outputs": [
    {
     "data": {
      "text/html": [
       "<div>\n",
       "<style scoped>\n",
       "    .dataframe tbody tr th:only-of-type {\n",
       "        vertical-align: middle;\n",
       "    }\n",
       "\n",
       "    .dataframe tbody tr th {\n",
       "        vertical-align: top;\n",
       "    }\n",
       "\n",
       "    .dataframe thead th {\n",
       "        text-align: right;\n",
       "    }\n",
       "</style>\n",
       "<table border=\"1\" class=\"dataframe\">\n",
       "  <thead>\n",
       "    <tr style=\"text-align: right;\">\n",
       "      <th>Response</th>\n",
       "      <th>0</th>\n",
       "      <th>1</th>\n",
       "    </tr>\n",
       "    <tr>\n",
       "      <th>Previously_Insured</th>\n",
       "      <th></th>\n",
       "      <th></th>\n",
       "    </tr>\n",
       "  </thead>\n",
       "  <tbody>\n",
       "    <tr>\n",
       "      <th>Vehicle_Insured</th>\n",
       "      <td>174470</td>\n",
       "      <td>158</td>\n",
       "    </tr>\n",
       "    <tr>\n",
       "      <th>Vehicle_Not_Insured</th>\n",
       "      <td>159929</td>\n",
       "      <td>46552</td>\n",
       "    </tr>\n",
       "  </tbody>\n",
       "</table>\n",
       "</div>"
      ],
      "text/plain": [
       "Response                  0      1\n",
       "Previously_Insured                \n",
       "Vehicle_Insured      174470    158\n",
       "Vehicle_Not_Insured  159929  46552"
      ]
     },
     "execution_count": 64,
     "metadata": {},
     "output_type": "execute_result"
    }
   ],
   "source": [
    "e = df.groupby(['Previously_Insured', 'Response']).size().reset_index().pivot(columns='Response', index='Previously_Insured', values=0)\n",
    "e"
   ]
  },
  {
   "cell_type": "code",
   "execution_count": 65,
   "metadata": {},
   "outputs": [
    {
     "data": {
      "image/png": "[encoded data removed]",
      "text/plain": [
       "<Figure size 432x288 with 1 Axes>"
      ]
     },
     "metadata": {
      "needs_background": "light"
     },
     "output_type": "display_data"
    }
   ],
   "source": [
    "e.plot(kind='bar',stacked=True)\n",
    "plt.show()"
   ]
  },
  {
   "cell_type": "markdown",
   "metadata": {},
   "source": [
    "Inference: Customers who already have vehicle insurance are not interested, but we can see a very few people, despite having vehicle\n",
    "insurance are interested in our company's insurance.(very thin orange line at the top of second bar ).\n",
    "\n",
    "Customers who dont have vehicle insurance, majority of them are still not interested in it."
   ]
  },
  {
   "cell_type": "markdown",
   "metadata": {},
   "source": [
    "# Frequency Analysis- Response vs Driving License "
   ]
  },
  {
   "cell_type": "code",
   "execution_count": 66,
   "metadata": {},
   "outputs": [
    {
     "data": {
      "text/html": [
       "<div>\n",
       "<style scoped>\n",
       "    .dataframe tbody tr th:only-of-type {\n",
       "        vertical-align: middle;\n",
       "    }\n",
       "\n",
       "    .dataframe tbody tr th {\n",
       "        vertical-align: top;\n",
       "    }\n",
       "\n",
       "    .dataframe thead th {\n",
       "        text-align: right;\n",
       "    }\n",
       "</style>\n",
       "<table border=\"1\" class=\"dataframe\">\n",
       "  <thead>\n",
       "    <tr style=\"text-align: right;\">\n",
       "      <th>Response</th>\n",
       "      <th>0</th>\n",
       "      <th>1</th>\n",
       "    </tr>\n",
       "    <tr>\n",
       "      <th>Driving_License</th>\n",
       "      <th></th>\n",
       "      <th></th>\n",
       "    </tr>\n",
       "  </thead>\n",
       "  <tbody>\n",
       "    <tr>\n",
       "      <th>Has_License</th>\n",
       "      <td>333628</td>\n",
       "      <td>46669</td>\n",
       "    </tr>\n",
       "    <tr>\n",
       "      <th>No_License</th>\n",
       "      <td>771</td>\n",
       "      <td>41</td>\n",
       "    </tr>\n",
       "  </tbody>\n",
       "</table>\n",
       "</div>"
      ],
      "text/plain": [
       "Response              0      1\n",
       "Driving_License               \n",
       "Has_License      333628  46669\n",
       "No_License          771     41"
      ]
     },
     "execution_count": 66,
     "metadata": {},
     "output_type": "execute_result"
    }
   ],
   "source": [
    "z = df.groupby(['Driving_License', 'Response']).size().reset_index().pivot(columns='Response', index='Driving_License', values=0)\n",
    "z"
   ]
  },
  {
   "cell_type": "code",
   "execution_count": 67,
   "metadata": {},
   "outputs": [
    {
     "data": {
      "image/png": "[encoded data removed]",
      "text/plain": [
       "<Figure size 432x288 with 1 Axes>"
      ]
     },
     "metadata": {
      "needs_background": "light"
     },
     "output_type": "display_data"
    }
   ],
   "source": [
    "z.plot(kind='bar')\n",
    "plt.show()"
   ]
  },
  {
   "cell_type": "markdown",
   "metadata": {},
   "source": [
    "# Frequency Analysis- Response vs Vehicle Damage"
   ]
  },
  {
   "cell_type": "code",
   "execution_count": 68,
   "metadata": {},
   "outputs": [
    {
     "data": {
      "text/html": [
       "<div>\n",
       "<style scoped>\n",
       "    .dataframe tbody tr th:only-of-type {\n",
       "        vertical-align: middle;\n",
       "    }\n",
       "\n",
       "    .dataframe tbody tr th {\n",
       "        vertical-align: top;\n",
       "    }\n",
       "\n",
       "    .dataframe thead th {\n",
       "        text-align: right;\n",
       "    }\n",
       "</style>\n",
       "<table border=\"1\" class=\"dataframe\">\n",
       "  <thead>\n",
       "    <tr style=\"text-align: right;\">\n",
       "      <th>Response</th>\n",
       "      <th>0</th>\n",
       "      <th>1</th>\n",
       "    </tr>\n",
       "    <tr>\n",
       "      <th>Vehicle_Damage</th>\n",
       "      <th></th>\n",
       "      <th></th>\n",
       "    </tr>\n",
       "  </thead>\n",
       "  <tbody>\n",
       "    <tr>\n",
       "      <th>Vehicle_Damaged</th>\n",
       "      <td>146685</td>\n",
       "      <td>45728</td>\n",
       "    </tr>\n",
       "    <tr>\n",
       "      <th>Vehicle_Not_Damaged</th>\n",
       "      <td>187714</td>\n",
       "      <td>982</td>\n",
       "    </tr>\n",
       "  </tbody>\n",
       "</table>\n",
       "</div>"
      ],
      "text/plain": [
       "Response                  0      1\n",
       "Vehicle_Damage                    \n",
       "Vehicle_Damaged      146685  45728\n",
       "Vehicle_Not_Damaged  187714    982"
      ]
     },
     "execution_count": 68,
     "metadata": {},
     "output_type": "execute_result"
    }
   ],
   "source": [
    "x = df.groupby(['Vehicle_Damage', 'Response']).size().reset_index().pivot(columns='Response', index='Vehicle_Damage', values=0)\n",
    "x"
   ]
  },
  {
   "cell_type": "code",
   "execution_count": 69,
   "metadata": {},
   "outputs": [
    {
     "data": {
      "image/png": "[encoded data removed]",
      "text/plain": [
       "<Figure size 432x288 with 1 Axes>"
      ]
     },
     "metadata": {
      "needs_background": "light"
     },
     "output_type": "display_data"
    }
   ],
   "source": [
    "x.plot(kind='bar')\n",
    "plt.show()"
   ]
  },
  {
   "cell_type": "markdown",
   "metadata": {},
   "source": [
    "## Age vs Vehicle_Damage"
   ]
  },
  {
   "cell_type": "code",
   "execution_count": 70,
   "metadata": {},
   "outputs": [
    {
     "data": {
      "image/png": "[encoded data removed]",
      "text/plain": [
       "<Figure size 432x288 with 1 Axes>"
      ]
     },
     "metadata": {
      "needs_background": "light"
     },
     "output_type": "display_data"
    }
   ],
   "source": [
    "sns.countplot(df.Vehicle_Age,hue=df.Vehicle_Damage)\n",
    "plt.show()"
   ]
  },
  {
   "cell_type": "markdown",
   "metadata": {},
   "source": [
    "Inference: The majority of vehicles which are less than 1 year are not damaged\n",
    "\n",
    "The vehicles which has >2 years age are almost damaged vehicles\n",
    "\n",
    "The majority of vehicles which has 1-2 years of age are damaged vehicles."
   ]
  },
  {
   "cell_type": "code",
   "execution_count": 78,
   "metadata": {
    "execution": {
     "iopub.execute_input": "2021-09-17T01:57:05.259045Z",
     "iopub.status.busy": "2021-09-17T01:57:05.258487Z",
     "iopub.status.idle": "2021-09-17T01:57:05.573407Z",
     "shell.execute_reply": "2021-09-17T01:57:05.572476Z",
     "shell.execute_reply.started": "2021-09-17T01:57:05.259004Z"
    }
   },
   "outputs": [
    {
     "name": "stdout",
     "output_type": "stream",
     "text": [
      "STATISTICAL TEST - T-TEST INDEPENDENT SAMPLES\n",
      "To determine different in sample means of target class 0 and 1\n",
      "Null Hypothesis: There is no difference in means\n",
      "Alternate Hypothesis: There is a difference in means\n",
      "\n",
      "Age\n",
      "P value for no difference: 0.0\n",
      "\n",
      "Vintage\n",
      "P value for no difference: 0.5167036521412091\n",
      "\n"
     ]
    }
   ],
   "source": [
    "print(\"STATISTICAL TEST - T-TEST INDEPENDENT SAMPLES\")\n",
    "print(\"To determine different in sample means of target class 0 and 1\")\n",
    "print(\"Null Hypothesis: There is no difference in means\")\n",
    "print('Alternate Hypothesis: There is a difference in means')\n",
    "print()\n",
    "\n",
    "for i in [\"Age\",\"Vintage\"]:\n",
    "    print(i)\n",
    "    print(\"P value for no difference:\",stats.ttest_ind(df[df.Response==0][i],df[df.Response==1][i])[1])\n",
    "    print()"
   ]
  },
  {
   "cell_type": "code",
   "execution_count": 75,
   "metadata": {
    "execution": {
     "iopub.execute_input": "2021-09-17T01:57:15.156308Z",
     "iopub.status.busy": "2021-09-17T01:57:15.155962Z",
     "iopub.status.idle": "2021-09-17T01:57:17.584320Z",
     "shell.execute_reply": "2021-09-17T01:57:17.583369Z",
     "shell.execute_reply.started": "2021-09-17T01:57:15.156277Z"
    }
   },
   "outputs": [
    {
     "data": {
      "image/png": "[encoded data removed]",
      "text/plain": [
       "<Figure size 1440x432 with 1 Axes>"
      ]
     },
     "metadata": {
      "needs_background": "light"
     },
     "output_type": "display_data"
    }
   ],
   "source": [
    "plt.figure(figsize = (20,6))\n",
    "sns.countplot(x=df.Region_Code,hue=df.Response)\n",
    "plt.title(\"Frequency Analysis : Response - Region\",size=20)\n",
    "plt.show()"
   ]
  },
  {
   "cell_type": "code",
   "execution_count": 79,
   "metadata": {
    "execution": {
     "iopub.execute_input": "2021-09-17T01:57:17.585772Z",
     "iopub.status.busy": "2021-09-17T01:57:17.585505Z",
     "iopub.status.idle": "2021-09-17T01:57:18.343064Z",
     "shell.execute_reply": "2021-09-17T01:57:18.341981Z",
     "shell.execute_reply.started": "2021-09-17T01:57:17.585742Z"
    }
   },
   "outputs": [
    {
     "name": "stdout",
     "output_type": "stream",
     "text": [
      "STATISTICAL TEST - CHI SQUARE TEST OF INDEPENDENCE\n",
      "To determine different in target classes are dependent on the predictors\n",
      "Null Hypothesis: The target class and predictor are independent of each other.\n",
      "Alternate Hypothesis: The target class and predictor are independent of each other.\n",
      "\n",
      "Gender\n",
      "P value for no difference: 7.665800628415621e-230\n",
      "\n",
      "Driving_License\n",
      "P value for no difference: 5.111753504019177e-10\n",
      "\n",
      "Region_Code\n",
      "P value for no difference: 0.0\n",
      "\n",
      "Previously_Insured\n",
      "P value for no difference: 0.0\n",
      "\n",
      "Vehicle_Age\n",
      "P value for no difference: 0.0\n",
      "\n",
      "Vehicle_Damage\n",
      "P value for no difference: 0.0\n",
      "\n",
      "Policy_Sales_Channel\n",
      "P value for no difference: 0.0\n",
      "\n"
     ]
    }
   ],
   "source": [
    "print(\"STATISTICAL TEST - CHI SQUARE TEST OF INDEPENDENCE\")\n",
    "print(\"To determine different in target classes are dependent on the predictors\")\n",
    "print(\"Null Hypothesis: The target class and predictor are independent of each other.\")\n",
    "print('Alternate Hypothesis: The target class and predictor are independent of each other.')\n",
    "print()\n",
    "\n",
    "for i in cat_data.columns[:-1]:\n",
    "    print(i)\n",
    "    print(\"P value for no difference:\",stats.chi2_contingency(pd.crosstab(df[i],df.Response))[1])\n",
    "    print()"
   ]
  },
  {
   "cell_type": "markdown",
   "metadata": {},
   "source": [
    "#### Inference - \n",
    "\n",
    "For numerical features:\n",
    "- Based on statistical analysis on to test for significant difference in means or median, it was observed that Vintage and Annual Premium were numerical features for which p > 0.05, hence we could conclude that there is no difference in average/ medians value of those with and without insurance. Hence, we can exclude Vintage and Annual Premium from our analysis later.\n",
    "\n",
    "\n",
    "For categorical features:\n",
    "- We can see that all those who have a driving licence actually took the vehicle insurance. However, based on analysis of unique values, we also observed that the proportion of those who didnot have a driving license is negligible. There is hardly any variance in terms of the categories and the predictions will always be biased towards the ones with license. Hence, it can be removed.\n",
    "- Most of those who took vehicle insurance were sold insurance through sales channel 26 and 124.\n",
    "- Majority of those who took vehicle insurance were from region coded 28.\n",
    "- Based on the statistical analysis to check dependency of target feature on a predictor, we found that p < 0.05 for all pairs of categorical features and target classes. Hence we cannot remove any categorcal feature from the analysis."
   ]
  },
  {
   "cell_type": "markdown",
   "metadata": {},
   "source": [
    "## Multi-variate Analysis"
   ]
  },
  {
   "cell_type": "code",
   "execution_count": 83,
   "metadata": {
    "execution": {
     "iopub.execute_input": "2021-09-17T01:57:18.345188Z",
     "iopub.status.busy": "2021-09-17T01:57:18.344815Z",
     "iopub.status.idle": "2021-09-17T01:57:18.650137Z",
     "shell.execute_reply": "2021-09-17T01:57:18.648957Z",
     "shell.execute_reply.started": "2021-09-17T01:57:18.345145Z"
    }
   },
   "outputs": [
    {
     "data": {
      "image/png": "[encoded data removed]",
      "text/plain": [
       "<Figure size 432x288 with 2 Axes>"
      ]
     },
     "metadata": {
      "needs_background": "light"
     },
     "output_type": "display_data"
    }
   ],
   "source": [
    "sns.heatmap(df.corr(),annot=True)\n",
    "plt.title(\"Correlation Heatmap\",size=15)\n",
    "plt.show()"
   ]
  },
  {
   "cell_type": "code",
   "execution_count": 86,
   "metadata": {
    "execution": {
     "iopub.execute_input": "2021-09-17T01:57:18.651758Z",
     "iopub.status.busy": "2021-09-17T01:57:18.651477Z",
     "iopub.status.idle": "2021-09-17T01:57:37.290099Z",
     "shell.execute_reply": "2021-09-17T01:57:37.288885Z",
     "shell.execute_reply.started": "2021-09-17T01:57:18.651726Z"
    }
   },
   "outputs": [
    {
     "data": {
      "text/plain": [
       "<AxesSubplot:xlabel='Age', ylabel='Annual_Premium'>"
      ]
     },
     "execution_count": 86,
     "metadata": {},
     "output_type": "execute_result"
    },
    {
     "data": {
      "image/png": "[encoded data removed]",
      "text/plain": [
       "<Figure size 432x288 with 1 Axes>"
      ]
     },
     "metadata": {
      "needs_background": "light"
     },
     "output_type": "display_data"
    }
   ],
   "source": [
    "sns.scatterplot(df.Age,df.Annual_Premium,hue=df.Response)"
   ]
  },
  {
   "cell_type": "code",
   "execution_count": 87,
   "metadata": {
    "execution": {
     "iopub.execute_input": "2021-09-17T01:57:37.292056Z",
     "iopub.status.busy": "2021-09-17T01:57:37.291742Z",
     "iopub.status.idle": "2021-09-17T01:58:12.544207Z",
     "shell.execute_reply": "2021-09-17T01:58:12.542996Z",
     "shell.execute_reply.started": "2021-09-17T01:57:37.292016Z"
    }
   },
   "outputs": [
    {
     "data": {
      "text/plain": [
       "<AxesSubplot:xlabel='Age', ylabel='Vintage'>"
      ]
     },
     "execution_count": 87,
     "metadata": {},
     "output_type": "execute_result"
    },
    {
     "data": {
      "image/png": "[encoded data removed]",
      "text/plain": [
       "<Figure size 432x288 with 1 Axes>"
      ]
     },
     "metadata": {
      "needs_background": "light"
     },
     "output_type": "display_data"
    }
   ],
   "source": [
    "sns.scatterplot(df.Age,df.Vintage,hue=df.Response)"
   ]
  },
  {
   "cell_type": "code",
   "execution_count": 88,
   "metadata": {
    "execution": {
     "iopub.execute_input": "2021-09-17T01:58:12.546220Z",
     "iopub.status.busy": "2021-09-17T01:58:12.545935Z",
     "iopub.status.idle": "2021-09-17T01:58:47.919055Z",
     "shell.execute_reply": "2021-09-17T01:58:47.917874Z",
     "shell.execute_reply.started": "2021-09-17T01:58:12.546185Z"
    }
   },
   "outputs": [
    {
     "data": {
      "text/plain": [
       "<AxesSubplot:xlabel='Annual_Premium', ylabel='Vintage'>"
      ]
     },
     "execution_count": 88,
     "metadata": {},
     "output_type": "execute_result"
    },
    {
     "data": {
      "image/png": "[encoded data removed]",
      "text/plain": [
       "<Figure size 432x288 with 1 Axes>"
      ]
     },
     "metadata": {
      "needs_background": "light"
     },
     "output_type": "display_data"
    }
   ],
   "source": [
    "sns.scatterplot(df.Annual_Premium,df.Vintage,hue=df.Response)"
   ]
  },
  {
   "cell_type": "markdown",
   "metadata": {},
   "source": [
    "#### Inferences\n",
    "- Based on the correlation heatmap, we can observe that none of the pairs of numerical features have a considerable relationship with each other.\n",
    "- Based on the scatterplots, on analyzing the relationship between two numerical features and also understanding how they help to seperate the target classes, we can conclude that the target classes cannot be seperated by the interaction of two numerical features."
   ]
  },
  {
   "cell_type": "markdown",
   "metadata": {},
   "source": [
    "# Data Preparation"
   ]
  },
  {
   "cell_type": "code",
   "execution_count": 100,
   "metadata": {
    "execution": {
     "iopub.execute_input": "2021-09-17T01:58:47.920552Z",
     "iopub.status.busy": "2021-09-17T01:58:47.920323Z",
     "iopub.status.idle": "2021-09-17T01:58:47.963875Z",
     "shell.execute_reply": "2021-09-17T01:58:47.962855Z",
     "shell.execute_reply.started": "2021-09-17T01:58:47.920524Z"
    }
   },
   "outputs": [],
   "source": [
    "data_copy = df.copy()"
   ]
  },
  {
   "cell_type": "code",
   "execution_count": 101,
   "metadata": {
    "execution": {
     "iopub.execute_input": "2021-09-17T01:58:47.965971Z",
     "iopub.status.busy": "2021-09-17T01:58:47.965388Z",
     "iopub.status.idle": "2021-09-17T01:58:47.995549Z",
     "shell.execute_reply": "2021-09-17T01:58:47.994949Z",
     "shell.execute_reply.started": "2021-09-17T01:58:47.965931Z"
    }
   },
   "outputs": [],
   "source": [
    "df.drop([\"Vintage\",\"Annual_Premium\",\"Driving_License\"],axis=1,inplace=True)"
   ]
  },
  {
   "cell_type": "code",
   "execution_count": 102,
   "metadata": {
    "execution": {
     "iopub.execute_input": "2021-09-17T01:58:48.193383Z",
     "iopub.status.busy": "2021-09-17T01:58:48.193089Z",
     "iopub.status.idle": "2021-09-17T01:58:48.448413Z",
     "shell.execute_reply": "2021-09-17T01:58:48.447166Z",
     "shell.execute_reply.started": "2021-09-17T01:58:48.193355Z"
    }
   },
   "outputs": [
    {
     "data": {
      "text/plain": [
       "Gender                   2\n",
       "Region_Code             13\n",
       "Previously_Insured       2\n",
       "Vehicle_Age              3\n",
       "Vehicle_Damage           2\n",
       "Policy_Sales_Channel     7\n",
       "Response                 2\n",
       "dtype: int64"
      ]
     },
     "execution_count": 102,
     "metadata": {},
     "output_type": "execute_result"
    }
   ],
   "source": [
    "df.select_dtypes(include=np.object).nunique()"
   ]
  },
  {
   "cell_type": "markdown",
   "metadata": {},
   "source": [
    "Important notes about Encoding:\n",
    "- Except region and sales policy, all other features can be one hot encoded as they have only around 2-3 unique categories.\n",
    "- As region code and sales channel policy have more than 50 unique categories, we cannot encode them directly.\n",
    "- Frequency encoding is not appropriate as it won't help in any logical interpretation.\n",
    "- Label encoding is not possible as we don't have any logical order in the above two categorical features.\n",
    "- Hence, we need to try to dummy encode them. \n",
    "- We will group together all categories which contribute less than 2% to the total records in the dataset under the category \"others\" to prevent adding more number of additional features"
   ]
  },
  {
   "cell_type": "code",
   "execution_count": 103,
   "metadata": {
    "execution": {
     "iopub.execute_input": "2021-09-17T01:58:48.450152Z",
     "iopub.status.busy": "2021-09-17T01:58:48.449923Z",
     "iopub.status.idle": "2021-09-17T01:58:48.545560Z",
     "shell.execute_reply": "2021-09-17T01:58:48.544368Z",
     "shell.execute_reply.started": "2021-09-17T01:58:48.450126Z"
    }
   },
   "outputs": [],
   "source": [
    "Region_Dict = {}\n",
    "for i,a in list(zip(df.Region_Code.value_counts().index.unique(),df.Region_Code.value_counts(1)*100)):\n",
    "    if a < 2:\n",
    "        Region_Dict[i] = \"Others\"\n",
    "    else:\n",
    "        Region_Dict[i] = \"Region_\" + str(i)"
   ]
  },
  {
   "cell_type": "code",
   "execution_count": 104,
   "metadata": {
    "execution": {
     "iopub.execute_input": "2021-09-17T01:58:48.547601Z",
     "iopub.status.busy": "2021-09-17T01:58:48.547153Z",
     "iopub.status.idle": "2021-09-17T01:58:48.644679Z",
     "shell.execute_reply": "2021-09-17T01:58:48.643921Z",
     "shell.execute_reply.started": "2021-09-17T01:58:48.547561Z"
    }
   },
   "outputs": [],
   "source": [
    "Policy_Sales_Channel_Dict = {}\n",
    "for i,a in list(zip(df.Policy_Sales_Channel.value_counts().index.unique(),df.Policy_Sales_Channel.value_counts(1)*100)):\n",
    "    if a < 2:\n",
    "        Policy_Sales_Channel_Dict[i] = \"Others\"\n",
    "    else:\n",
    "        Policy_Sales_Channel_Dict[i] = \"Channel_\" + str(i)"
   ]
  },
  {
   "cell_type": "code",
   "execution_count": 105,
   "metadata": {
    "execution": {
     "iopub.execute_input": "2021-09-17T01:58:48.647010Z",
     "iopub.status.busy": "2021-09-17T01:58:48.645975Z",
     "iopub.status.idle": "2021-09-17T01:58:48.930030Z",
     "shell.execute_reply": "2021-09-17T01:58:48.929251Z",
     "shell.execute_reply.started": "2021-09-17T01:58:48.646940Z"
    }
   },
   "outputs": [],
   "source": [
    "df.Region_Code = df.Region_Code.map(Region_Dict)\n",
    "df.Policy_Sales_Channel = df.Policy_Sales_Channel.map(Policy_Sales_Channel_Dict)"
   ]
  },
  {
   "cell_type": "code",
   "execution_count": 106,
   "metadata": {
    "execution": {
     "iopub.execute_input": "2021-09-17T01:58:48.932225Z",
     "iopub.status.busy": "2021-09-17T01:58:48.931228Z",
     "iopub.status.idle": "2021-09-17T01:58:48.983332Z",
     "shell.execute_reply": "2021-09-17T01:58:48.982681Z",
     "shell.execute_reply.started": "2021-09-17T01:58:48.932183Z"
    }
   },
   "outputs": [],
   "source": [
    "df_feature = df.drop(\"Response\",axis=1)\n",
    "df_target= df.Response.astype(\"int\")"
   ]
  },
  {
   "cell_type": "code",
   "execution_count": 107,
   "metadata": {},
   "outputs": [],
   "source": [
    "df_num=df_feature.select_dtypes(include=np.number)\n",
    "df_cat=df_feature.select_dtypes(include=np.object)"
   ]
  },
  {
   "cell_type": "code",
   "execution_count": 108,
   "metadata": {},
   "outputs": [],
   "source": [
    "dummy=pd.get_dummies(data=df_cat,drop_first=True)"
   ]
  },
  {
   "cell_type": "code",
   "execution_count": 109,
   "metadata": {},
   "outputs": [
    {
     "data": {
      "text/html": [
       "<div>\n",
       "<style scoped>\n",
       "    .dataframe tbody tr th:only-of-type {\n",
       "        vertical-align: middle;\n",
       "    }\n",
       "\n",
       "    .dataframe tbody tr th {\n",
       "        vertical-align: top;\n",
       "    }\n",
       "\n",
       "    .dataframe thead th {\n",
       "        text-align: right;\n",
       "    }\n",
       "</style>\n",
       "<table border=\"1\" class=\"dataframe\">\n",
       "  <thead>\n",
       "    <tr style=\"text-align: right;\">\n",
       "      <th></th>\n",
       "      <th>Age</th>\n",
       "      <th>Gender_Male</th>\n",
       "      <th>Region_Code_Region_Region_11</th>\n",
       "      <th>Region_Code_Region_Region_15</th>\n",
       "      <th>Region_Code_Region_Region_28</th>\n",
       "      <th>Region_Code_Region_Region_29</th>\n",
       "      <th>Region_Code_Region_Region_3</th>\n",
       "      <th>Region_Code_Region_Region_30</th>\n",
       "      <th>Region_Code_Region_Region_33</th>\n",
       "      <th>Region_Code_Region_Region_36</th>\n",
       "      <th>...</th>\n",
       "      <th>Previously_Insured_Vehicle_Not_Insured</th>\n",
       "      <th>Vehicle_Age_MoreThan2Years</th>\n",
       "      <th>Vehicle_Age_Years1-2</th>\n",
       "      <th>Vehicle_Damage_Vehicle_Not_Damaged</th>\n",
       "      <th>Policy_Sales_Channel_Channel_Channel_124</th>\n",
       "      <th>Policy_Sales_Channel_Channel_Channel_152</th>\n",
       "      <th>Policy_Sales_Channel_Channel_Channel_156</th>\n",
       "      <th>Policy_Sales_Channel_Channel_Channel_160</th>\n",
       "      <th>Policy_Sales_Channel_Channel_Channel_26</th>\n",
       "      <th>Policy_Sales_Channel_Channel_Others</th>\n",
       "    </tr>\n",
       "  </thead>\n",
       "  <tbody>\n",
       "    <tr>\n",
       "      <th>0</th>\n",
       "      <td>44</td>\n",
       "      <td>1</td>\n",
       "      <td>0</td>\n",
       "      <td>0</td>\n",
       "      <td>1</td>\n",
       "      <td>0</td>\n",
       "      <td>0</td>\n",
       "      <td>0</td>\n",
       "      <td>0</td>\n",
       "      <td>0</td>\n",
       "      <td>...</td>\n",
       "      <td>1</td>\n",
       "      <td>1</td>\n",
       "      <td>0</td>\n",
       "      <td>0</td>\n",
       "      <td>0</td>\n",
       "      <td>0</td>\n",
       "      <td>0</td>\n",
       "      <td>0</td>\n",
       "      <td>1</td>\n",
       "      <td>0</td>\n",
       "    </tr>\n",
       "    <tr>\n",
       "      <th>1</th>\n",
       "      <td>76</td>\n",
       "      <td>1</td>\n",
       "      <td>0</td>\n",
       "      <td>0</td>\n",
       "      <td>0</td>\n",
       "      <td>0</td>\n",
       "      <td>1</td>\n",
       "      <td>0</td>\n",
       "      <td>0</td>\n",
       "      <td>0</td>\n",
       "      <td>...</td>\n",
       "      <td>1</td>\n",
       "      <td>0</td>\n",
       "      <td>1</td>\n",
       "      <td>1</td>\n",
       "      <td>0</td>\n",
       "      <td>0</td>\n",
       "      <td>0</td>\n",
       "      <td>0</td>\n",
       "      <td>1</td>\n",
       "      <td>0</td>\n",
       "    </tr>\n",
       "    <tr>\n",
       "      <th>2</th>\n",
       "      <td>47</td>\n",
       "      <td>1</td>\n",
       "      <td>0</td>\n",
       "      <td>0</td>\n",
       "      <td>1</td>\n",
       "      <td>0</td>\n",
       "      <td>0</td>\n",
       "      <td>0</td>\n",
       "      <td>0</td>\n",
       "      <td>0</td>\n",
       "      <td>...</td>\n",
       "      <td>1</td>\n",
       "      <td>1</td>\n",
       "      <td>0</td>\n",
       "      <td>0</td>\n",
       "      <td>0</td>\n",
       "      <td>0</td>\n",
       "      <td>0</td>\n",
       "      <td>0</td>\n",
       "      <td>1</td>\n",
       "      <td>0</td>\n",
       "    </tr>\n",
       "    <tr>\n",
       "      <th>3</th>\n",
       "      <td>21</td>\n",
       "      <td>1</td>\n",
       "      <td>1</td>\n",
       "      <td>0</td>\n",
       "      <td>0</td>\n",
       "      <td>0</td>\n",
       "      <td>0</td>\n",
       "      <td>0</td>\n",
       "      <td>0</td>\n",
       "      <td>0</td>\n",
       "      <td>...</td>\n",
       "      <td>0</td>\n",
       "      <td>0</td>\n",
       "      <td>0</td>\n",
       "      <td>1</td>\n",
       "      <td>0</td>\n",
       "      <td>1</td>\n",
       "      <td>0</td>\n",
       "      <td>0</td>\n",
       "      <td>0</td>\n",
       "      <td>0</td>\n",
       "    </tr>\n",
       "    <tr>\n",
       "      <th>4</th>\n",
       "      <td>29</td>\n",
       "      <td>0</td>\n",
       "      <td>0</td>\n",
       "      <td>0</td>\n",
       "      <td>0</td>\n",
       "      <td>0</td>\n",
       "      <td>0</td>\n",
       "      <td>0</td>\n",
       "      <td>0</td>\n",
       "      <td>0</td>\n",
       "      <td>...</td>\n",
       "      <td>0</td>\n",
       "      <td>0</td>\n",
       "      <td>0</td>\n",
       "      <td>1</td>\n",
       "      <td>0</td>\n",
       "      <td>1</td>\n",
       "      <td>0</td>\n",
       "      <td>0</td>\n",
       "      <td>0</td>\n",
       "      <td>0</td>\n",
       "    </tr>\n",
       "  </tbody>\n",
       "</table>\n",
       "<p>5 rows × 24 columns</p>\n",
       "</div>"
      ],
      "text/plain": [
       "   Age  Gender_Male  Region_Code_Region_Region_11  \\\n",
       "0   44            1                             0   \n",
       "1   76            1                             0   \n",
       "2   47            1                             0   \n",
       "3   21            1                             1   \n",
       "4   29            0                             0   \n",
       "\n",
       "   Region_Code_Region_Region_15  Region_Code_Region_Region_28  \\\n",
       "0                             0                             1   \n",
       "1                             0                             0   \n",
       "2                             0                             1   \n",
       "3                             0                             0   \n",
       "4                             0                             0   \n",
       "\n",
       "   Region_Code_Region_Region_29  Region_Code_Region_Region_3  \\\n",
       "0                             0                            0   \n",
       "1                             0                            1   \n",
       "2                             0                            0   \n",
       "3                             0                            0   \n",
       "4                             0                            0   \n",
       "\n",
       "   Region_Code_Region_Region_30  Region_Code_Region_Region_33  \\\n",
       "0                             0                             0   \n",
       "1                             0                             0   \n",
       "2                             0                             0   \n",
       "3                             0                             0   \n",
       "4                             0                             0   \n",
       "\n",
       "   Region_Code_Region_Region_36  ...  Previously_Insured_Vehicle_Not_Insured  \\\n",
       "0                             0  ...                                       1   \n",
       "1                             0  ...                                       1   \n",
       "2                             0  ...                                       1   \n",
       "3                             0  ...                                       0   \n",
       "4                             0  ...                                       0   \n",
       "\n",
       "   Vehicle_Age_MoreThan2Years  Vehicle_Age_Years1-2  \\\n",
       "0                           1                     0   \n",
       "1                           0                     1   \n",
       "2                           1                     0   \n",
       "3                           0                     0   \n",
       "4                           0                     0   \n",
       "\n",
       "   Vehicle_Damage_Vehicle_Not_Damaged  \\\n",
       "0                                   0   \n",
       "1                                   1   \n",
       "2                                   0   \n",
       "3                                   1   \n",
       "4                                   1   \n",
       "\n",
       "   Policy_Sales_Channel_Channel_Channel_124  \\\n",
       "0                                         0   \n",
       "1                                         0   \n",
       "2                                         0   \n",
       "3                                         0   \n",
       "4                                         0   \n",
       "\n",
       "   Policy_Sales_Channel_Channel_Channel_152  \\\n",
       "0                                         0   \n",
       "1                                         0   \n",
       "2                                         0   \n",
       "3                                         1   \n",
       "4                                         1   \n",
       "\n",
       "   Policy_Sales_Channel_Channel_Channel_156  \\\n",
       "0                                         0   \n",
       "1                                         0   \n",
       "2                                         0   \n",
       "3                                         0   \n",
       "4                                         0   \n",
       "\n",
       "   Policy_Sales_Channel_Channel_Channel_160  \\\n",
       "0                                         0   \n",
       "1                                         0   \n",
       "2                                         0   \n",
       "3                                         0   \n",
       "4                                         0   \n",
       "\n",
       "   Policy_Sales_Channel_Channel_Channel_26  \\\n",
       "0                                        1   \n",
       "1                                        1   \n",
       "2                                        1   \n",
       "3                                        0   \n",
       "4                                        0   \n",
       "\n",
       "   Policy_Sales_Channel_Channel_Others  \n",
       "0                                    0  \n",
       "1                                    0  \n",
       "2                                    0  \n",
       "3                                    0  \n",
       "4                                    0  \n",
       "\n",
       "[5 rows x 24 columns]"
      ]
     },
     "execution_count": 109,
     "metadata": {},
     "output_type": "execute_result"
    }
   ],
   "source": [
    "df_final=pd.concat([df_num,dummy],axis=1)\n",
    "df_final.head()"
   ]
  },
  {
   "cell_type": "code",
   "execution_count": 110,
   "metadata": {},
   "outputs": [],
   "source": [
    "from sklearn.model_selection import train_test_split "
   ]
  },
  {
   "cell_type": "code",
   "execution_count": 130,
   "metadata": {},
   "outputs": [],
   "source": [
    "xtrain,xtest,ytrain,ytest = train_test_split(df_final,df_target,test_size=0.30,random_state=0)"
   ]
  },
  {
   "cell_type": "code",
   "execution_count": 131,
   "metadata": {
    "execution": {
     "iopub.execute_input": "2021-09-17T01:58:49.306196Z",
     "iopub.status.busy": "2021-09-17T01:58:49.305936Z",
     "iopub.status.idle": "2021-09-17T01:58:49.319270Z",
     "shell.execute_reply": "2021-09-17T01:58:49.318702Z",
     "shell.execute_reply.started": "2021-09-17T01:58:49.306165Z"
    }
   },
   "outputs": [
    {
     "data": {
      "text/html": [
       "<div>\n",
       "<style scoped>\n",
       "    .dataframe tbody tr th:only-of-type {\n",
       "        vertical-align: middle;\n",
       "    }\n",
       "\n",
       "    .dataframe tbody tr th {\n",
       "        vertical-align: top;\n",
       "    }\n",
       "\n",
       "    .dataframe thead th {\n",
       "        text-align: right;\n",
       "    }\n",
       "</style>\n",
       "<table border=\"1\" class=\"dataframe\">\n",
       "  <thead>\n",
       "    <tr style=\"text-align: right;\">\n",
       "      <th></th>\n",
       "      <th>Age</th>\n",
       "      <th>Gender_Male</th>\n",
       "      <th>Region_Code_Region_Region_11</th>\n",
       "      <th>Region_Code_Region_Region_15</th>\n",
       "      <th>Region_Code_Region_Region_28</th>\n",
       "      <th>Region_Code_Region_Region_29</th>\n",
       "      <th>Region_Code_Region_Region_3</th>\n",
       "      <th>Region_Code_Region_Region_30</th>\n",
       "      <th>Region_Code_Region_Region_33</th>\n",
       "      <th>Region_Code_Region_Region_36</th>\n",
       "      <th>...</th>\n",
       "      <th>Previously_Insured_Vehicle_Not_Insured</th>\n",
       "      <th>Vehicle_Age_MoreThan2Years</th>\n",
       "      <th>Vehicle_Age_Years1-2</th>\n",
       "      <th>Vehicle_Damage_Vehicle_Not_Damaged</th>\n",
       "      <th>Policy_Sales_Channel_Channel_Channel_124</th>\n",
       "      <th>Policy_Sales_Channel_Channel_Channel_152</th>\n",
       "      <th>Policy_Sales_Channel_Channel_Channel_156</th>\n",
       "      <th>Policy_Sales_Channel_Channel_Channel_160</th>\n",
       "      <th>Policy_Sales_Channel_Channel_Channel_26</th>\n",
       "      <th>Policy_Sales_Channel_Channel_Others</th>\n",
       "    </tr>\n",
       "  </thead>\n",
       "  <tbody>\n",
       "    <tr>\n",
       "      <th>215357</th>\n",
       "      <td>31</td>\n",
       "      <td>1</td>\n",
       "      <td>0</td>\n",
       "      <td>0</td>\n",
       "      <td>1</td>\n",
       "      <td>0</td>\n",
       "      <td>0</td>\n",
       "      <td>0</td>\n",
       "      <td>0</td>\n",
       "      <td>0</td>\n",
       "      <td>...</td>\n",
       "      <td>1</td>\n",
       "      <td>0</td>\n",
       "      <td>0</td>\n",
       "      <td>0</td>\n",
       "      <td>0</td>\n",
       "      <td>1</td>\n",
       "      <td>0</td>\n",
       "      <td>0</td>\n",
       "      <td>0</td>\n",
       "      <td>0</td>\n",
       "    </tr>\n",
       "    <tr>\n",
       "      <th>262812</th>\n",
       "      <td>43</td>\n",
       "      <td>1</td>\n",
       "      <td>0</td>\n",
       "      <td>0</td>\n",
       "      <td>0</td>\n",
       "      <td>0</td>\n",
       "      <td>0</td>\n",
       "      <td>0</td>\n",
       "      <td>0</td>\n",
       "      <td>0</td>\n",
       "      <td>...</td>\n",
       "      <td>0</td>\n",
       "      <td>0</td>\n",
       "      <td>1</td>\n",
       "      <td>1</td>\n",
       "      <td>0</td>\n",
       "      <td>0</td>\n",
       "      <td>0</td>\n",
       "      <td>0</td>\n",
       "      <td>1</td>\n",
       "      <td>0</td>\n",
       "    </tr>\n",
       "    <tr>\n",
       "      <th>291557</th>\n",
       "      <td>25</td>\n",
       "      <td>1</td>\n",
       "      <td>0</td>\n",
       "      <td>0</td>\n",
       "      <td>0</td>\n",
       "      <td>0</td>\n",
       "      <td>0</td>\n",
       "      <td>0</td>\n",
       "      <td>0</td>\n",
       "      <td>0</td>\n",
       "      <td>...</td>\n",
       "      <td>0</td>\n",
       "      <td>0</td>\n",
       "      <td>1</td>\n",
       "      <td>0</td>\n",
       "      <td>0</td>\n",
       "      <td>0</td>\n",
       "      <td>1</td>\n",
       "      <td>0</td>\n",
       "      <td>0</td>\n",
       "      <td>0</td>\n",
       "    </tr>\n",
       "    <tr>\n",
       "      <th>197937</th>\n",
       "      <td>53</td>\n",
       "      <td>1</td>\n",
       "      <td>0</td>\n",
       "      <td>0</td>\n",
       "      <td>0</td>\n",
       "      <td>0</td>\n",
       "      <td>0</td>\n",
       "      <td>0</td>\n",
       "      <td>0</td>\n",
       "      <td>0</td>\n",
       "      <td>...</td>\n",
       "      <td>1</td>\n",
       "      <td>0</td>\n",
       "      <td>1</td>\n",
       "      <td>0</td>\n",
       "      <td>1</td>\n",
       "      <td>0</td>\n",
       "      <td>0</td>\n",
       "      <td>0</td>\n",
       "      <td>0</td>\n",
       "      <td>0</td>\n",
       "    </tr>\n",
       "    <tr>\n",
       "      <th>259434</th>\n",
       "      <td>26</td>\n",
       "      <td>1</td>\n",
       "      <td>0</td>\n",
       "      <td>0</td>\n",
       "      <td>0</td>\n",
       "      <td>0</td>\n",
       "      <td>0</td>\n",
       "      <td>0</td>\n",
       "      <td>0</td>\n",
       "      <td>1</td>\n",
       "      <td>...</td>\n",
       "      <td>0</td>\n",
       "      <td>0</td>\n",
       "      <td>0</td>\n",
       "      <td>1</td>\n",
       "      <td>0</td>\n",
       "      <td>1</td>\n",
       "      <td>0</td>\n",
       "      <td>0</td>\n",
       "      <td>0</td>\n",
       "      <td>0</td>\n",
       "    </tr>\n",
       "  </tbody>\n",
       "</table>\n",
       "<p>5 rows × 24 columns</p>\n",
       "</div>"
      ],
      "text/plain": [
       "        Age  Gender_Male  Region_Code_Region_Region_11  \\\n",
       "215357   31            1                             0   \n",
       "262812   43            1                             0   \n",
       "291557   25            1                             0   \n",
       "197937   53            1                             0   \n",
       "259434   26            1                             0   \n",
       "\n",
       "        Region_Code_Region_Region_15  Region_Code_Region_Region_28  \\\n",
       "215357                             0                             1   \n",
       "262812                             0                             0   \n",
       "291557                             0                             0   \n",
       "197937                             0                             0   \n",
       "259434                             0                             0   \n",
       "\n",
       "        Region_Code_Region_Region_29  Region_Code_Region_Region_3  \\\n",
       "215357                             0                            0   \n",
       "262812                             0                            0   \n",
       "291557                             0                            0   \n",
       "197937                             0                            0   \n",
       "259434                             0                            0   \n",
       "\n",
       "        Region_Code_Region_Region_30  Region_Code_Region_Region_33  \\\n",
       "215357                             0                             0   \n",
       "262812                             0                             0   \n",
       "291557                             0                             0   \n",
       "197937                             0                             0   \n",
       "259434                             0                             0   \n",
       "\n",
       "        Region_Code_Region_Region_36  ...  \\\n",
       "215357                             0  ...   \n",
       "262812                             0  ...   \n",
       "291557                             0  ...   \n",
       "197937                             0  ...   \n",
       "259434                             1  ...   \n",
       "\n",
       "        Previously_Insured_Vehicle_Not_Insured  Vehicle_Age_MoreThan2Years  \\\n",
       "215357                                       1                           0   \n",
       "262812                                       0                           0   \n",
       "291557                                       0                           0   \n",
       "197937                                       1                           0   \n",
       "259434                                       0                           0   \n",
       "\n",
       "        Vehicle_Age_Years1-2  Vehicle_Damage_Vehicle_Not_Damaged  \\\n",
       "215357                     0                                   0   \n",
       "262812                     1                                   1   \n",
       "291557                     1                                   0   \n",
       "197937                     1                                   0   \n",
       "259434                     0                                   1   \n",
       "\n",
       "        Policy_Sales_Channel_Channel_Channel_124  \\\n",
       "215357                                         0   \n",
       "262812                                         0   \n",
       "291557                                         0   \n",
       "197937                                         1   \n",
       "259434                                         0   \n",
       "\n",
       "        Policy_Sales_Channel_Channel_Channel_152  \\\n",
       "215357                                         1   \n",
       "262812                                         0   \n",
       "291557                                         0   \n",
       "197937                                         0   \n",
       "259434                                         1   \n",
       "\n",
       "        Policy_Sales_Channel_Channel_Channel_156  \\\n",
       "215357                                         0   \n",
       "262812                                         0   \n",
       "291557                                         1   \n",
       "197937                                         0   \n",
       "259434                                         0   \n",
       "\n",
       "        Policy_Sales_Channel_Channel_Channel_160  \\\n",
       "215357                                         0   \n",
       "262812                                         0   \n",
       "291557                                         0   \n",
       "197937                                         0   \n",
       "259434                                         0   \n",
       "\n",
       "        Policy_Sales_Channel_Channel_Channel_26  \\\n",
       "215357                                        0   \n",
       "262812                                        1   \n",
       "291557                                        0   \n",
       "197937                                        0   \n",
       "259434                                        0   \n",
       "\n",
       "        Policy_Sales_Channel_Channel_Others  \n",
       "215357                                    0  \n",
       "262812                                    0  \n",
       "291557                                    0  \n",
       "197937                                    0  \n",
       "259434                                    0  \n",
       "\n",
       "[5 rows x 24 columns]"
      ]
     },
     "execution_count": 131,
     "metadata": {},
     "output_type": "execute_result"
    }
   ],
   "source": [
    "xtrain.head()"
   ]
  },
  {
   "cell_type": "markdown",
   "metadata": {},
   "source": [
    "# Model Building"
   ]
  },
  {
   "cell_type": "code",
   "execution_count": 113,
   "metadata": {
    "execution": {
     "iopub.execute_input": "2021-09-17T01:58:51.433453Z",
     "iopub.status.busy": "2021-09-17T01:58:51.433115Z",
     "iopub.status.idle": "2021-09-17T01:58:51.987469Z",
     "shell.execute_reply": "2021-09-17T01:58:51.986707Z",
     "shell.execute_reply.started": "2021-09-17T01:58:51.433410Z"
    }
   },
   "outputs": [],
   "source": [
    "from sklearn.tree import DecisionTreeClassifier\n",
    "from sklearn.naive_bayes import BernoulliNB\n",
    "from sklearn.ensemble import RandomForestClassifier,AdaBoostClassifier,GradientBoostingClassifier\n",
    "from xgboost import XGBClassifier\n",
    "from sklearn.model_selection import cross_val_score\n",
    "from sklearn.metrics import precision_score,f1_score,classification_report,confusion_matrix"
   ]
  },
  {
   "cell_type": "code",
   "execution_count": 117,
   "metadata": {
    "execution": {
     "iopub.execute_input": "2021-09-17T01:58:51.989826Z",
     "iopub.status.busy": "2021-09-17T01:58:51.988891Z",
     "iopub.status.idle": "2021-09-17T01:58:51.997759Z",
     "shell.execute_reply": "2021-09-17T01:58:51.996870Z",
     "shell.execute_reply.started": "2021-09-17T01:58:51.989769Z"
    }
   },
   "outputs": [],
   "source": [
    "results = pd.DataFrame({\"Model\":None,\"Train F1\":None,\"Test F1\":None,\"CV Mean F1\":None,\"CV std in scores\":None},index=range(0,6))"
   ]
  },
  {
   "cell_type": "markdown",
   "metadata": {},
   "source": [
    "### Naive Bayes - Bernoulli"
   ]
  },
  {
   "cell_type": "code",
   "execution_count": 132,
   "metadata": {
    "execution": {
     "iopub.execute_input": "2021-09-17T01:58:52.000460Z",
     "iopub.status.busy": "2021-09-17T01:58:51.999418Z",
     "iopub.status.idle": "2021-09-17T01:58:53.615897Z",
     "shell.execute_reply": "2021-09-17T01:58:53.614664Z",
     "shell.execute_reply.started": "2021-09-17T01:58:52.000400Z"
    }
   },
   "outputs": [
    {
     "name": "stdout",
     "output_type": "stream",
     "text": [
      "f1: 0.41785040854808303\n",
      "\n",
      "Model Performance Report\n",
      "Training Performance:\n",
      "              precision    recall  f1-score   support\n",
      "\n",
      "           0       0.96      0.74      0.83    234158\n",
      "           1       0.29      0.76      0.42     32618\n",
      "\n",
      "    accuracy                           0.74    266776\n",
      "   macro avg       0.62      0.75      0.63    266776\n",
      "weighted avg       0.88      0.74      0.78    266776\n",
      "\n",
      "\n",
      "Test Performance:\n",
      "              precision    recall  f1-score   support\n",
      "\n",
      "           0       0.96      0.73      0.83    100241\n",
      "           1       0.29      0.77      0.42     14092\n",
      "\n",
      "    accuracy                           0.74    114333\n",
      "   macro avg       0.62      0.75      0.63    114333\n",
      "weighted avg       0.87      0.74      0.78    114333\n",
      "\n"
     ]
    }
   ],
   "source": [
    "nb = BernoulliNB().fit(xtrain.drop(\"Age\",axis=1),ytrain)\n",
    "f1_train_nb = f1_score(ytrain,nb.predict(xtrain.drop(\"Age\",axis=1)))\n",
    "f1_test_nb = f1_score(ytest,nb.predict(xtest.drop(\"Age\",axis=1)))\n",
    "print(\"f1:\",f1_train_nb)\n",
    "print()\n",
    "print(\"Model Performance Report\")\n",
    "print(\"Training Performance:\",classification_report(ytrain,nb.predict(xtrain.drop(\"Age\",axis=1))),sep=\"\\n\")\n",
    "print()\n",
    "print(\"Test Performance:\",classification_report(ytest,nb.predict(xtest.drop(\"Age\",axis=1))),sep=\"\\n\")"
   ]
  },
  {
   "cell_type": "code",
   "execution_count": 133,
   "metadata": {
    "execution": {
     "iopub.execute_input": "2021-09-17T01:58:53.618031Z",
     "iopub.status.busy": "2021-09-17T01:58:53.617442Z",
     "iopub.status.idle": "2021-09-17T01:58:54.416321Z",
     "shell.execute_reply": "2021-09-17T01:58:54.415313Z",
     "shell.execute_reply.started": "2021-09-17T01:58:53.617983Z"
    }
   },
   "outputs": [
    {
     "name": "stdout",
     "output_type": "stream",
     "text": [
      "Mean of f1 scores: 0.4190879363131472\n",
      "Deviation in f1 scores: 0.0013424450577966141\n"
     ]
    }
   ],
   "source": [
    "cv_nb = cross_val_score(BernoulliNB(),xtrain.drop(\"Age\",axis=1),ytrain,cv=3,scoring=\"f1\")\n",
    "print(\"Mean of f1 scores:\",cv_nb.mean())\n",
    "print(\"Deviation in f1 scores:\",cv_nb.std())\n",
    "results.iloc[0,0] = \"Naive Bayes\"\n",
    "results.iloc[0,1] = f1_train_nb\n",
    "results.iloc[0,2] = f1_test_nb\n",
    "results.iloc[0,3] = cv_nb.mean()\n",
    "results.iloc[0,4] = cv_nb.std()"
   ]
  },
  {
   "cell_type": "markdown",
   "metadata": {},
   "source": [
    "### Decision Tree"
   ]
  },
  {
   "cell_type": "code",
   "execution_count": 134,
   "metadata": {
    "execution": {
     "iopub.execute_input": "2021-09-17T02:17:43.123128Z",
     "iopub.status.busy": "2021-09-17T02:17:43.122745Z",
     "iopub.status.idle": "2021-09-17T02:17:44.910588Z",
     "shell.execute_reply": "2021-09-17T02:17:44.909665Z",
     "shell.execute_reply.started": "2021-09-17T02:17:43.123086Z"
    }
   },
   "outputs": [
    {
     "name": "stdout",
     "output_type": "stream",
     "text": [
      "f1 score: 0.19211041192956477\n",
      "\n",
      "Model Performance Report\n",
      "Training Performance:\n",
      "              precision    recall  f1-score   support\n",
      "\n",
      "           0       0.89      0.99      0.94    234158\n",
      "           1       0.70      0.11      0.19     32618\n",
      "\n",
      "    accuracy                           0.89    266776\n",
      "   macro avg       0.79      0.55      0.57    266776\n",
      "weighted avg       0.87      0.89      0.85    266776\n",
      "\n",
      "\n",
      "Test Performance:\n",
      "              precision    recall  f1-score   support\n",
      "\n",
      "           0       0.88      0.98      0.93    100241\n",
      "           1       0.36      0.06      0.11     14092\n",
      "\n",
      "    accuracy                           0.87    114333\n",
      "   macro avg       0.62      0.52      0.52    114333\n",
      "weighted avg       0.82      0.87      0.83    114333\n",
      "\n"
     ]
    }
   ],
   "source": [
    "dt = DecisionTreeClassifier().fit(xtrain,ytrain)\n",
    "f1_train_dt = f1_score(ytrain,dt.predict(xtrain))\n",
    "f1_test_dt = f1_score(ytest,dt.predict(xtest))\n",
    "print(\"f1 score:\",f1_train_dt)\n",
    "print()\n",
    "print(\"Model Performance Report\")\n",
    "print(\"Training Performance:\",classification_report(ytrain,dt.predict(xtrain)),sep=\"\\n\")\n",
    "print()\n",
    "print(\"Test Performance:\",classification_report(ytest,dt.predict(xtest)),sep=\"\\n\")"
   ]
  },
  {
   "cell_type": "code",
   "execution_count": 135,
   "metadata": {
    "execution": {
     "iopub.execute_input": "2021-09-17T02:18:49.673058Z",
     "iopub.status.busy": "2021-09-17T02:18:49.672479Z",
     "iopub.status.idle": "2021-09-17T02:18:51.565630Z",
     "shell.execute_reply": "2021-09-17T02:18:51.564548Z",
     "shell.execute_reply.started": "2021-09-17T02:18:49.673012Z"
    }
   },
   "outputs": [
    {
     "name": "stdout",
     "output_type": "stream",
     "text": [
      "Mean of f1 scores: 0.12043905856332543\n",
      "Deviation in f1 scores: 0.0028234768891964163\n"
     ]
    }
   ],
   "source": [
    "cv_dt = cross_val_score(DecisionTreeClassifier(),xtrain,ytrain,cv=3,scoring=\"f1\")\n",
    "print(\"Mean of f1 scores:\",cv_dt.mean())\n",
    "print(\"Deviation in f1 scores:\",cv_dt.std())\n",
    "results.iloc[1,0] = \"Decision Tree\"\n",
    "results.iloc[1,1] = f1_train_dt\n",
    "results.iloc[1,2] = f1_test_dt\n",
    "results.iloc[1,3] = cv_dt.mean()\n",
    "results.iloc[1,4] = cv_dt.std()"
   ]
  },
  {
   "cell_type": "markdown",
   "metadata": {},
   "source": [
    "### Random Forest"
   ]
  },
  {
   "cell_type": "code",
   "execution_count": 136,
   "metadata": {
    "execution": {
     "iopub.execute_input": "2021-09-17T02:18:51.568640Z",
     "iopub.status.busy": "2021-09-17T02:18:51.568291Z",
     "iopub.status.idle": "2021-09-17T02:19:29.621948Z",
     "shell.execute_reply": "2021-09-17T02:19:29.620715Z",
     "shell.execute_reply.started": "2021-09-17T02:18:51.568597Z"
    }
   },
   "outputs": [
    {
     "name": "stdout",
     "output_type": "stream",
     "text": [
      "f1: 0.21690884395581872\n",
      "\n",
      "Model Performance Report\n",
      "Training Performance:\n",
      "              precision    recall  f1-score   support\n",
      "\n",
      "           0       0.89      0.99      0.94    234158\n",
      "           1       0.66      0.13      0.22     32618\n",
      "\n",
      "    accuracy                           0.89    266776\n",
      "   macro avg       0.78      0.56      0.58    266776\n",
      "weighted avg       0.86      0.89      0.85    266776\n",
      "\n",
      "\n",
      "Test Performance:\n",
      "              precision    recall  f1-score   support\n",
      "\n",
      "           0       0.88      0.98      0.93    100241\n",
      "           1       0.37      0.08      0.13     14092\n",
      "\n",
      "    accuracy                           0.87    114333\n",
      "   macro avg       0.63      0.53      0.53    114333\n",
      "weighted avg       0.82      0.87      0.83    114333\n",
      "\n"
     ]
    }
   ],
   "source": [
    "rf = RandomForestClassifier().fit(xtrain,ytrain)\n",
    "f1_train_rf = f1_score(ytrain,rf.predict(xtrain))\n",
    "f1_test_rf = f1_score(ytest,rf.predict(xtest))\n",
    "print(\"f1:\",f1_train_rf)\n",
    "print()\n",
    "print(\"Model Performance Report\")\n",
    "print(\"Training Performance:\",classification_report(ytrain,rf.predict(xtrain)),sep=\"\\n\")\n",
    "print()\n",
    "print(\"Test Performance:\",classification_report(ytest,rf.predict(xtest)),sep=\"\\n\")"
   ]
  },
  {
   "cell_type": "code",
   "execution_count": 137,
   "metadata": {
    "execution": {
     "iopub.execute_input": "2021-09-17T02:19:29.624030Z",
     "iopub.status.busy": "2021-09-17T02:19:29.623787Z",
     "iopub.status.idle": "2021-09-17T02:20:13.741002Z",
     "shell.execute_reply": "2021-09-17T02:20:13.739974Z",
     "shell.execute_reply.started": "2021-09-17T02:19:29.624002Z"
    }
   },
   "outputs": [
    {
     "name": "stdout",
     "output_type": "stream",
     "text": [
      "Mean of f1 scores: 0.14016828966606373\n",
      "Deviation in f1 scores: 0.0018474190356633925\n"
     ]
    }
   ],
   "source": [
    "cv_rf = cross_val_score(RandomForestClassifier(),xtrain,ytrain,cv=3,scoring=\"f1\")\n",
    "print(\"Mean of f1 scores:\",cv_rf.mean())\n",
    "print(\"Deviation in f1 scores:\",cv_rf.std())\n",
    "results.iloc[2,0] = \"Random Forest\"\n",
    "results.iloc[2,1] = f1_train_rf\n",
    "results.iloc[2,2] = f1_test_rf\n",
    "results.iloc[2,3] = cv_rf.mean()\n",
    "results.iloc[2,4] = cv_rf.std()"
   ]
  },
  {
   "cell_type": "markdown",
   "metadata": {},
   "source": [
    "### Adaboosting Classifier"
   ]
  },
  {
   "cell_type": "code",
   "execution_count": 138,
   "metadata": {
    "execution": {
     "iopub.execute_input": "2021-09-17T02:20:13.745092Z",
     "iopub.status.busy": "2021-09-17T02:20:13.744836Z",
     "iopub.status.idle": "2021-09-17T02:20:28.659234Z",
     "shell.execute_reply": "2021-09-17T02:20:28.658047Z",
     "shell.execute_reply.started": "2021-09-17T02:20:13.745064Z"
    }
   },
   "outputs": [
    {
     "name": "stdout",
     "output_type": "stream",
     "text": [
      "f1: 0.0023233774571245146\n",
      "\n",
      "Model Performance Report\n",
      "Training Performance:\n",
      "              precision    recall  f1-score   support\n",
      "\n",
      "           0       0.88      1.00      0.93    234158\n",
      "           1       0.41      0.00      0.00     32618\n",
      "\n",
      "    accuracy                           0.88    266776\n",
      "   macro avg       0.64      0.50      0.47    266776\n",
      "weighted avg       0.82      0.88      0.82    266776\n",
      "\n",
      "\n",
      "Test Performance:\n",
      "              precision    recall  f1-score   support\n",
      "\n",
      "           0       0.88      1.00      0.93    100241\n",
      "           1       0.42      0.00      0.00     14092\n",
      "\n",
      "    accuracy                           0.88    114333\n",
      "   macro avg       0.65      0.50      0.47    114333\n",
      "weighted avg       0.82      0.88      0.82    114333\n",
      "\n"
     ]
    }
   ],
   "source": [
    "ada = AdaBoostClassifier().fit(xtrain,ytrain)\n",
    "f1_train_ada = f1_score(ytrain,ada.predict(xtrain))\n",
    "f1_test_ada = f1_score(ytest,ada.predict(xtest))\n",
    "print(\"f1:\",f1_train_ada)\n",
    "print()\n",
    "print(\"Model Performance Report\")\n",
    "print(\"Training Performance:\",classification_report(ytrain,ada.predict(xtrain)),sep=\"\\n\")\n",
    "print()\n",
    "print(\"Test Performance:\",classification_report(ytest,ada.predict(xtest)),sep=\"\\n\")"
   ]
  },
  {
   "cell_type": "code",
   "execution_count": 139,
   "metadata": {
    "execution": {
     "iopub.execute_input": "2021-09-17T02:20:28.661481Z",
     "iopub.status.busy": "2021-09-17T02:20:28.660858Z",
     "iopub.status.idle": "2021-09-17T02:20:46.229297Z",
     "shell.execute_reply": "2021-09-17T02:20:46.228219Z",
     "shell.execute_reply.started": "2021-09-17T02:20:28.661443Z"
    }
   },
   "outputs": [
    {
     "name": "stdout",
     "output_type": "stream",
     "text": [
      "Mean of f1 scores: 0.0035404269934191275\n",
      "Deviation in f1 scores: 0.0019430493657176633\n"
     ]
    }
   ],
   "source": [
    "cv_ada = cross_val_score(AdaBoostClassifier(),xtrain,ytrain,cv=3,scoring=\"f1\")\n",
    "print(\"Mean of f1 scores:\",cv_ada.mean())\n",
    "print(\"Deviation in f1 scores:\",cv_ada.std())\n",
    "results.iloc[3,0] = \"Adaboost\"\n",
    "results.iloc[3,1] = f1_train_ada\n",
    "results.iloc[3,2] = f1_test_ada\n",
    "results.iloc[3,3] = cv_ada.mean()\n",
    "results.iloc[3,4] = cv_ada.std()"
   ]
  },
  {
   "cell_type": "markdown",
   "metadata": {},
   "source": [
    "### Gradient Boosting"
   ]
  },
  {
   "cell_type": "code",
   "execution_count": 145,
   "metadata": {
    "execution": {
     "iopub.execute_input": "2021-09-17T02:20:46.230904Z",
     "iopub.status.busy": "2021-09-17T02:20:46.230612Z",
     "iopub.status.idle": "2021-09-17T02:21:14.268634Z",
     "shell.execute_reply": "2021-09-17T02:21:14.267569Z",
     "shell.execute_reply.started": "2021-09-17T02:20:46.230875Z"
    }
   },
   "outputs": [
    {
     "name": "stdout",
     "output_type": "stream",
     "text": [
      "f1: 0.0\n",
      "\n",
      "Model Performance Report\n",
      "Training Performance:\n",
      "              precision    recall  f1-score   support\n",
      "\n",
      "           0       0.88      1.00      0.93    234158\n",
      "           1       0.00      0.00      0.00     32618\n",
      "\n",
      "    accuracy                           0.88    266776\n",
      "   macro avg       0.44      0.50      0.47    266776\n",
      "weighted avg       0.77      0.88      0.82    266776\n",
      "\n",
      "\n",
      "Test Performance:\n",
      "              precision    recall  f1-score   support\n",
      "\n",
      "           0       0.88      1.00      0.93    100241\n",
      "           1       0.00      0.00      0.00     14092\n",
      "\n",
      "    accuracy                           0.88    114333\n",
      "   macro avg       0.44      0.50      0.47    114333\n",
      "weighted avg       0.77      0.88      0.82    114333\n",
      "\n"
     ]
    }
   ],
   "source": [
    "gb = GradientBoostingClassifier().fit(xtrain,ytrain)\n",
    "f1_train_gb = f1_score(ytrain,gb.predict(xtrain))\n",
    "f1_test_gb = f1_score(ytest,gb.predict(xtest))\n",
    "print(\"f1:\",f1_train_gb)\n",
    "print()\n",
    "print(\"Model Performance Report\")\n",
    "print(\"Training Performance:\",classification_report(ytrain,gb.predict(xtrain)),sep=\"\\n\")\n",
    "print()\n",
    "print(\"Test Performance:\",classification_report(ytest,gb.predict(xtest)),sep=\"\\n\")"
   ]
  },
  {
   "cell_type": "code",
   "execution_count": 146,
   "metadata": {
    "execution": {
     "iopub.execute_input": "2021-09-17T02:21:14.270830Z",
     "iopub.status.busy": "2021-09-17T02:21:14.269763Z",
     "iopub.status.idle": "2021-09-17T02:22:02.247030Z",
     "shell.execute_reply": "2021-09-17T02:22:02.245920Z",
     "shell.execute_reply.started": "2021-09-17T02:21:14.270776Z"
    }
   },
   "outputs": [
    {
     "name": "stdout",
     "output_type": "stream",
     "text": [
      "Mean of f1 scores: 0.0\n",
      "Deviation in f1 scores: 0.0\n"
     ]
    }
   ],
   "source": [
    "cv_gb = cross_val_score(GradientBoostingClassifier(),xtrain,ytrain,cv=3,scoring=\"f1\")\n",
    "print(\"Mean of f1 scores:\",cv_gb.mean())\n",
    "print(\"Deviation in f1 scores:\",cv_gb.std())\n",
    "results.iloc[4,0] = \"Gradient boost\"\n",
    "results.iloc[4,1] = f1_train_gb\n",
    "results.iloc[4,2] = f1_test_gb\n",
    "results.iloc[4,3] = cv_gb.mean()\n",
    "results.iloc[4,4] = cv_gb.std()"
   ]
  },
  {
   "cell_type": "markdown",
   "metadata": {},
   "source": [
    "### XGB"
   ]
  },
  {
   "cell_type": "code",
   "execution_count": 142,
   "metadata": {
    "execution": {
     "iopub.execute_input": "2021-09-17T02:22:02.248958Z",
     "iopub.status.busy": "2021-09-17T02:22:02.248633Z",
     "iopub.status.idle": "2021-09-17T02:22:20.993116Z",
     "shell.execute_reply": "2021-09-17T02:22:20.992449Z",
     "shell.execute_reply.started": "2021-09-17T02:22:02.248922Z"
    }
   },
   "outputs": [
    {
     "name": "stdout",
     "output_type": "stream",
     "text": [
      "f1: 0.038511826934506124\n",
      "\n",
      "Model Performance Report\n",
      "Training Performance:\n",
      "              precision    recall  f1-score   support\n",
      "\n",
      "           0       0.88      1.00      0.94    234158\n",
      "           1       0.63      0.02      0.04     32618\n",
      "\n",
      "    accuracy                           0.88    266776\n",
      "   macro avg       0.75      0.51      0.49    266776\n",
      "weighted avg       0.85      0.88      0.83    266776\n",
      "\n",
      "\n",
      "Test Performance:\n",
      "              precision    recall  f1-score   support\n",
      "\n",
      "           0       0.88      1.00      0.93    100241\n",
      "           1       0.47      0.02      0.03     14092\n",
      "\n",
      "    accuracy                           0.88    114333\n",
      "   macro avg       0.68      0.51      0.48    114333\n",
      "weighted avg       0.83      0.88      0.82    114333\n",
      "\n"
     ]
    }
   ],
   "source": [
    "xgb = XGBClassifier().fit(xtrain,ytrain)\n",
    "f1_train_xgb = f1_score(ytrain,xgb.predict(xtrain))\n",
    "f1_test_xgb = f1_score(ytest,xgb.predict(xtest))\n",
    "print(\"f1:\",f1_train_xgb)\n",
    "print()\n",
    "print(\"Model Performance Report\")\n",
    "print(\"Training Performance:\",classification_report(ytrain,xgb.predict(xtrain)),sep=\"\\n\")\n",
    "print()\n",
    "print(\"Test Performance:\",classification_report(ytest,xgb.predict(xtest)),sep=\"\\n\")"
   ]
  },
  {
   "cell_type": "code",
   "execution_count": 143,
   "metadata": {
    "execution": {
     "iopub.execute_input": "2021-09-17T02:22:20.995155Z",
     "iopub.status.busy": "2021-09-17T02:22:20.994288Z",
     "iopub.status.idle": "2021-09-17T02:22:54.731338Z",
     "shell.execute_reply": "2021-09-17T02:22:54.730586Z",
     "shell.execute_reply.started": "2021-09-17T02:22:20.995118Z"
    }
   },
   "outputs": [
    {
     "name": "stdout",
     "output_type": "stream",
     "text": [
      "Mean of f1 scores: 0.036732399339107866\n",
      "Deviation in f1 scores: 0.006185112472696206\n"
     ]
    }
   ],
   "source": [
    "cv_xgb = cross_val_score(XGBClassifier(),xtrain,ytrain,cv=3,scoring=\"f1\")\n",
    "print(\"Mean of f1 scores:\",cv_xgb.mean())\n",
    "print(\"Deviation in f1 scores:\",cv_xgb.std())\n",
    "results.iloc[5,0] = \"XGB\"\n",
    "results.iloc[5,1] = f1_train_xgb\n",
    "results.iloc[5,2] = f1_test_xgb\n",
    "results.iloc[5,3] = cv_xgb.mean()\n",
    "results.iloc[5,4] = cv_xgb.std()"
   ]
  },
  {
   "cell_type": "code",
   "execution_count": 147,
   "metadata": {
    "execution": {
     "iopub.execute_input": "2021-09-17T02:22:54.734596Z",
     "iopub.status.busy": "2021-09-17T02:22:54.734055Z",
     "iopub.status.idle": "2021-09-17T02:22:54.756829Z",
     "shell.execute_reply": "2021-09-17T02:22:54.755643Z",
     "shell.execute_reply.started": "2021-09-17T02:22:54.734525Z"
    }
   },
   "outputs": [
    {
     "data": {
      "text/html": [
       "<div>\n",
       "<style scoped>\n",
       "    .dataframe tbody tr th:only-of-type {\n",
       "        vertical-align: middle;\n",
       "    }\n",
       "\n",
       "    .dataframe tbody tr th {\n",
       "        vertical-align: top;\n",
       "    }\n",
       "\n",
       "    .dataframe thead th {\n",
       "        text-align: right;\n",
       "    }\n",
       "</style>\n",
       "<table border=\"1\" class=\"dataframe\">\n",
       "  <thead>\n",
       "    <tr style=\"text-align: right;\">\n",
       "      <th></th>\n",
       "      <th>Model</th>\n",
       "      <th>Train F1</th>\n",
       "      <th>Test F1</th>\n",
       "      <th>CV Mean F1</th>\n",
       "      <th>CV std in scores</th>\n",
       "    </tr>\n",
       "  </thead>\n",
       "  <tbody>\n",
       "    <tr>\n",
       "      <th>0</th>\n",
       "      <td>Naive Bayes</td>\n",
       "      <td>0.41785</td>\n",
       "      <td>0.419601</td>\n",
       "      <td>0.419088</td>\n",
       "      <td>0.001342</td>\n",
       "    </tr>\n",
       "    <tr>\n",
       "      <th>1</th>\n",
       "      <td>Decision Tree</td>\n",
       "      <td>0.19211</td>\n",
       "      <td>0.107223</td>\n",
       "      <td>0.120439</td>\n",
       "      <td>0.002823</td>\n",
       "    </tr>\n",
       "    <tr>\n",
       "      <th>2</th>\n",
       "      <td>Random Forest</td>\n",
       "      <td>0.216909</td>\n",
       "      <td>0.12643</td>\n",
       "      <td>0.140168</td>\n",
       "      <td>0.001847</td>\n",
       "    </tr>\n",
       "    <tr>\n",
       "      <th>3</th>\n",
       "      <td>Adaboost</td>\n",
       "      <td>0.002323</td>\n",
       "      <td>0.002265</td>\n",
       "      <td>0.00354</td>\n",
       "      <td>0.001943</td>\n",
       "    </tr>\n",
       "    <tr>\n",
       "      <th>4</th>\n",
       "      <td>Gradient boost</td>\n",
       "      <td>0.0</td>\n",
       "      <td>0.0</td>\n",
       "      <td>0.0</td>\n",
       "      <td>0.0</td>\n",
       "    </tr>\n",
       "    <tr>\n",
       "      <th>5</th>\n",
       "      <td>XGB</td>\n",
       "      <td>0.038512</td>\n",
       "      <td>0.029561</td>\n",
       "      <td>0.036732</td>\n",
       "      <td>0.006185</td>\n",
       "    </tr>\n",
       "  </tbody>\n",
       "</table>\n",
       "</div>"
      ],
      "text/plain": [
       "            Model  Train F1   Test F1 CV Mean F1 CV std in scores\n",
       "0     Naive Bayes   0.41785  0.419601   0.419088         0.001342\n",
       "1   Decision Tree   0.19211  0.107223   0.120439         0.002823\n",
       "2   Random Forest  0.216909   0.12643   0.140168         0.001847\n",
       "3        Adaboost  0.002323  0.002265    0.00354         0.001943\n",
       "4  Gradient boost       0.0       0.0        0.0              0.0\n",
       "5             XGB  0.038512  0.029561   0.036732         0.006185"
      ]
     },
     "execution_count": 147,
     "metadata": {},
     "output_type": "execute_result"
    }
   ],
   "source": [
    "results"
   ]
  },
  {
   "cell_type": "markdown",
   "metadata": {},
   "source": [
    "#### Inferences - \n",
    "\n",
    "NOTE - Due to heavy imbalance in target classes, we need to give considerable importance to both precision and recall of class 1. Hence throughout the evaluation, we will focus on **F1 score**\n",
    "\n",
    "We created 3 types of models - Probability, Tree based and boosting techniques.\n",
    "- The naive bayes models produced the best results across all models despite the heavy imbalance due to the usage of probabilities only. It scored a f1 score of 0.419 on the test data and recorded average f1 score of 0.419 during cross validation, indicating no signs of overfitting.\n",
    "- Tree based algorithms like decision tree and random forest recorded very poor scores across both train and test with f1 scores in the range of 0.10-0.20 with mean of f1 scores falling in the range of 0.11-0.14.\n",
    "- Boosting techniques such as adaboost, gradient boost and xgb performed even worse, with very negligible scores across train and test, falling in the range of 0.0 to 0.03.\n",
    "- Tree based and boosting based algorithms suffered heavily due to heavy imbalance in target classes across train and test where the proportion of class 0 to 1 is 87% to 13%. \n",
    "- In order to improve these scores, we need to oversample the minority class only in the TRAIN DATA, in order to improve learning of the class 1 during training and to prevent data leakage."
   ]
  },
  {
   "cell_type": "markdown",
   "metadata": {},
   "source": [
    "## OverSampling the Minority Class"
   ]
  },
  {
   "cell_type": "code",
   "execution_count": 148,
   "metadata": {
    "execution": {
     "iopub.execute_input": "2021-09-17T02:22:54.758765Z",
     "iopub.status.busy": "2021-09-17T02:22:54.758419Z",
     "iopub.status.idle": "2021-09-17T02:22:54.911663Z",
     "shell.execute_reply": "2021-09-17T02:22:54.910947Z",
     "shell.execute_reply.started": "2021-09-17T02:22:54.758722Z"
    }
   },
   "outputs": [],
   "source": [
    "from imblearn.over_sampling import SMOTE\n",
    "from sklearn.naive_bayes import BernoulliNB"
   ]
  },
  {
   "cell_type": "code",
   "execution_count": 149,
   "metadata": {
    "execution": {
     "iopub.execute_input": "2021-09-17T02:22:54.913625Z",
     "iopub.status.busy": "2021-09-17T02:22:54.913195Z",
     "iopub.status.idle": "2021-09-17T02:22:54.938862Z",
     "shell.execute_reply": "2021-09-17T02:22:54.937678Z",
     "shell.execute_reply.started": "2021-09-17T02:22:54.913592Z"
    }
   },
   "outputs": [
    {
     "name": "stdout",
     "output_type": "stream",
     "text": [
      "Total instances =  266776\n",
      "Instances of class 0 =  234158\n",
      "Instances of class 1 =  32618\n",
      "50% of class 0 =  117079\n"
     ]
    }
   ],
   "source": [
    "print(\"Total instances = \",len(ytrain))\n",
    "print(\"Instances of class 0 = \",len(ytrain[ytrain == 0]))\n",
    "print(\"Instances of class 1 = \",len(ytrain[ytrain == 1]))\n",
    "print(\"50% of class 0 = \",round(0.5*len(ytrain[ytrain == 0])))"
   ]
  },
  {
   "cell_type": "code",
   "execution_count": 150,
   "metadata": {
    "execution": {
     "iopub.execute_input": "2021-09-17T02:22:54.940942Z",
     "iopub.status.busy": "2021-09-17T02:22:54.940585Z",
     "iopub.status.idle": "2021-09-17T02:22:54.946914Z",
     "shell.execute_reply": "2021-09-17T02:22:54.945928Z",
     "shell.execute_reply.started": "2021-09-17T02:22:54.940909Z"
    }
   },
   "outputs": [],
   "source": [
    "strategy = {1:117040}\n",
    "smote = SMOTE(sampling_strategy=strategy,random_state=0)"
   ]
  },
  {
   "cell_type": "code",
   "execution_count": 151,
   "metadata": {
    "execution": {
     "iopub.execute_input": "2021-09-17T02:22:54.949784Z",
     "iopub.status.busy": "2021-09-17T02:22:54.948651Z",
     "iopub.status.idle": "2021-09-17T02:22:58.074415Z",
     "shell.execute_reply": "2021-09-17T02:22:58.073167Z",
     "shell.execute_reply.started": "2021-09-17T02:22:54.949727Z"
    }
   },
   "outputs": [],
   "source": [
    "xtrain_over,ytrain_over = smote.fit_resample(xtrain,ytrain)"
   ]
  },
  {
   "cell_type": "code",
   "execution_count": 152,
   "metadata": {
    "execution": {
     "iopub.execute_input": "2021-09-17T02:22:58.076785Z",
     "iopub.status.busy": "2021-09-17T02:22:58.076446Z",
     "iopub.status.idle": "2021-09-17T02:22:58.093411Z",
     "shell.execute_reply": "2021-09-17T02:22:58.091727Z",
     "shell.execute_reply.started": "2021-09-17T02:22:58.076746Z"
    }
   },
   "outputs": [
    {
     "data": {
      "text/plain": [
       "0    66.67407\n",
       "1    33.32593\n",
       "Name: Response, dtype: float64"
      ]
     },
     "execution_count": 152,
     "metadata": {},
     "output_type": "execute_result"
    }
   ],
   "source": [
    "ytrain_over.value_counts(1)*100"
   ]
  },
  {
   "cell_type": "code",
   "execution_count": 153,
   "metadata": {
    "execution": {
     "iopub.execute_input": "2021-09-17T02:22:58.096803Z",
     "iopub.status.busy": "2021-09-17T02:22:58.096255Z",
     "iopub.status.idle": "2021-09-17T02:22:58.109630Z",
     "shell.execute_reply": "2021-09-17T02:22:58.107978Z",
     "shell.execute_reply.started": "2021-09-17T02:22:58.096743Z"
    }
   },
   "outputs": [],
   "source": [
    "results_smote = pd.DataFrame({\"Model\":None,\"Train F1\":None,\"Test F1\":None,\"CV Mean F1\":None,\"CV std in scores\":None},index=range(0,4))"
   ]
  },
  {
   "cell_type": "markdown",
   "metadata": {},
   "source": [
    "## Creating Baseline Models with Oversampled Data"
   ]
  },
  {
   "cell_type": "code",
   "execution_count": 154,
   "metadata": {
    "execution": {
     "iopub.execute_input": "2021-09-17T02:22:58.112573Z",
     "iopub.status.busy": "2021-09-17T02:22:58.112007Z",
     "iopub.status.idle": "2021-09-17T02:23:00.053170Z",
     "shell.execute_reply": "2021-09-17T02:23:00.052257Z",
     "shell.execute_reply.started": "2021-09-17T02:22:58.112529Z"
    }
   },
   "outputs": [
    {
     "name": "stdout",
     "output_type": "stream",
     "text": [
      "f1 on train: 0.7124017012943301\n",
      "f1 on test: 0.4332646381379561\n",
      "\n",
      "Model Performance Report on train\n",
      "              precision    recall  f1-score   support\n",
      "\n",
      "           0       0.93      0.69      0.79    234158\n",
      "           1       0.59      0.90      0.71    117040\n",
      "\n",
      "    accuracy                           0.76    351198\n",
      "   macro avg       0.76      0.79      0.75    351198\n",
      "weighted avg       0.82      0.76      0.77    351198\n",
      "\n",
      "Model Performance Report on test\n",
      "              precision    recall  f1-score   support\n",
      "\n",
      "           0       0.98      0.69      0.81    100241\n",
      "           1       0.29      0.89      0.43     14092\n",
      "\n",
      "    accuracy                           0.71    114333\n",
      "   macro avg       0.63      0.79      0.62    114333\n",
      "weighted avg       0.89      0.71      0.76    114333\n",
      "\n"
     ]
    }
   ],
   "source": [
    "nb = BernoulliNB().fit(xtrain_over.drop(\"Age\",axis=1),ytrain_over)\n",
    "f1_train_nb = f1_score(ytrain_over,nb.predict(xtrain_over.drop(\"Age\",axis=1)))\n",
    "f1_test_nb = f1_score(ytest,nb.predict(xtest.drop(\"Age\",axis=1)))\n",
    "\n",
    "print(\"f1 on train:\",f1_train_nb)\n",
    "print(\"f1 on test:\",f1_test_nb)\n",
    "\n",
    "print()\n",
    "print(\"Model Performance Report on train\")\n",
    "print(classification_report(ytrain_over,nb.predict(xtrain_over.drop(\"Age\",axis=1))))\n",
    "\n",
    "print(\"Model Performance Report on test\")\n",
    "print(classification_report(ytest,nb.predict(xtest.drop(\"Age\",axis=1))))"
   ]
  },
  {
   "cell_type": "code",
   "execution_count": 155,
   "metadata": {
    "execution": {
     "iopub.execute_input": "2021-09-17T02:23:00.054608Z",
     "iopub.status.busy": "2021-09-17T02:23:00.054345Z",
     "iopub.status.idle": "2021-09-17T02:23:01.074110Z",
     "shell.execute_reply": "2021-09-17T02:23:01.073152Z",
     "shell.execute_reply.started": "2021-09-17T02:23:00.054580Z"
    }
   },
   "outputs": [
    {
     "name": "stdout",
     "output_type": "stream",
     "text": [
      "Mean of f1 scores: 0.7120580902504976\n",
      "Deviation in f1 scores: 0.0027893440350237595\n"
     ]
    }
   ],
   "source": [
    "cv_nb = cross_val_score(BernoulliNB(),xtrain_over.drop(\"Age\",axis=1),ytrain_over,cv=3,scoring=\"f1\")\n",
    "print(\"Mean of f1 scores:\",cv_nb.mean())\n",
    "print(\"Deviation in f1 scores:\",cv_nb.std())\n",
    "results_smote.iloc[0,0] = \"Naive Bayes\"\n",
    "results_smote.iloc[0,1] = f1_train_nb\n",
    "results_smote.iloc[0,2] = f1_test_nb\n",
    "results_smote.iloc[0,3] = cv_nb.mean()\n",
    "results_smote.iloc[0,4] = cv_nb.std()"
   ]
  },
  {
   "cell_type": "code",
   "execution_count": 156,
   "metadata": {
    "execution": {
     "iopub.execute_input": "2021-09-17T02:23:01.076354Z",
     "iopub.status.busy": "2021-09-17T02:23:01.075836Z",
     "iopub.status.idle": "2021-09-17T02:23:03.943702Z",
     "shell.execute_reply": "2021-09-17T02:23:03.942905Z",
     "shell.execute_reply.started": "2021-09-17T02:23:01.076305Z"
    }
   },
   "outputs": [
    {
     "name": "stdout",
     "output_type": "stream",
     "text": [
      "f1 on train: 0.737694454911068\n",
      "f1 on test: 0.4276071326487984\n",
      "\n",
      "Model Performance Report on train\n",
      "              precision    recall  f1-score   support\n",
      "\n",
      "           0       0.90      0.80      0.85    234158\n",
      "           1       0.67      0.82      0.74    117040\n",
      "\n",
      "    accuracy                           0.81    351198\n",
      "   macro avg       0.78      0.81      0.79    351198\n",
      "weighted avg       0.82      0.81      0.81    351198\n",
      "\n",
      "Model Performance Report on test\n",
      "              precision    recall  f1-score   support\n",
      "\n",
      "           0       0.95      0.78      0.86    100241\n",
      "           1       0.31      0.69      0.43     14092\n",
      "\n",
      "    accuracy                           0.77    114333\n",
      "   macro avg       0.63      0.74      0.64    114333\n",
      "weighted avg       0.87      0.77      0.80    114333\n",
      "\n"
     ]
    }
   ],
   "source": [
    "dt = DecisionTreeClassifier().fit(xtrain_over,ytrain_over)\n",
    "f1_train_dt = f1_score(ytrain_over,dt.predict(xtrain_over))\n",
    "f1_test_dt = f1_score(ytest,dt.predict(xtest))\n",
    "\n",
    "print(\"f1 on train:\",f1_train_dt)\n",
    "print(\"f1 on test:\",f1_test_dt)\n",
    "\n",
    "print()\n",
    "print(\"Model Performance Report on train\")\n",
    "print(classification_report(ytrain_over,dt.predict(xtrain_over)))\n",
    "\n",
    "print(\"Model Performance Report on test\")\n",
    "print(classification_report(ytest,dt.predict(xtest)))"
   ]
  },
  {
   "cell_type": "code",
   "execution_count": 157,
   "metadata": {
    "execution": {
     "iopub.execute_input": "2021-09-17T02:23:03.945553Z",
     "iopub.status.busy": "2021-09-17T02:23:03.945312Z",
     "iopub.status.idle": "2021-09-17T02:23:07.446662Z",
     "shell.execute_reply": "2021-09-17T02:23:07.445810Z",
     "shell.execute_reply.started": "2021-09-17T02:23:03.945525Z"
    }
   },
   "outputs": [
    {
     "name": "stdout",
     "output_type": "stream",
     "text": [
      "Mean of f1 scores: 0.7125564594092854\n",
      "Deviation in f1 scores: 0.014752997807350333\n"
     ]
    }
   ],
   "source": [
    "cv_dt = cross_val_score(DecisionTreeClassifier(),xtrain_over,ytrain_over,cv=3,scoring=\"f1\")\n",
    "print(\"Mean of f1 scores:\",cv_dt.mean())\n",
    "print(\"Deviation in f1 scores:\",cv_dt.std())\n",
    "results_smote.iloc[1,0] = \"Decision Tree\"\n",
    "results_smote.iloc[1,1] = f1_train_dt\n",
    "results_smote.iloc[1,2] = f1_test_dt\n",
    "results_smote.iloc[1,3] = cv_dt.mean()\n",
    "results_smote.iloc[1,4] = cv_dt.std()"
   ]
  },
  {
   "cell_type": "code",
   "execution_count": 158,
   "metadata": {
    "execution": {
     "iopub.execute_input": "2021-09-17T02:23:07.448651Z",
     "iopub.status.busy": "2021-09-17T02:23:07.448148Z",
     "iopub.status.idle": "2021-09-17T02:24:06.740005Z",
     "shell.execute_reply": "2021-09-17T02:24:06.738984Z",
     "shell.execute_reply.started": "2021-09-17T02:23:07.448540Z"
    }
   },
   "outputs": [
    {
     "name": "stdout",
     "output_type": "stream",
     "text": [
      "f1 on train: 0.7396658106514746\n",
      "f1 on test: 0.4286367098248286\n",
      "\n",
      "Model Performance Report on train\n",
      "              precision    recall  f1-score   support\n",
      "\n",
      "           0       0.90      0.79      0.85    234158\n",
      "           1       0.67      0.83      0.74    117040\n",
      "\n",
      "    accuracy                           0.81    351198\n",
      "   macro avg       0.79      0.81      0.79    351198\n",
      "weighted avg       0.82      0.81      0.81    351198\n",
      "\n",
      "Model Performance Report on test\n",
      "              precision    recall  f1-score   support\n",
      "\n",
      "           0       0.95      0.78      0.86    100241\n",
      "           1       0.31      0.70      0.43     14092\n",
      "\n",
      "    accuracy                           0.77    114333\n",
      "   macro avg       0.63      0.74      0.64    114333\n",
      "weighted avg       0.87      0.77      0.80    114333\n",
      "\n"
     ]
    }
   ],
   "source": [
    "rb = RandomForestClassifier().fit(xtrain_over,ytrain_over)\n",
    "f1_train_rb = f1_score(ytrain_over,rb.predict(xtrain_over))\n",
    "f1_test_rb = f1_score(ytest,rb.predict(xtest))\n",
    "\n",
    "print(\"f1 on train:\",f1_train_rb)\n",
    "print(\"f1 on test:\",f1_test_rb)\n",
    "\n",
    "print()\n",
    "print(\"Model Performance Report on train\")\n",
    "print(classification_report(ytrain_over,rb.predict(xtrain_over)))\n",
    "\n",
    "print(\"Model Performance Report on test\")\n",
    "print(classification_report(ytest,rb.predict(xtest)))"
   ]
  },
  {
   "cell_type": "code",
   "execution_count": 159,
   "metadata": {
    "execution": {
     "iopub.execute_input": "2021-09-17T02:24:06.741576Z",
     "iopub.status.busy": "2021-09-17T02:24:06.741328Z",
     "iopub.status.idle": "2021-09-17T02:25:17.761330Z",
     "shell.execute_reply": "2021-09-17T02:25:17.760717Z",
     "shell.execute_reply.started": "2021-09-17T02:24:06.741547Z"
    }
   },
   "outputs": [
    {
     "name": "stdout",
     "output_type": "stream",
     "text": [
      "Mean of f1 scores: 0.7158460617255032\n",
      "Deviation in f1 scores: 0.014527372253342634\n"
     ]
    }
   ],
   "source": [
    "cv_rb = cross_val_score(RandomForestClassifier(),xtrain_over,ytrain_over,cv=3,scoring=\"f1\")\n",
    "print(\"Mean of f1 scores:\",cv_rb.mean())\n",
    "print(\"Deviation in f1 scores:\",cv_rb.std())\n",
    "results_smote.iloc[2,0] = \"Random Forest Classifier\"\n",
    "results_smote.iloc[2,1] = f1_train_rb\n",
    "results_smote.iloc[2,2] = f1_test_rb\n",
    "results_smote.iloc[2,3] = cv_rb.mean()\n",
    "results_smote.iloc[2,4] = cv_rb.std()"
   ]
  },
  {
   "cell_type": "code",
   "execution_count": 160,
   "metadata": {},
   "outputs": [
    {
     "name": "stdout",
     "output_type": "stream",
     "text": [
      "f1 on train: 0.720215381366797\n",
      "f1 on test: 0.4444491010435439\n",
      "\n",
      "Model Performance Report on train\n",
      "              precision    recall  f1-score   support\n",
      "\n",
      "           0       0.89      0.78      0.83    234158\n",
      "           1       0.64      0.82      0.72    117040\n",
      "\n",
      "    accuracy                           0.79    351198\n",
      "   macro avg       0.77      0.80      0.78    351198\n",
      "weighted avg       0.81      0.79      0.79    351198\n",
      "\n",
      "Model Performance Report on test\n",
      "              precision    recall  f1-score   support\n",
      "\n",
      "           0       0.96      0.77      0.85    100241\n",
      "           1       0.32      0.75      0.44     14092\n",
      "\n",
      "    accuracy                           0.77    114333\n",
      "   macro avg       0.64      0.76      0.65    114333\n",
      "weighted avg       0.88      0.77      0.80    114333\n",
      "\n"
     ]
    }
   ],
   "source": [
    "xgb_over = XGBClassifier().fit(xtrain_over,ytrain_over)\n",
    "f1_train_xgb_over = f1_score(ytrain_over,xgb_over.predict(xtrain_over))\n",
    "f1_test_xgb_over = f1_score(ytest,xgb_over.predict(xtest))\n",
    "\n",
    "print(\"f1 on train:\",f1_train_xgb_over)\n",
    "print(\"f1 on test:\",f1_test_xgb_over)\n",
    "\n",
    "print()\n",
    "print(\"Model Performance Report on train\")\n",
    "print(classification_report(ytrain_over,xgb_over.predict(xtrain_over)))\n",
    "\n",
    "print(\"Model Performance Report on test\")\n",
    "print(classification_report(ytest,xgb_over.predict(xtest)))"
   ]
  },
  {
   "cell_type": "code",
   "execution_count": 161,
   "metadata": {},
   "outputs": [
    {
     "name": "stdout",
     "output_type": "stream",
     "text": [
      "Mean of f1 scores: 0.7099952778092339\n",
      "Deviation in f1 scores: 0.015892402293619656\n"
     ]
    }
   ],
   "source": [
    "cv_xgb_over = cross_val_score(XGBClassifier(),xtrain_over,ytrain_over,cv=3,scoring=\"f1\")\n",
    "print(\"Mean of f1 scores:\",cv_xgb_over.mean())\n",
    "print(\"Deviation in f1 scores:\",cv_xgb_over.std())\n",
    "results_smote.iloc[3,0] = \"XGB Classifier\"\n",
    "results_smote.iloc[3,1] = f1_train_xgb_over\n",
    "results_smote.iloc[3,2] = f1_test_xgb_over\n",
    "results_smote.iloc[3,3] = cv_xgb_over.mean()\n",
    "results_smote.iloc[3,4] = cv_xgb_over.std()"
   ]
  },
  {
   "cell_type": "code",
   "execution_count": 162,
   "metadata": {},
   "outputs": [
    {
     "data": {
      "text/html": [
       "<div>\n",
       "<style scoped>\n",
       "    .dataframe tbody tr th:only-of-type {\n",
       "        vertical-align: middle;\n",
       "    }\n",
       "\n",
       "    .dataframe tbody tr th {\n",
       "        vertical-align: top;\n",
       "    }\n",
       "\n",
       "    .dataframe thead th {\n",
       "        text-align: right;\n",
       "    }\n",
       "</style>\n",
       "<table border=\"1\" class=\"dataframe\">\n",
       "  <thead>\n",
       "    <tr style=\"text-align: right;\">\n",
       "      <th></th>\n",
       "      <th>Model</th>\n",
       "      <th>Train F1</th>\n",
       "      <th>Test F1</th>\n",
       "      <th>CV Mean F1</th>\n",
       "      <th>CV std in scores</th>\n",
       "    </tr>\n",
       "  </thead>\n",
       "  <tbody>\n",
       "    <tr>\n",
       "      <th>0</th>\n",
       "      <td>Naive Bayes</td>\n",
       "      <td>0.712402</td>\n",
       "      <td>0.433265</td>\n",
       "      <td>0.712058</td>\n",
       "      <td>0.002789</td>\n",
       "    </tr>\n",
       "    <tr>\n",
       "      <th>1</th>\n",
       "      <td>Decision Tree</td>\n",
       "      <td>0.737694</td>\n",
       "      <td>0.427607</td>\n",
       "      <td>0.712556</td>\n",
       "      <td>0.014753</td>\n",
       "    </tr>\n",
       "    <tr>\n",
       "      <th>2</th>\n",
       "      <td>Random Forest Classifier</td>\n",
       "      <td>0.739666</td>\n",
       "      <td>0.428637</td>\n",
       "      <td>0.715846</td>\n",
       "      <td>0.014527</td>\n",
       "    </tr>\n",
       "    <tr>\n",
       "      <th>3</th>\n",
       "      <td>XGB Classifier</td>\n",
       "      <td>0.720215</td>\n",
       "      <td>0.444449</td>\n",
       "      <td>0.709995</td>\n",
       "      <td>0.015892</td>\n",
       "    </tr>\n",
       "  </tbody>\n",
       "</table>\n",
       "</div>"
      ],
      "text/plain": [
       "                      Model  Train F1   Test F1 CV Mean F1 CV std in scores\n",
       "0               Naive Bayes  0.712402  0.433265   0.712058         0.002789\n",
       "1             Decision Tree  0.737694  0.427607   0.712556         0.014753\n",
       "2  Random Forest Classifier  0.739666  0.428637   0.715846         0.014527\n",
       "3            XGB Classifier  0.720215  0.444449   0.709995         0.015892"
      ]
     },
     "execution_count": 162,
     "metadata": {},
     "output_type": "execute_result"
    }
   ],
   "source": [
    "results_smote"
   ]
  },
  {
   "cell_type": "markdown",
   "metadata": {},
   "source": [
    "#### Inferences - \n",
    "On building baseline models using oversampled data, we can conclude the following - \n",
    "- We built 3 baseline models - Bernoulli Naive bayes, Decision tree and Random Forest.\n",
    "- Decision tree and random forest were giving higher f1 scores across the train at 0.75.\n",
    "- However, since tree based algorithms are prone to overfitting, the deviation in cross validation scores was close to 3% and f1 score on test was recorded around 0.424-0.426\n",
    "- The naive bayes model generalized better and provided the most consistent results, based on lowest deviation of 0.01%  compared to the 2-3% deviation of tree models.\n",
    "- However, naive bayes model doesnt have much scope for improvement in terms of parameters to tune and it produced very low precision for class 1 on test data i.e 0.29 compared to recall of 0.89. \n",
    "- In this respect, tree models performed better with slightly lesser difference in recall and precision scores in test sample. Hence we would choose a tree based model.\n",
    "- Since, decision tree was giving a lower deviation in scores, lesser complex to tune and less time consuming due to being a standalone estimator, we chose the decision tree for further tuning."
   ]
  },
  {
   "cell_type": "markdown",
   "metadata": {},
   "source": [
    "## Feature Selection"
   ]
  },
  {
   "cell_type": "code",
   "execution_count": 163,
   "metadata": {
    "execution": {
     "iopub.execute_input": "2021-09-17T02:25:17.776621Z",
     "iopub.status.busy": "2021-09-17T02:25:17.776333Z",
     "iopub.status.idle": "2021-09-17T02:25:17.787883Z",
     "shell.execute_reply": "2021-09-17T02:25:17.786888Z",
     "shell.execute_reply.started": "2021-09-17T02:25:17.776591Z"
    }
   },
   "outputs": [],
   "source": [
    "results_features = pd.DataFrame({\"Model\":None,\"Train F1\":None,\"Test F1\":None,\"CV Mean F1\":None,\"CV std in scores\":None},index=range(0,3))"
   ]
  },
  {
   "cell_type": "code",
   "execution_count": 164,
   "metadata": {
    "execution": {
     "iopub.execute_input": "2021-09-17T02:25:17.790106Z",
     "iopub.status.busy": "2021-09-17T02:25:17.789746Z",
     "iopub.status.idle": "2021-09-17T02:25:17.834558Z",
     "shell.execute_reply": "2021-09-17T02:25:17.833830Z",
     "shell.execute_reply.started": "2021-09-17T02:25:17.790058Z"
    }
   },
   "outputs": [],
   "source": [
    "from sklearn.feature_selection import RFE\n",
    "from mlxtend.feature_selection import SequentialFeatureSelector\n",
    "from sklearn.metrics import roc_auc_score,roc_curve"
   ]
  },
  {
   "cell_type": "markdown",
   "metadata": {},
   "source": [
    "### Recursive Feature Elimination"
   ]
  },
  {
   "cell_type": "code",
   "execution_count": 165,
   "metadata": {
    "execution": {
     "iopub.execute_input": "2021-09-17T02:25:17.836982Z",
     "iopub.status.busy": "2021-09-17T02:25:17.835987Z",
     "iopub.status.idle": "2021-09-17T02:25:35.168092Z",
     "shell.execute_reply": "2021-09-17T02:25:35.167392Z",
     "shell.execute_reply.started": "2021-09-17T02:25:17.836939Z"
    }
   },
   "outputs": [],
   "source": [
    " rfe = RFE(DecisionTreeClassifier(),n_features_to_select=10).fit(xtrain_over,ytrain_over)"
   ]
  },
  {
   "cell_type": "code",
   "execution_count": 166,
   "metadata": {},
   "outputs": [
    {
     "data": {
      "text/plain": [
       "array([ 1,  1, 10,  5,  1, 13,  9, 14, 15, 11,  4,  6,  1,  2,  1, 12,  1,\n",
       "        1,  7,  1,  8,  1,  1,  3])"
      ]
     },
     "execution_count": 166,
     "metadata": {},
     "output_type": "execute_result"
    }
   ],
   "source": [
    "ranking=rfe.ranking_\n",
    "ranking"
   ]
  },
  {
   "cell_type": "code",
   "execution_count": 167,
   "metadata": {},
   "outputs": [
    {
     "name": "stdout",
     "output_type": "stream",
     "text": [
      "Best Features: Index(['Age', 'Gender_Male', 'Region_Code_Region_Region_28',\n",
      "       'Region_Code_Region_Region_50',\n",
      "       'Previously_Insured_Vehicle_Not_Insured', 'Vehicle_Age_Years1-2',\n",
      "       'Vehicle_Damage_Vehicle_Not_Damaged',\n",
      "       'Policy_Sales_Channel_Channel_Channel_152',\n",
      "       'Policy_Sales_Channel_Channel_Channel_160',\n",
      "       'Policy_Sales_Channel_Channel_Channel_26'],\n",
      "      dtype='object')\n"
     ]
    }
   ],
   "source": [
    "print(\"Best Features:\", xtrain_over.columns[ranking == 1])"
   ]
  },
  {
   "cell_type": "code",
   "execution_count": 168,
   "metadata": {
    "execution": {
     "iopub.execute_input": "2021-09-17T02:25:35.183526Z",
     "iopub.status.busy": "2021-09-17T02:25:35.183239Z",
     "iopub.status.idle": "2021-09-17T02:25:39.156826Z",
     "shell.execute_reply": "2021-09-17T02:25:39.155940Z",
     "shell.execute_reply.started": "2021-09-17T02:25:35.183495Z"
    }
   },
   "outputs": [
    {
     "name": "stdout",
     "output_type": "stream",
     "text": [
      "f1 on train: 0.712064555693495\n",
      "f1 on test: 0.4468422461544797\n",
      "\n",
      "Model Performance Report on train\n",
      "              precision    recall  f1-score   support\n",
      "\n",
      "           0       0.89      0.76      0.82    234079\n",
      "           1       0.63      0.81      0.71    117040\n",
      "\n",
      "    accuracy                           0.78    351119\n",
      "   macro avg       0.76      0.79      0.77    351119\n",
      "weighted avg       0.81      0.78      0.79    351119\n",
      "\n",
      "\n",
      "Mean of f1 scores: 0.7045781384586608\n",
      "Deviation in f1 scores: 0.004284437045253738\n",
      "\n",
      "Model Performance Report on test\n",
      "              precision    recall  f1-score   support\n",
      "\n",
      "           0       0.96      0.76      0.85    100320\n",
      "           1       0.31      0.77      0.45     14013\n",
      "\n",
      "    accuracy                           0.77    114333\n",
      "   macro avg       0.64      0.77      0.65    114333\n",
      "weighted avg       0.88      0.77      0.80    114333\n",
      "\n"
     ]
    },
    {
     "data": {
      "image/png": "[encoded data removed]",
      "text/plain": [
       "<Figure size 432x288 with 1 Axes>"
      ]
     },
     "metadata": {
      "needs_background": "light"
     },
     "output_type": "display_data"
    },
    {
     "data": {
      "image/png": "[encoded data removed]",
      "text/plain": [
       "<Figure size 432x288 with 2 Axes>"
      ]
     },
     "metadata": {
      "needs_background": "light"
     },
     "output_type": "display_data"
    }
   ],
   "source": [
    "rfe_features =  xtrain_over.columns[ranking == 1]\n",
    "\n",
    "dt_rfe = DecisionTreeClassifier().fit(xtrain_over[list(rfe_features)],ytrain_over)\n",
    "f1_train_dt_rfe = f1_score(ytrain_over,dt_rfe.predict(xtrain_over[list(rfe_features)]))\n",
    "f1_test_dt_rfe = f1_score(ytest,dt_rfe.predict(xtest[list(rfe_features)]))\n",
    "\n",
    "print(\"f1 on train:\",f1_train_dt_rfe)\n",
    "print(\"f1 on test:\",f1_test_dt_rfe)\n",
    "\n",
    "print()\n",
    "print(\"Model Performance Report on train\")\n",
    "print(classification_report(ytrain_over,dt_rfe.predict(xtrain_over[list(rfe_features)])))\n",
    "print()\n",
    "cv_dt_rfe = cross_val_score(DecisionTreeClassifier(),xtrain_over[list(rfe_features)],ytrain_over,cv=3,scoring=\"f1\")\n",
    "print(\"Mean of f1 scores:\",cv_dt_rfe.mean())\n",
    "print(\"Deviation in f1 scores:\",cv_dt_rfe.std())\n",
    "results_features.iloc[0,0] = \"Recursive Feature Elimination\"\n",
    "results_features.iloc[0,1] = f1_train_dt_rfe\n",
    "results_features.iloc[0,2] = f1_test_dt_rfe\n",
    "results_features.iloc[0,3] = cv_dt_rfe.mean()\n",
    "results_features.iloc[0,4] = cv_dt_rfe.std()\n",
    "print()\n",
    "print(\"Model Performance Report on test\")\n",
    "print(classification_report(ytest,dt_rfe.predict(xtest[list(rfe_features)])))\n",
    "\n",
    "fpr, tpr, thres = roc_curve(ytest,dt_rfe.predict_proba(xtest[list(rfe_features)])[:,1])\n",
    "plt.plot(fpr,tpr)\n",
    "plt.fill_between(fpr,tpr)\n",
    "plt.title(f\"AUC Score: {roc_auc_score(ytest,dt_rfe.predict_proba(xtest[list(rfe_features)])[:,1])}\",size=15)\n",
    "plt.xlabel(\"False Positive Rate\")\n",
    "plt.ylabel(\"True Positive Rate\")\n",
    "plt.show()\n",
    "\n",
    "sns.heatmap(confusion_matrix(ytest,dt_rfe.predict(xtest[list(rfe_features)])),annot=True,fmt=\"g\")\n",
    "plt.title(\"Decision Tree with RFE Features\",size=15)\n",
    "plt.xlabel(\"Predicted\")\n",
    "plt.ylabel(\"Actual\")\n",
    "plt.xticks([0.5,1.5],[\"No\",\"Yes\"])\n",
    "plt.yticks([0.5,1.5],[\"No\",\"Yes\"])\n",
    "plt.show()"
   ]
  },
  {
   "cell_type": "markdown",
   "metadata": {},
   "source": [
    "#### Inferences - \n",
    "Based on finding out the best set of features for a decision tree using multiple techniques, we concluded the following - \n",
    "- Using Forward Feature Elimination, the decision tree model scored the highest f1 score on train sample i.e 0.75. However, when using cross validation, the model scored the recorded higher deviation in scores than the other 2 models and also scored the lowest f1 score on test i.e 0.42 due to the instability.\n",
    "- Between the decision tree models using set of features from Recursive feature elimination and feature importances, we had similar scores. However, the model using feature importances recorded a high f1 score on test i.e 0.4434, higher train f1 score of 0.72 and higher mean cv score of 0.7119.\n",
    "\n",
    "Hence we will use the decision tree model with set of features determined by feature importances."
   ]
  },
  {
   "cell_type": "markdown",
   "metadata": {},
   "source": [
    "## Parameter Optimization"
   ]
  },
  {
   "cell_type": "code",
   "execution_count": 178,
   "metadata": {
    "execution": {
     "iopub.execute_input": "2021-09-17T02:30:39.996509Z",
     "iopub.status.busy": "2021-09-17T02:30:39.996030Z",
     "iopub.status.idle": "2021-09-17T02:32:38.356160Z",
     "shell.execute_reply": "2021-09-17T02:32:38.355074Z",
     "shell.execute_reply.started": "2021-09-17T02:30:39.996477Z"
    }
   },
   "outputs": [],
   "source": [
    "from sklearn.model_selection import GridSearchCV\n",
    "\n",
    "\n",
    "params = {\"max_depth\":range(2,10),\"criterion\":[\"gini\",\"entropy\"],\"min_samples_leaf\":[30,40,50],\"min_samples_split\":[60,80,100]}\n",
    "grid = GridSearchCV(DecisionTreeClassifier(),param_grid=params,cv=3,scoring=\"f1\").fit(xtrain_over[list(rfe_features)],ytrain_over)"
   ]
  },
  {
   "cell_type": "code",
   "execution_count": 189,
   "metadata": {},
   "outputs": [],
   "source": [
    "grid_params=grid.best_params_"
   ]
  },
  {
   "cell_type": "code",
   "execution_count": 191,
   "metadata": {
    "execution": {
     "iopub.execute_input": "2021-09-17T02:42:38.801463Z",
     "iopub.status.busy": "2021-09-17T02:42:38.801017Z",
     "iopub.status.idle": "2021-09-17T02:42:38.811135Z",
     "shell.execute_reply": "2021-09-17T02:42:38.809993Z",
     "shell.execute_reply.started": "2021-09-17T02:42:38.801422Z"
    }
   },
   "outputs": [
    {
     "data": {
      "text/plain": [
       "{'max_depth': 9, 'min_sampples_leaf': 30, 'min_samples_split': 60}"
      ]
     },
     "execution_count": 191,
     "metadata": {},
     "output_type": "execute_result"
    }
   ],
   "source": [
    "grid_params"
   ]
  },
  {
   "cell_type": "code",
   "execution_count": 188,
   "metadata": {
    "execution": {
     "iopub.execute_input": "2021-09-17T02:42:48.732179Z",
     "iopub.status.busy": "2021-09-17T02:42:48.731815Z",
     "iopub.status.idle": "2021-09-17T02:42:52.264122Z",
     "shell.execute_reply": "2021-09-17T02:42:52.262906Z",
     "shell.execute_reply.started": "2021-09-17T02:42:48.732142Z"
    }
   },
   "outputs": [
    {
     "name": "stdout",
     "output_type": "stream",
     "text": [
      "f1 on train: 0.7034879561397894\n",
      "f1 on test: 0.4502890173410405\n",
      "\n",
      "Model Performance Report on train\n",
      "              precision    recall  f1-score   support\n",
      "\n",
      "           0       0.88      0.76      0.82    234079\n",
      "           1       0.63      0.80      0.70    117040\n",
      "\n",
      "    accuracy                           0.78    351119\n",
      "   macro avg       0.76      0.78      0.76    351119\n",
      "weighted avg       0.80      0.78      0.78    351119\n",
      "\n",
      "\n",
      "Mean of f1 scores: 0.7024976997042532\n",
      "Deviation in f1 scores: 0.00451094018470376\n",
      "\n",
      "Model Performance Report on test\n",
      "              precision    recall  f1-score   support\n",
      "\n",
      "           0       0.96      0.77      0.85    100320\n",
      "           1       0.32      0.78      0.45     14013\n",
      "\n",
      "    accuracy                           0.77    114333\n",
      "   macro avg       0.64      0.77      0.65    114333\n",
      "weighted avg       0.88      0.77      0.80    114333\n",
      "\n"
     ]
    },
    {
     "data": {
      "image/png": "[encoded data removed]",
      "text/plain": [
       "<Figure size 432x288 with 1 Axes>"
      ]
     },
     "metadata": {
      "needs_background": "light"
     },
     "output_type": "display_data"
    },
    {
     "data": {
      "image/png": "[encoded data removed]",
      "text/plain": [
       "<Figure size 432x288 with 2 Axes>"
      ]
     },
     "metadata": {
      "needs_background": "light"
     },
     "output_type": "display_data"
    }
   ],
   "source": [
    "dt_grid = DecisionTreeClassifier(criterion=\"gini\",max_depth=9,min_samples_leaf=30,min_samples_split=60).fit(xtrain_over[list(rfe_features)],ytrain_over)\n",
    "f1_train_dt_grid = f1_score(ytrain_over,dt_grid.predict(xtrain_over[list(rfe_features)]))\n",
    "f1_test_dt_grid = f1_score(ytest,dt_grid.predict(xtest[list(rfe_features)]))\n",
    "\n",
    "print(\"f1 on train:\",f1_train_dt_grid)\n",
    "print(\"f1 on test:\",f1_test_dt_grid)\n",
    "\n",
    "print()\n",
    "print(\"Model Performance Report on train\")\n",
    "print(classification_report(ytrain_over,dt_grid.predict(xtrain_over[list(rfe_features)])))\n",
    "print()\n",
    "cv_dt_grid = cross_val_score(DecisionTreeClassifier(criterion=\"gini\",max_depth=9,min_samples_leaf=30,min_samples_split=60),xtrain_over[list(rfe_features)],ytrain_over,cv=3,scoring=\"f1\")\n",
    "print(\"Mean of f1 scores:\",cv_dt_grid.mean())\n",
    "print(\"Deviation in f1 scores:\",cv_dt_grid.std())\n",
    "results_features.iloc[2,0] = \"Feature Importances\"\n",
    "results_features.iloc[2,1] = f1_train_dt_grid\n",
    "results_features.iloc[2,2] = f1_test_dt_grid\n",
    "results_features.iloc[2,3] = cv_dt_grid.mean()\n",
    "results_features.iloc[2,4] = cv_dt_grid.std()\n",
    "print()\n",
    "print(\"Model Performance Report on test\")\n",
    "print(classification_report(ytest,dt_grid.predict(xtest[list(rfe_features)])))\n",
    "\n",
    "fpr, tpr, thres = roc_curve(ytest,dt_grid.predict_proba(xtest[list(rfe_features)])[:,1])\n",
    "plt.plot(fpr,tpr)\n",
    "plt.fill_between(fpr,tpr)\n",
    "plt.title(f\"AUC Score: {roc_auc_score(ytest,dt_grid.predict_proba(xtest[list(rfe_features)])[:,1])}\",size=15)\n",
    "plt.xlabel(\"False Positive Rate\")\n",
    "plt.ylabel(\"True Positive Rate\")\n",
    "plt.show()\n",
    "\n",
    "sns.heatmap(confusion_matrix(ytest,dt_grid.predict(xtest[list(rfe_features)])),annot=True,fmt=\"g\")\n",
    "plt.title(\"Tuned Decision Tree with Feature Imp Features\",size=15)\n",
    "plt.xlabel(\"Predicted\")\n",
    "plt.ylabel(\"Actual\")\n",
    "plt.xticks([0.5,1.5],[\"No\",\"Yes\"])\n",
    "plt.yticks([0.5,1.5],[\"No\",\"Yes\"])\n",
    "plt.show()"
   ]
  },
  {
   "cell_type": "markdown",
   "metadata": {},
   "source": [
    "#### Inferences - \n",
    "- Based on finding the optimal parameters for decision tree using top features from feature importances, we obtained a model with a slight increase in f1 score on class 1 i.e from 0.4468 to 0.4502.\n",
    "- Also the model noticed an increase in auc score from 0.8443 to 0.8494."
   ]
  },
  {
   "cell_type": "markdown",
   "metadata": {},
   "source": [
    "# Business Interpretation of the Model\n",
    "\n",
    "- We started with a dataset consisting of around 380K Health insurance holders, of which only 13% had gone on to purchase a vehicle insurance.\n",
    "\n",
    "\n",
    "- Based on an in-depth analysis of all features and extensive trial and error, we have created a Decision tree model to predict which health insurance customers would buy a vehicle insurance.\n",
    "\n",
    "\n",
    "- The model has been tuned with the optimal parameters to improve quality of the predictions.\n",
    "\n",
    "**Key insights about the model** -\n",
    "- For creating the models the most useful features for identifying potential vehicle insurance customers were chosen. These features can be the key focus points for salesmen or the organization to target when trying to identify potential vehicle insurance holders. The best features were whether a health insurance holder - \n",
    "     - Had a car which was not damaged before.\n",
    "     - Age of the holder.\n",
    "     - Had a vehicle that was not insured previously.\n",
    "     - Was a male\n",
    "     - Belonged to the regions coded 28, 50.\n",
    "     - Was approached by policy sales channel 26, 152 or 160.\n",
    "     - Had a vehicle that was around 1-2 years old.\n",
    "     \n",
    "     \n",
    "- Based on the chosen features and optimal parameters the final model produced a train f1 score of 0.70 during training phase and scored a f1 score of 0.45 during test. The model was very reliable and produced consistent results, based on a deviation in f1 scores across several test samples calculated to only 0.5%.\n",
    "\n",
    "\n"
   ]
  }
 ],
 "metadata": {
  "kernelspec": {
   "display_name": "Python 3",
   "language": "python",
   "name": "python3"
  },
  "language_info": {
   "codemirror_mode": {
    "name": "ipython",
    "version": 3
   },
   "file_extension": ".py",
   "mimetype": "text/x-python",
   "name": "python",
   "nbconvert_exporter": "python",
   "pygments_lexer": "ipython3",
   "version": "3.8.10"
  }
 },
 "nbformat": 4,
 "nbformat_minor": 4
}
